{
 "cells": [
  {
   "cell_type": "markdown",
   "metadata": {
    "application/vnd.databricks.v1+cell": {
     "cellMetadata": {},
     "inputWidgets": {},
     "nuid": "a136e0dd-4cbb-4b04-98bc-c778ddf4dfcd",
     "showTitle": false,
     "tableResultSettingsMap": {},
     "title": ""
    }
   },
   "source": [
    "#Imports"
   ]
  },
  {
   "cell_type": "code",
   "execution_count": 0,
   "metadata": {
    "application/vnd.databricks.v1+cell": {
     "cellMetadata": {
      "byteLimit": 2048000,
      "rowLimit": 10000
     },
     "inputWidgets": {},
     "nuid": "174c21fe-72e1-41a8-9e53-2d6adabd5508",
     "showTitle": false,
     "tableResultSettingsMap": {},
     "title": ""
    }
   },
   "outputs": [],
   "source": [
    "import numpy as np\n",
    "import pandas as pd\n",
    "from unidecode import unidecode \n",
    "from sklearn.metrics import make_scorer, mean_absolute_error, mean_absolute_percentage_error\n",
    "from sklearn.model_selection import cross_val_score, KFold\n",
    "from sklearn.tree import DecisionTreeRegressor\n",
    "from sklearn.linear_model import LinearRegression\n",
    "from sklearn.ensemble import RandomForestRegressor\n",
    "from sklearn.base import BaseEstimator, TransformerMixin\n",
    "from sklearn.pipeline import Pipeline\n",
    "from xgboost import XGBRegressor\n",
    "from lightgbm import LGBMRegressor\n",
    "from catboost import CatBoostRegressor\n",
    "import optuna\n",
    "import joblib\n",
    "import json"
   ]
  },
  {
   "cell_type": "markdown",
   "metadata": {
    "application/vnd.databricks.v1+cell": {
     "cellMetadata": {},
     "inputWidgets": {},
     "nuid": "a39ecc0f-4364-4f6b-9ef7-7b98ccb1dbbe",
     "showTitle": false,
     "tableResultSettingsMap": {},
     "title": ""
    }
   },
   "source": [
    "#Funçoes"
   ]
  },
  {
   "cell_type": "code",
   "execution_count": 0,
   "metadata": {
    "application/vnd.databricks.v1+cell": {
     "cellMetadata": {
      "byteLimit": 2048000,
      "rowLimit": 10000
     },
     "inputWidgets": {},
     "nuid": "8e221b9c-aeb3-430a-99fd-93cc1029e056",
     "showTitle": false,
     "tableResultSettingsMap": {},
     "title": ""
    }
   },
   "outputs": [],
   "source": [
    "def prepare_data(X):\n",
    "    X = X.copy()\n",
    "    for col in ['fumante', 'regiao', 'facebook', 'classe']:\n",
    "        if col in X.columns:\n",
    "            # Converter para float antes de categoria\n",
    "            X[col] = pd.to_numeric(X[col], errors='coerce').astype('category')\n",
    "    return X\n",
    "\n",
    "class SafeColumnTransformer(BaseEstimator, TransformerMixin):\n",
    "    def __init__(self, transformer, columns):\n",
    "        self.transformer = transformer\n",
    "        self.columns = columns\n",
    "        self.columns_present_fit_ = []\n",
    "\n",
    "    def fit(self, X, y=None):\n",
    "        self.columns_present_fit_ = [col for col in self.columns if col in X.columns]\n",
    "        if self.columns_present_fit_:\n",
    "            self.transformer.fit(X[self.columns_present_fit_], y)\n",
    "        return self\n",
    "\n",
    "    def transform(self, X):\n",
    "        # Garante que as colunas que existiam no fit estejam presentes\n",
    "        cols = self.columns_present_fit_\n",
    "        missing_cols = [col for col in cols if col not in X.columns]\n",
    "        \n",
    "        # Cria DataFrame com as colunas faltantes preenchidas com NaN\n",
    "        if missing_cols:\n",
    "            for col in missing_cols:\n",
    "                X[col] = np.nan\n",
    "        \n",
    "        # Ordena colunas conforme o fit\n",
    "        X_ordered = X[cols]\n",
    "\n",
    "        return self.transformer.transform(X_ordered)\n",
    "\n",
    "    def get_feature_names_out(self, input_features=None):\n",
    "        try:\n",
    "            return self.transformer.get_feature_names_out()\n",
    "        except AttributeError:\n",
    "            return np.array(self.columns_present_fit_)\n"
   ]
  },
  {
   "cell_type": "code",
   "execution_count": 0,
   "metadata": {
    "application/vnd.databricks.v1+cell": {
     "cellMetadata": {
      "byteLimit": 2048000,
      "rowLimit": 10000
     },
     "inputWidgets": {},
     "nuid": "a2347f5f-f530-4498-ab04-7c21f9d6976a",
     "showTitle": false,
     "tableResultSettingsMap": {},
     "title": ""
    }
   },
   "outputs": [],
   "source": [
    "def quantile_loss_metric(y_true, y_pred, q=0.8):\n",
    "    y_true = np.array(y_true).flatten()\n",
    "    y_pred = np.array(y_pred).flatten()\n",
    "    residual = y_true - y_pred\n",
    "    return np.mean(np.maximum(q * residual, (q - 1) * residual))\n",
    "\n",
    "def bias_metric(y_true, y_pred):\n",
    "    return np.mean(y_pred - y_true)\n",
    "\n",
    "def percentual_subestimativas(y_true, y_pred):\n",
    "    return np.mean(y_pred < y_true)\n",
    "\n",
    "def avaliar_modelo(modelo, X_train, y_train, X_test, y_test, nome_modelo):\n",
    "    # Fit\n",
    "    modelo.fit(X_train, y_train)\n",
    "\n",
    "    # Previsões\n",
    "    y_pred_train = modelo.predict(X_train)\n",
    "    y_pred_test = modelo.predict(X_test)\n",
    "\n",
    "    # Métricas treino\n",
    "    met_train = {\n",
    "        \"modelo\": nome_modelo,\n",
    "        \"dataset\": \"train\",\n",
    "        \"quantile_loss\": quantile_loss_metric(y_train, y_pred_train),\n",
    "        \"mae\": mean_absolute_error(y_train, y_pred_train),\n",
    "        \"mape\": mean_absolute_percentage_error(y_train, y_pred_train),\n",
    "        \"bias\": bias_metric(y_train, y_pred_train),\n",
    "        \"pct_subestimado\": percentual_subestimativas(y_train, y_pred_train)\n",
    "    }\n",
    "\n",
    "    # Métricas teste\n",
    "    met_test = {\n",
    "        \"modelo\": nome_modelo,\n",
    "        \"dataset\": \"test\",\n",
    "        \"quantile_loss\": quantile_loss_metric(y_test, y_pred_test),\n",
    "        \"mae\": mean_absolute_error(y_test, y_pred_test),\n",
    "        \"mape\": mean_absolute_percentage_error(y_test, y_pred_test),\n",
    "        \"bias\": bias_metric(y_test, y_pred_test),\n",
    "        \"pct_subestimado\": percentual_subestimativas(y_test, y_pred_test)\n",
    "    }\n",
    "\n",
    "    return pd.DataFrame([met_train, met_test])\n"
   ]
  },
  {
   "cell_type": "code",
   "execution_count": 0,
   "metadata": {
    "application/vnd.databricks.v1+cell": {
     "cellMetadata": {
      "byteLimit": 2048000,
      "rowLimit": 10000
     },
     "inputWidgets": {},
     "nuid": "82b16b95-3aae-4b16-8ef1-b4c462a33987",
     "showTitle": false,
     "tableResultSettingsMap": {},
     "title": ""
    }
   },
   "outputs": [],
   "source": [
    "class EarlyStoppingCallback:\n",
    "    def __init__(self, patience: int):\n",
    "        self.patience = patience\n",
    "        self.best_score = None\n",
    "        self.num_no_improvement = 0\n",
    "\n",
    "    def __call__(self, study: optuna.study.Study, trial: optuna.trial.FrozenTrial):\n",
    "        current_score = study.best_value\n",
    "        if self.best_score is None or current_score > self.best_score:\n",
    "            self.best_score = current_score\n",
    "            self.num_no_improvement = 0\n",
    "        else:\n",
    "            self.num_no_improvement += 1\n",
    "\n",
    "        if self.num_no_improvement >= self.patience:\n",
    "            study.stop()\n"
   ]
  },
  {
   "cell_type": "markdown",
   "metadata": {
    "application/vnd.databricks.v1+cell": {
     "cellMetadata": {},
     "inputWidgets": {},
     "nuid": "312b1b56-4b75-4738-884b-96a912e1c662",
     "showTitle": false,
     "tableResultSettingsMap": {},
     "title": ""
    }
   },
   "source": [
    "#Lendo e preparando os dados"
   ]
  },
  {
   "cell_type": "code",
   "execution_count": 0,
   "metadata": {
    "application/vnd.databricks.v1+cell": {
     "cellMetadata": {
      "byteLimit": 2048000,
      "rowLimit": 10000
     },
     "inputWidgets": {},
     "nuid": "badc2fe6-d795-4344-8c83-aa9ff7da2dfe",
     "showTitle": false,
     "tableResultSettingsMap": {},
     "title": ""
    }
   },
   "outputs": [],
   "source": [
    "x_train = pd.read_parquet('data/x_train_prepared.parquet')\n",
    "y_train = pd.read_excel('data/Seguro Saúde - Modelagem.xlsx', sheet_name='MODELAGEM')\n",
    "df_test = pd.read_excel('data/Seguro Saúde - Teste Final.xlsx')\n",
    "\n",
    "# Função que deixa colunas minúsculas\n",
    "def normalize_columns(df):\n",
    "    df.columns = [unidecode(col).lower() for col in df.columns]\n",
    "    return df\n",
    "\n",
    "# Função para normalizar os valores das colunas de texto\n",
    "def normalize_text_values(df):\n",
    "    for col in df.select_dtypes(include=['object']).columns:\n",
    "        df[col] = df[col].apply(lambda x: unidecode(x).lower() if isinstance(x, str) else x)\n",
    "    return df\n",
    "\n",
    "df_test = normalize_columns(df_test) \n",
    "df_test = normalize_text_values(df_test)\n",
    "x_test = df_test.drop(['nascimento', 'valor'], axis=1)\n",
    "y_test = df_test[['matricula', 'valor']]\n",
    "\n",
    "y_train = normalize_columns(y_train) \n",
    "y_train = normalize_text_values(y_train)\n",
    "y_train = y_train[['matricula', 'valor']]\n",
    "\n",
    "display(x_train.head())\n",
    "display(y_train.head())\n",
    "display(x_test.head())\n",
    "display(y_test.head())"
   ]
  },
  {
   "cell_type": "code",
   "execution_count": 0,
   "metadata": {
    "application/vnd.databricks.v1+cell": {
     "cellMetadata": {
      "byteLimit": 2048000,
      "rowLimit": 10000
     },
     "inputWidgets": {},
     "nuid": "7f9f1849-16ae-4c06-a814-662156969fd2",
     "showTitle": false,
     "tableResultSettingsMap": {},
     "title": ""
    }
   },
   "outputs": [],
   "source": [
    "ranked_features = pd.read_csv('artifacts/boruta_feature_ranking.csv')\n",
    "\n",
    "sel_features = ranked_features[ranked_features.selected == True]['feature']\n",
    "x_train_sel = x_train[sel_features]\n",
    "\n",
    "y_train = y_train[['valor']]\n",
    "\n",
    "display(x_train_sel.head())\n",
    "display(y_train.head())"
   ]
  },
  {
   "cell_type": "code",
   "execution_count": 0,
   "metadata": {
    "application/vnd.databricks.v1+cell": {
     "cellMetadata": {
      "byteLimit": 2048000,
      "rowLimit": 10000
     },
     "inputWidgets": {},
     "nuid": "70762238-4ec2-454f-8703-c0890a621abd",
     "showTitle": false,
     "tableResultSettingsMap": {},
     "title": ""
    }
   },
   "outputs": [],
   "source": [
    "full_pipeline = joblib.load(\"artifacts/pipeline_completo.pkl\")\n",
    "\n",
    "x_test_prep = full_pipeline.transform(x_test)\n",
    "\n",
    "feature_names = full_pipeline.named_steps['preprocess'].get_feature_names_out()\n",
    "x_test_prep = pd.DataFrame(x_test_prep, columns=feature_names, index=x_test.index)\n",
    "\n",
    "display(x_test_prep.head())"
   ]
  },
  {
   "cell_type": "code",
   "execution_count": 0,
   "metadata": {
    "application/vnd.databricks.v1+cell": {
     "cellMetadata": {
      "byteLimit": 2048000,
      "rowLimit": 10000
     },
     "inputWidgets": {},
     "nuid": "06416be7-1ee0-4ba3-8b66-7ff780b14d13",
     "showTitle": false,
     "tableResultSettingsMap": {},
     "title": ""
    }
   },
   "outputs": [],
   "source": [
    "x_test_prep_sel = x_test_prep[sel_features]\n",
    "\n",
    "y_test = y_test[['valor']]\n",
    "\n",
    "display(x_test_prep_sel.head())\n",
    "display(y_test.head())"
   ]
  },
  {
   "cell_type": "markdown",
   "metadata": {
    "application/vnd.databricks.v1+cell": {
     "cellMetadata": {},
     "inputWidgets": {},
     "nuid": "bc07a4e0-8a56-4215-8a19-e0cf5bad1dc2",
     "showTitle": false,
     "tableResultSettingsMap": {},
     "title": ""
    }
   },
   "source": [
    "#Escolha do modelo campeao"
   ]
  },
  {
   "cell_type": "code",
   "execution_count": 0,
   "metadata": {
    "application/vnd.databricks.v1+cell": {
     "cellMetadata": {
      "byteLimit": 2048000,
      "rowLimit": 10000
     },
     "inputWidgets": {},
     "nuid": "815e2dc1-9d4e-4cfa-b192-d843db56b544",
     "showTitle": false,
     "tableResultSettingsMap": {},
     "title": ""
    }
   },
   "outputs": [],
   "source": [
    "modelos = {\n",
    "    \"LinearRegression\": LinearRegression(),\n",
    "    \"DecisionTree\": DecisionTreeRegressor(random_state=42),\n",
    "    \"RandomForest\": RandomForestRegressor(n_jobs=-1, random_state=42),\n",
    "    \"XGBoost\": XGBRegressor(n_jobs=-1, random_state=42),\n",
    "    \"LightGBM\": LGBMRegressor(n_jobs=-1, random_state=42),\n",
    "    \"CatBoost\": CatBoostRegressor(verbose=0, random_state=42)\n",
    "}\n",
    "\n",
    "# Avaliação de todos os modelos\n",
    "relatorios = []\n",
    "y_train = y_train.squeeze()\n",
    "y_test = y_test.squeeze()\n",
    "\n",
    "for nome, modelo in modelos.items():\n",
    "    df_metrics = avaliar_modelo(modelo, x_train_sel, y_train, x_test_prep_sel, y_test, nome)\n",
    "    relatorios.append(df_metrics)\n",
    "\n",
    "# Concatenar tudo\n",
    "df_resultados = pd.concat(relatorios, ignore_index=True)"
   ]
  },
  {
   "cell_type": "code",
   "execution_count": 0,
   "metadata": {
    "application/vnd.databricks.v1+cell": {
     "cellMetadata": {
      "byteLimit": 2048000,
      "rowLimit": 10000
     },
     "inputWidgets": {},
     "nuid": "28e2a2fb-cafb-4884-86e3-3855637239e7",
     "showTitle": false,
     "tableResultSettingsMap": {},
     "title": ""
    }
   },
   "outputs": [],
   "source": [
    "display(df_resultados.sort_values(by=[\"dataset\", \"quantile_loss\"]))\n"
   ]
  },
  {
   "cell_type": "markdown",
   "metadata": {
    "application/vnd.databricks.v1+cell": {
     "cellMetadata": {},
     "inputWidgets": {},
     "nuid": "02be9278-628b-4252-bee4-4d495d6a16f4",
     "showTitle": false,
     "tableResultSettingsMap": {},
     "title": ""
    }
   },
   "source": [
    "Tendo em conta que para um planejamento anual é preferível que o modelo errw superestimando o custo anual, uma vez que se errar para menos é mais arriscado pra companhia de saúde, preferimos o erro superestimado. Por isso uma Q-loss com penalizaçao para erros negativos (y_pred < y_real). Com base nisso e na análise dos resultados no conjunto de teste, definimos o catboost como o modelo vencedor uma vez que:\n",
    "- Tem o melhor Q-loss, o que evita subestimar custo anual\n",
    "- Tem o segundo menor MAPE \n",
    "- Tem o segundo menor MAE\n",
    "- Tem o menor bias positivo que indica que ele erra pra mais mas nao tanto quanto os outros"
   ]
  },
  {
   "cell_type": "markdown",
   "metadata": {
    "application/vnd.databricks.v1+cell": {
     "cellMetadata": {},
     "inputWidgets": {},
     "nuid": "43d79d66-aa0d-416c-ab08-4e6746b8ac0e",
     "showTitle": false,
     "tableResultSettingsMap": {},
     "title": ""
    }
   },
   "source": [
    "#Hypertunning do CatBoost"
   ]
  },
  {
   "cell_type": "code",
   "execution_count": 0,
   "metadata": {
    "application/vnd.databricks.v1+cell": {
     "cellMetadata": {
      "byteLimit": 2048000,
      "rowLimit": 10000
     },
     "inputWidgets": {},
     "nuid": "303b8b84-f7d9-4584-932d-9ca4ffd1e2c7",
     "showTitle": false,
     "tableResultSettingsMap": {},
     "title": ""
    }
   },
   "outputs": [],
   "source": [
    "q_loss_scorer = make_scorer(quantile_loss_metric, greater_is_better=False)\n",
    "\n",
    "def objective_catboost(trial):\n",
    "    params = {\n",
    "        \"iterations\": 10000,\n",
    "        \"learning_rate\": trial.suggest_float(\"learning_rate\", 0.01, 0.3, log=True),\n",
    "        \"depth\": trial.suggest_int(\"depth\", 4, 10),\n",
    "        \"l2_leaf_reg\": trial.suggest_float(\"l2_leaf_reg\", 1e-2, 100.0, log=True),\n",
    "        \"bagging_temperature\": trial.suggest_float(\"bagging_temperature\", 0.0, 1.0),\n",
    "        \"border_count\": trial.suggest_int(\"border_count\", 32, 255),\n",
    "        \"min_data_in_leaf\": trial.suggest_int(\"min_data_in_leaf\", 1, 20),\n",
    "        \"random_strength\": trial.suggest_float(\"random_strength\", 1e-3, 10.0, log=True),\n",
    "        \"loss_function\": \"Quantile:alpha=0.8\",\n",
    "        \"early_stopping_rounds\": 50,\n",
    "        \"random_seed\": 42,\n",
    "        \"verbose\": 0\n",
    "    }\n",
    "\n",
    "    model = CatBoostRegressor(**params)\n",
    "\n",
    "    kf = KFold(n_splits=10, shuffle=True, random_state=42)\n",
    "    scores = cross_val_score(model, x_train_sel, y_train.squeeze(),\n",
    "                             scoring=q_loss_scorer, cv=kf, n_jobs=-1)\n",
    "    \n",
    "    return scores.mean()\n"
   ]
  },
  {
   "cell_type": "code",
   "execution_count": 0,
   "metadata": {
    "application/vnd.databricks.v1+cell": {
     "cellMetadata": {
      "byteLimit": 2048000,
      "rowLimit": 10000
     },
     "inputWidgets": {},
     "nuid": "98be573e-b767-43ec-adf5-8a6aa302c1af",
     "showTitle": false,
     "tableResultSettingsMap": {},
     "title": ""
    }
   },
   "outputs": [],
   "source": [
    "early_stopping = EarlyStoppingCallback(patience=20)\n",
    "\n",
    "study = optuna.create_study(direction=\"maximize\", study_name=\"catboost_q_loss_opt\")\n",
    "study.optimize(objective_catboost, n_trials=200, callbacks=[early_stopping], show_progress_bar=True)\n",
    "\n",
    "with open(\"artifacts/best_catboost_params.json\", \"w\") as f:\n",
    "    json.dump(study.best_trial.params, f)\n"
   ]
  },
  {
   "cell_type": "code",
   "execution_count": 0,
   "metadata": {
    "application/vnd.databricks.v1+cell": {
     "cellMetadata": {
      "byteLimit": 2048000,
      "rowLimit": 10000
     },
     "inputWidgets": {},
     "nuid": "ec1fc8a1-bb09-4bbd-a94a-e9c283c865ac",
     "showTitle": false,
     "tableResultSettingsMap": {},
     "title": ""
    }
   },
   "outputs": [],
   "source": [
    "with open(\"artifacts/best_catboost_params.json\", \"r\") as f:\n",
    "    best_params = json.load(f)\n",
    "\n",
    "best_params.update({\n",
    "    \"iterations\": 10000,\n",
    "    \"loss_function\": \"Quantile:alpha=0.8\",\n",
    "    \"early_stopping_rounds\": 50,\n",
    "    \"random_seed\": 42,\n",
    "    \"verbose\": 0\n",
    "})\n",
    "\n",
    "modelo_final = CatBoostRegressor(**best_params)\n",
    "modelo_final.fit(x_train_sel, y_train.squeeze())"
   ]
  },
  {
   "cell_type": "code",
   "execution_count": 0,
   "metadata": {
    "application/vnd.databricks.v1+cell": {
     "cellMetadata": {
      "byteLimit": 2048000,
      "rowLimit": 10000
     },
     "inputWidgets": {},
     "nuid": "c8de60c8-379d-4083-8af2-d9d5704223f8",
     "showTitle": false,
     "tableResultSettingsMap": {},
     "title": ""
    }
   },
   "outputs": [],
   "source": [
    "joblib.dump(modelo_final, \"artifacts/catboost_model_final.pkl\")"
   ]
  },
  {
   "cell_type": "code",
   "execution_count": 0,
   "metadata": {
    "application/vnd.databricks.v1+cell": {
     "cellMetadata": {
      "byteLimit": 2048000,
      "rowLimit": 10000
     },
     "inputWidgets": {},
     "nuid": "887cc2b1-eb4c-4d69-8869-a478a887d2e1",
     "showTitle": false,
     "tableResultSettingsMap": {},
     "title": ""
    }
   },
   "outputs": [],
   "source": [
    "feature_names = x_train_sel.columns if isinstance(x_train_sel, pd.DataFrame) else [f\"feat_{i}\" for i in range(x_train_sel.shape[1])]\n",
    "\n",
    "importances = modelo_final.get_feature_importance()\n",
    "plt.figure(figsize=(10, 6))\n",
    "plt.barh(feature_names, importances)\n",
    "plt.xlabel(\"Importance\")\n",
    "plt.title(\"CatBoost - Feature Importance\")\n",
    "plt.gca().invert_yaxis()\n",
    "plt.tight_layout()\n",
    "plt.show()\n",
    "\n",
    "plt.savefig(\"plots/catboost_final_feature_importance.png\")"
   ]
  },
  {
   "cell_type": "markdown",
   "metadata": {
    "application/vnd.databricks.v1+cell": {
     "cellMetadata": {},
     "inputWidgets": {},
     "nuid": "145dd2ec-18d6-4864-83c1-6ee0219e42aa",
     "showTitle": false,
     "tableResultSettingsMap": {},
     "title": ""
    }
   },
   "source": [
    "# Performance Assessment"
   ]
  },
  {
   "cell_type": "code",
   "execution_count": 0,
   "metadata": {
    "application/vnd.databricks.v1+cell": {
     "cellMetadata": {
      "byteLimit": 2048000,
      "rowLimit": 10000
     },
     "inputWidgets": {},
     "nuid": "35bf0b93-16d5-4475-9e0b-b4212209704b",
     "showTitle": false,
     "tableResultSettingsMap": {},
     "title": ""
    }
   },
   "outputs": [],
   "source": [
    "y_pred_test = modelo_final.predict(x_test_prep_sel)\n",
    "\n",
    "relatorio_final = {\n",
    "    \"quantile_loss\": quantile_loss_metric(y_test, y_pred_test),\n",
    "    \"mae\": mean_absolute_error(y_test, y_pred_test),\n",
    "    \"mape\": mean_absolute_percentage_error(y_test, y_pred_test),\n",
    "    \"bias\": bias_metric(y_test.squeeze(), y_pred_test),\n",
    "    \"pct_subestimado\": percentual_subestimativas(y_test.squeeze(), y_pred_test)\n",
    "}\n",
    "\n",
    "df_relatorio_final = pd.DataFrame([relatorio_final])\n",
    "display(df_relatorio_final)\n",
    "\n",
    "df_relatorio_final.to_csv(\"artifacts/catboost_relatorio_final_test.csv\", index=False)"
   ]
  },
  {
   "cell_type": "code",
   "execution_count": 0,
   "metadata": {
    "application/vnd.databricks.v1+cell": {
     "cellMetadata": {
      "byteLimit": 2048000,
      "rowLimit": 10000
     },
     "inputWidgets": {},
     "nuid": "7b831a12-8b45-43fa-9f0e-e61e15470fca",
     "showTitle": false,
     "tableResultSettingsMap": {},
     "title": ""
    }
   },
   "outputs": [],
   "source": [
    "erro_abs = np.abs(y_test.squeeze() - y_pred_test)\n",
    "\n",
    "plt.figure(figsize=(8, 4))\n",
    "plt.hist(erro_abs, bins=30, edgecolor=\"k\")\n",
    "plt.title(\"Distribuição do Erro Absoluto (|y - y_pred|)\")\n",
    "plt.xlabel(\"Erro Absoluto\")\n",
    "plt.ylabel(\"Frequência\")\n",
    "plt.grid(True)\n",
    "plt.tight_layout()\n",
    "plt.show()\n",
    "\n",
    "plt.savefig(\"plots/catboost_final_erro_abs.png\")"
   ]
  },
  {
   "cell_type": "code",
   "execution_count": 0,
   "metadata": {
    "application/vnd.databricks.v1+cell": {
     "cellMetadata": {
      "byteLimit": 2048000,
      "rowLimit": 10000
     },
     "inputWidgets": {},
     "nuid": "dc7f2447-294c-4e94-b9e8-6bf6ca29e736",
     "showTitle": false,
     "tableResultSettingsMap": {},
     "title": ""
    }
   },
   "outputs": [],
   "source": [
    "q_loss_individual = np.maximum(0.8 * (y_test.squeeze() - y_pred_test), (0.8 - 1) * (y_test.squeeze() - y_pred_test))\n",
    "mape_individual = np.abs((y_test.squeeze() - y_pred_test) / y_test.squeeze())\n",
    "mae_individual = np.abs(y_test.squeeze() - y_pred_test)\n",
    "\n",
    "df_erros = pd.DataFrame({\n",
    "    \"Q-Loss\": q_loss_individual,\n",
    "    \"MAE\": mae_individual,\n",
    "    \"MAPE\": mape_individual\n",
    "})\n",
    "\n",
    "\n",
    "plt.figure(figsize=(10, 5))\n",
    "df_erros.boxplot()\n",
    "plt.title(\"Distribuição das Métricas Individuais no Conjunto de Teste\")\n",
    "plt.ylabel(\"Erro\")\n",
    "plt.grid(True)\n",
    "plt.tight_layout()\n",
    "plt.show()\n",
    "\n",
    "plt.savefig(\"plots/catboost_final_erros_individuais.png\")\n"
   ]
  },
  {
   "cell_type": "code",
   "execution_count": 0,
   "metadata": {
    "application/vnd.databricks.v1+cell": {
     "cellMetadata": {
      "byteLimit": 2048000,
      "rowLimit": 10000
     },
     "inputWidgets": {},
     "nuid": "1a76a75d-476a-428a-a8b2-1ca96f7c1824",
     "showTitle": false,
     "tableResultSettingsMap": {},
     "title": ""
    }
   },
   "outputs": [],
   "source": [
    "plt.figure(figsize=(6, 6))\n",
    "plt.scatter(y_test.squeeze(), y_pred_test, alpha=0.5)\n",
    "plt.plot([y_test.min(), y_test.max()], [y_test.min(), y_test.max()], 'r--', label=\"Ideal\")\n",
    "plt.xlabel(\"Valor Real\")\n",
    "plt.ylabel(\"Valor Predito\")\n",
    "plt.title(\"Real vs Predito - Teste\")\n",
    "plt.legend()\n",
    "plt.grid(True)\n",
    "plt.tight_layout()\n",
    "plt.show()\n",
    "\n",
    "plt.savefig(\"plots/catboost_final_real_vs_predito.png\")"
   ]
  },
  {
   "cell_type": "markdown",
   "metadata": {
    "application/vnd.databricks.v1+cell": {
     "cellMetadata": {},
     "inputWidgets": {},
     "nuid": "c8197ab5-65eb-4341-bf43-ec81cd5b8240",
     "showTitle": false,
     "tableResultSettingsMap": {},
     "title": ""
    }
   },
   "source": [
    "Pelos gráficos, concluimos que:\n",
    "- Real vs Predito: \n",
    "  - A maioria dos pontos segue bem a linha vermelha (ideal).\n",
    "  - Alguns pontos destoam bastante, especialmente:\n",
    "    - Para valores reais entre R$ 3000 e R$ 8000: o modelo subestimou ou superestimou significativamente.\n",
    "  - Alguns outliers extremos (acima de R$ 10.000) foram previsões bem próximas do ideal, o que é ótimo.\n",
    "- Boxplots:\n",
    "  - Distribuição concentrada nas métricas (sobretudo Q-Loss e MAPE)\n",
    "  - Outliers influenciam bastante o MAE — o que é esperado em regressões com caudas longas (gastos de saúde)\n",
    "  - MAPE muito pequeno para maioria dos casos → a mediana está visivelmente baixa\n",
    "\n",
    "- Histogram do erro absoluto:\n",
    "  - A grande maioria dos erros absolutos está abaixo de R$ 1000\n",
    "  - Poucos casos têm erro muito alto (R$ 3000+), mas eles existem — e explicam o MAE de ~R$ 890\n",
    "\n",
    "Conclusão: desempenho muito bom na maior parte dos dados, com poucos erros extremos."
   ]
  },
  {
   "cell_type": "markdown",
   "metadata": {
    "application/vnd.databricks.v1+cell": {
     "cellMetadata": {},
     "inputWidgets": {},
     "nuid": "0f48741b-e0da-4821-8e31-251b807096af",
     "showTitle": false,
     "tableResultSettingsMap": {},
     "title": ""
    }
   },
   "source": [
    "\n"
   ]
  }
 ],
 "metadata": {
  "application/vnd.databricks.v1+notebook": {
   "computePreferences": null,
   "dashboards": [],
   "environmentMetadata": {
    "base_environment": "",
    "environment_version": "2"
   },
   "inputWidgetPreferences": null,
   "language": "python",
   "notebookMetadata": {
    "pythonIndentUnit": 4
   },
   "notebookName": "trainning_and_testing",
   "widgets": {}
  },
  "language_info": {
   "name": "python"
  }
 },
 "nbformat": 4,
 "nbformat_minor": 0
}
