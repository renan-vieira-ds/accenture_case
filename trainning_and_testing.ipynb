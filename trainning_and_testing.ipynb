{
 "cells": [
  {
   "cell_type": "markdown",
   "metadata": {
    "application/vnd.databricks.v1+cell": {
     "cellMetadata": {},
     "inputWidgets": {},
     "nuid": "a136e0dd-4cbb-4b04-98bc-c778ddf4dfcd",
     "showTitle": false,
     "tableResultSettingsMap": {},
     "title": ""
    }
   },
   "source": [
    "#Imports"
   ]
  },
  {
   "cell_type": "code",
   "execution_count": 0,
   "metadata": {
    "application/vnd.databricks.v1+cell": {
     "cellMetadata": {
      "byteLimit": 2048000,
      "rowLimit": 10000
     },
     "inputWidgets": {},
     "nuid": "174c21fe-72e1-41a8-9e53-2d6adabd5508",
     "showTitle": false,
     "tableResultSettingsMap": {},
     "title": ""
    }
   },
   "outputs": [],
   "source": [
    "import numpy as np\n",
    "import pandas as pd\n",
    "import matplotlib.pyplot as plt\n",
    "from unidecode import unidecode \n",
    "from sklearn.metrics import make_scorer, mean_absolute_error, mean_absolute_percentage_error\n",
    "from sklearn.model_selection import cross_val_score, KFold\n",
    "from sklearn.tree import DecisionTreeRegressor\n",
    "from sklearn.linear_model import LinearRegression, Ridge, Lasso\n",
    "from sklearn.ensemble import RandomForestRegressor, HistGradientBoostingRegressor\n",
    "from sklearn.base import BaseEstimator, TransformerMixin\n",
    "from sklearn.pipeline import Pipeline\n",
    "from xgboost import XGBRegressor\n",
    "from lightgbm import LGBMRegressor\n",
    "from catboost import CatBoostRegressor\n",
    "import optuna\n",
    "import joblib\n",
    "import json\n",
    "import mlflow\n",
    "import mlflow.sklearn\n",
    "from mlflow.models import infer_signature\n",
    "from mlflow.data import from_pandas\n",
    "from datetime import datetime\n",
    "from tqdm import tqdm\n"
   ]
  },
  {
   "cell_type": "markdown",
   "metadata": {
    "application/vnd.databricks.v1+cell": {
     "cellMetadata": {},
     "inputWidgets": {},
     "nuid": "a39ecc0f-4364-4f6b-9ef7-7b98ccb1dbbe",
     "showTitle": false,
     "tableResultSettingsMap": {},
     "title": ""
    }
   },
   "source": [
    "#Funçoes"
   ]
  },
  {
   "cell_type": "code",
   "execution_count": 0,
   "metadata": {
    "application/vnd.databricks.v1+cell": {
     "cellMetadata": {
      "byteLimit": 2048000,
      "rowLimit": 10000
     },
     "inputWidgets": {},
     "nuid": "45a90fa0-57cf-4660-ac01-16ec56cad6f0",
     "showTitle": false,
     "tableResultSettingsMap": {},
     "title": ""
    }
   },
   "outputs": [],
   "source": [
    "# Função que deixa colunas minúsculas\n",
    "def normalize_columns(df):\n",
    "    df.columns = [unidecode(col).lower() for col in df.columns]\n",
    "    return df\n",
    "\n",
    "# Função para normalizar os valores das colunas de texto\n",
    "def normalize_text_values(df):\n",
    "    for col in df.select_dtypes(include=['object']).columns:\n",
    "        df[col] = df[col].apply(lambda x: unidecode(x).lower() if isinstance(x, str) else x)\n",
    "    return df"
   ]
  },
  {
   "cell_type": "code",
   "execution_count": 0,
   "metadata": {
    "application/vnd.databricks.v1+cell": {
     "cellMetadata": {
      "byteLimit": 2048000,
      "rowLimit": 10000
     },
     "inputWidgets": {},
     "nuid": "a2347f5f-f530-4498-ab04-7c21f9d6976a",
     "showTitle": false,
     "tableResultSettingsMap": {},
     "title": ""
    }
   },
   "outputs": [],
   "source": [
    "def quantile_loss_metric(y_true, y_pred, q=0.8):\n",
    "    y_true = np.array(y_true).flatten()\n",
    "    y_pred = np.array(y_pred).flatten()\n",
    "    residual = y_true - y_pred\n",
    "    return np.mean(np.maximum(q * residual, (q - 1) * residual))\n",
    "\n",
    "def bias_metric(y_true, y_pred):\n",
    "    return np.mean(y_pred - y_true)\n",
    "\n",
    "def percentual_subestimativas(y_true, y_pred):\n",
    "    return np.mean(y_pred < y_true)"
   ]
  },
  {
   "cell_type": "code",
   "execution_count": 0,
   "metadata": {
    "application/vnd.databricks.v1+cell": {
     "cellMetadata": {
      "byteLimit": 2048000,
      "rowLimit": 10000
     },
     "inputWidgets": {},
     "nuid": "bfbdbcb3-4639-49fb-b385-a04eceafab97",
     "showTitle": false,
     "tableResultSettingsMap": {},
     "title": ""
    }
   },
   "outputs": [],
   "source": [
    "def avaliar_com_mlflow(modelo, nome_modelo, dataset_nome, data_path, X_train, y_train, X_test, y_test):\n",
    "    y_train = np.array(y_train).flatten()\n",
    "    y_test = np.array(y_test).flatten()\n",
    "    input_dataset = from_pandas(X_train, source=data_path, name=\"x_train\")\n",
    "\n",
    "    with mlflow.start_run(run_name=f\"{nome_modelo} - {dataset_nome}\"):\n",
    "        modelo.fit(X_train, y_train)\n",
    "        mlflow.log_input(input_dataset, context=\"training\")\n",
    "\n",
    "        y_pred_train = modelo.predict(X_train)\n",
    "        y_pred_test = modelo.predict(X_test)\n",
    "\n",
    "        # Métricas treino\n",
    "        met_train = {\n",
    "            \"modelo\": nome_modelo,\n",
    "            \"dataset\": f\"train-{dataset_nome}\",\n",
    "            \"quantile_loss\": quantile_loss_metric(y_train, y_pred_train),\n",
    "            \"mae\": mean_absolute_error(y_train, y_pred_train),\n",
    "            # \"mape\": mean_absolute_percentage_error(y_train[y_train>0], y_pred_train[y_pred_train>0]),\n",
    "            \"bias\": bias_metric(y_train, y_pred_train),\n",
    "            \"pct_subestimado\": percentual_subestimativas(y_train, y_pred_train)\n",
    "        }\n",
    "\n",
    "        # Métricas teste\n",
    "        met_test = {\n",
    "            \"modelo\": nome_modelo,\n",
    "            \"dataset\": f\"test-{dataset_nome}\",\n",
    "            \"quantile_loss\": quantile_loss_metric(y_test, y_pred_test),\n",
    "            \"mae\": mean_absolute_error(y_test, y_pred_test),\n",
    "            # \"mape\": mean_absolute_percentage_error(y_test[y_test>0], y_pred_test[y_pred_test>0]),\n",
    "            \"bias\": bias_metric(y_test, y_pred_test),\n",
    "            \"pct_subestimado\": percentual_subestimativas(y_test, y_pred_test)\n",
    "        }\n",
    "\n",
    "        # Parâmetros\n",
    "        mlflow.log_params({\n",
    "            'modelo': nome_modelo,\n",
    "            \"tipo_dataset\": dataset_nome,\n",
    "            'parametros': modelo.get_params()\n",
    "        })\n",
    "\n",
    "        mlflow.set_tag('Dataset', dataset_nome)\n",
    "\n",
    "       # Métricas treino \n",
    "        for k, v in met_train.items():\n",
    "            if k not in {\"modelo\", \"dataset\"}:\n",
    "                mlflow.log_metric(f\"{k}_train\", v)\n",
    "\n",
    "        # Métricas teste\n",
    "        for k, v in met_test.items():\n",
    "            if k not in {\"modelo\", \"dataset\"}:\n",
    "                mlflow.log_metric(f\"{k}_test\", v)\n",
    "\n",
    "        # Registro do modelo como artefato\n",
    "        try:\n",
    "            signature = infer_signature(X_train, modelo.predict(X_train))\n",
    "            mlflow.sklearn.log_model(modelo, artifact_path=\"modelo\", signature=signature)\n",
    "        except Exception as e:\n",
    "            print(f\"[Aviso] Não foi possível salvar o modelo com mlflow.sklearn: {e}\")\n",
    "\n",
    "        return pd.DataFrame([met_train, met_test])"
   ]
  },
  {
   "cell_type": "code",
   "execution_count": 0,
   "metadata": {
    "application/vnd.databricks.v1+cell": {
     "cellMetadata": {
      "byteLimit": 2048000,
      "rowLimit": 10000
     },
     "inputWidgets": {},
     "nuid": "82b16b95-3aae-4b16-8ef1-b4c462a33987",
     "showTitle": false,
     "tableResultSettingsMap": {},
     "title": ""
    }
   },
   "outputs": [],
   "source": [
    "class EarlyStoppingCallback:\n",
    "    def __init__(self, patience: int):\n",
    "        self.patience = patience\n",
    "        self.best_score = None\n",
    "        self.num_no_improvement = 0\n",
    "\n",
    "    def __call__(self, study: optuna.study.Study, trial: optuna.trial.FrozenTrial):\n",
    "        current_score = study.best_value\n",
    "        if self.best_score is None or current_score > self.best_score:\n",
    "            self.best_score = current_score\n",
    "            self.num_no_improvement = 0\n",
    "        else:\n",
    "            self.num_no_improvement += 1\n",
    "\n",
    "        if self.num_no_improvement >= self.patience:\n",
    "            study.stop()\n"
   ]
  },
  {
   "cell_type": "markdown",
   "metadata": {
    "application/vnd.databricks.v1+cell": {
     "cellMetadata": {},
     "inputWidgets": {},
     "nuid": "312b1b56-4b75-4738-884b-96a912e1c662",
     "showTitle": false,
     "tableResultSettingsMap": {},
     "title": ""
    }
   },
   "source": [
    "#Lendo e preparando os dados"
   ]
  },
  {
   "cell_type": "code",
   "execution_count": 0,
   "metadata": {
    "application/vnd.databricks.v1+cell": {
     "cellMetadata": {
      "byteLimit": 2048000,
      "rowLimit": 10000
     },
     "inputWidgets": {},
     "nuid": "329b3bff-d907-415f-b7e6-1d27e98f6fdd",
     "showTitle": false,
     "tableResultSettingsMap": {},
     "title": ""
    }
   },
   "outputs": [],
   "source": [
    "categ_cols = [\n",
    "    'sexo',\n",
    "    'signo',\n",
    "    'fumante_x_regiao',\n",
    "    'fumante_x_classe',\n",
    "    'facebook_x_regiao',\n",
    "    'facebook_x_classe',\n",
    "    'fumante_x_facebook',\n",
    "    'cat_fumante',\n",
    "    'cat_facebook',\n",
    "    'cat_idade',\n",
    "    'cat_imc',\n",
    "    'cat_filhos',\n",
    "    'cat_regiao',\n",
    "    'cat_classe'\n",
    "]"
   ]
  },
  {
   "cell_type": "code",
   "execution_count": 0,
   "metadata": {
    "application/vnd.databricks.v1+cell": {
     "cellMetadata": {
      "byteLimit": 2048000,
      "rowLimit": 10000
     },
     "inputWidgets": {},
     "nuid": "badc2fe6-d795-4344-8c83-aa9ff7da2dfe",
     "showTitle": false,
     "tableResultSettingsMap": {},
     "title": ""
    }
   },
   "outputs": [],
   "source": [
    "# X_TRAIN\n",
    "x_train = pd.read_parquet('data/x_prepared.parquet')\n",
    "\n",
    "# Y_TRAIN\n",
    "y_train = pd.read_excel('data/Seguro Saúde - Modelagem.xlsx', sheet_name='MODELAGEM')\n",
    "y_train = normalize_columns(y_train) \n",
    "y_train = normalize_text_values(y_train)\n",
    "y_train = y_train[['matricula', 'valor']]\n",
    "\n",
    "# X_TEST\n",
    "x_test = pd.read_csv('data/x_test_enginneered.csv')\n",
    "for col in categ_cols:\n",
    "    x_test[col] = x_test[col].astype('object')\n",
    "\n",
    "# Y_TEST\n",
    "y_test = pd.read_excel('data/Seguro Saúde - Teste Final.xlsx')[['MATRICULA', 'VALOR']]\n",
    "y_test.columns = [x.lower() for x in y_test.columns]\n",
    "\n",
    "# Recconhecendo os dados\n",
    "print(f'X_TRAIN: [shape{x_train.shape}]')\n",
    "display(x_train.head())\n",
    "print(f'Y_TRAIN: [shape{y_train.shape}]')\n",
    "display(y_train.head())\n",
    "print(f'X_TEST: [shape{x_test.shape}]')\n",
    "display(x_test.head())\n",
    "print(f'Y_TEST: [shape{y_test.shape}]')\n",
    "display(y_test.head())"
   ]
  },
  {
   "cell_type": "code",
   "execution_count": 0,
   "metadata": {
    "application/vnd.databricks.v1+cell": {
     "cellMetadata": {
      "byteLimit": 2048000,
      "rowLimit": 10000
     },
     "inputWidgets": {},
     "nuid": "7f9f1849-16ae-4c06-a814-662156969fd2",
     "showTitle": false,
     "tableResultSettingsMap": {},
     "title": ""
    }
   },
   "outputs": [],
   "source": [
    "sel_features = pd.read_csv('artifacts/selected_engineered_features.csv').features_selecionadas.tolist()\n",
    "x_train_sel = x_train[sel_features]\n",
    "x_train_sel.to_parquet('data/x_train_engineered_prepared_selected.parquet')\n",
    "\n",
    "y_train = y_train[['valor']]\n",
    "\n",
    "display(x_train_sel.head())\n",
    "display(y_train.head())"
   ]
  },
  {
   "cell_type": "code",
   "execution_count": 0,
   "metadata": {
    "application/vnd.databricks.v1+cell": {
     "cellMetadata": {
      "byteLimit": 2048000,
      "rowLimit": 10000
     },
     "inputWidgets": {},
     "nuid": "70762238-4ec2-454f-8703-c0890a621abd",
     "showTitle": false,
     "tableResultSettingsMap": {},
     "title": ""
    }
   },
   "outputs": [],
   "source": [
    "full_pipeline = joblib.load(\"artifacts/pipeline_engineered_features.pkl\")\n",
    "\n",
    "x_test_prep = full_pipeline.transform(x_test)\n",
    "\n",
    "feature_names = full_pipeline.get_feature_names_out()\n",
    "x_test_prep = pd.DataFrame(x_test_prep, columns=feature_names, index=x_test.index)\n",
    "x_test_prep = pd.concat([x_test[['matricula']], x_test_prep], axis=1)\n",
    "\n",
    "print(f'X_TEST_PREPARED: [shape:{x_test_prep.shape}]')\n",
    "display(x_test_prep.head())"
   ]
  },
  {
   "cell_type": "code",
   "execution_count": 0,
   "metadata": {
    "application/vnd.databricks.v1+cell": {
     "cellMetadata": {
      "byteLimit": 2048000,
      "rowLimit": 10000
     },
     "inputWidgets": {},
     "nuid": "06416be7-1ee0-4ba3-8b66-7ff780b14d13",
     "showTitle": false,
     "tableResultSettingsMap": {},
     "title": ""
    }
   },
   "outputs": [],
   "source": [
    "x_test_prep_sel = x_test_prep[sel_features]\n",
    "x_test_prep_sel.to_parquet('data/x_test_engineered_prepared_selected.parquet')\n",
    "\n",
    "y_test = y_test[['valor']]\n",
    "\n",
    "print(f'X_TEST_PREPARED_SEL: [shape:{x_test_prep_sel.shape}]')\n",
    "display(x_test_prep_sel.head())\n",
    "print(f'Y_TEST: [shape:{y_test.shape}]')\n",
    "display(y_test.head())"
   ]
  },
  {
   "cell_type": "code",
   "execution_count": 0,
   "metadata": {
    "application/vnd.databricks.v1+cell": {
     "cellMetadata": {
      "byteLimit": 2048000,
      "rowLimit": 10000
     },
     "inputWidgets": {},
     "nuid": "9cfc030c-1ed6-463d-afd9-91b3bbb1fe04",
     "showTitle": false,
     "tableResultSettingsMap": {},
     "title": ""
    }
   },
   "outputs": [],
   "source": [
    "high_corr = pd.read_csv('artifacts/high_corr_pairs.csv')\n",
    "display(high_corr)\n",
    "\n",
    "x_train_low_corr = x_train_sel.drop(columns=['num__idade', 'num__fumante_x_imc'])\n",
    "x_test_low_corr = x_test_prep_sel.drop(columns=['num__idade', 'num__fumante_x_imc'])\n",
    "\n",
    "x_train_low_corr.to_parquet('data/x_train_engineered_prepared_selected_low_corr.parquet')\n",
    "x_test_low_corr.to_parquet('data/x_test_engineered_prepared_selected_low_corr.parquet')\n",
    "\n",
    "print(x_train_low_corr.shape)\n",
    "print(x_test_low_corr.shape)"
   ]
  },
  {
   "cell_type": "markdown",
   "metadata": {
    "application/vnd.databricks.v1+cell": {
     "cellMetadata": {},
     "inputWidgets": {},
     "nuid": "bc07a4e0-8a56-4215-8a19-e0cf5bad1dc2",
     "showTitle": false,
     "tableResultSettingsMap": {},
     "title": ""
    }
   },
   "source": [
    "#Escolha do modelo campeao"
   ]
  },
  {
   "cell_type": "code",
   "execution_count": 0,
   "metadata": {
    "application/vnd.databricks.v1+cell": {
     "cellMetadata": {
      "byteLimit": 2048000,
      "rowLimit": 10000
     },
     "inputWidgets": {},
     "nuid": "3f2e8252-73be-4dc3-b184-3c109c72fc33",
     "showTitle": false,
     "tableResultSettingsMap": {},
     "title": ""
    }
   },
   "outputs": [],
   "source": [
    "# Modelos sensíveis à multicolinearidade\n",
    "modelos_nao_robustos = {\n",
    "    \"LinearRegression\": LinearRegression(),\n",
    "    \"Ridge\": Ridge(),\n",
    "    \"Lasso\": Lasso()\n",
    "}\n",
    "\n",
    "# Modelos robustos à multicolinearidade\n",
    "modelos_robustos = {\n",
    "    \"DecisionTree\": DecisionTreeRegressor(random_state=42),\n",
    "    \"RandomForest\": RandomForestRegressor(n_jobs=-1, random_state=42),\n",
    "    \"XGBoost\": XGBRegressor(n_jobs=-1, random_state=42),\n",
    "    \"LightGBM\": LGBMRegressor(n_jobs=-1, random_state=42),\n",
    "    \"CatBoost\": CatBoostRegressor(verbose=0, random_state=42),\n",
    "    \"HistGradientBoosting\": HistGradientBoostingRegressor(random_state=42)\n",
    "}"
   ]
  },
  {
   "cell_type": "code",
   "execution_count": 0,
   "metadata": {
    "application/vnd.databricks.v1+cell": {
     "cellMetadata": {
      "byteLimit": 2048000,
      "rowLimit": 10000
     },
     "inputWidgets": {},
     "nuid": "850f5de2-a1b4-4bdb-9aae-a6c128f5cef4",
     "showTitle": false,
     "tableResultSettingsMap": {},
     "title": ""
    }
   },
   "outputs": [],
   "source": [
    "path = 'file:///dbfs/data/x_train_engineered_prepared_selected.parquet'\n",
    "dataset_nome = 'ENGINEERED'\n",
    "res_robustos = []\n",
    "for nome_modelo, modelo in tqdm(modelos_robustos.items(), desc=f\"MODELOS ROBUSTOS A MULTICOLINEARIDADE\"):\n",
    "    print(f'\\n================================= {nome_modelo} =================================')\n",
    "    df_metrics = avaliar_com_mlflow(modelo, nome_modelo, dataset_nome, path, x_train_sel, y_train, x_test_prep_sel, y_test)\n",
    "    res_robustos.append(df_metrics)\n",
    "\n",
    "df_robustos_resultados = pd.concat(res_robustos, ignore_index=True)"
   ]
  },
  {
   "cell_type": "code",
   "execution_count": 0,
   "metadata": {
    "application/vnd.databricks.v1+cell": {
     "cellMetadata": {
      "byteLimit": 2048000,
      "rowLimit": 10000
     },
     "inputWidgets": {},
     "nuid": "d110180c-04f4-45c9-9e89-61e41f9ed158",
     "showTitle": false,
     "tableResultSettingsMap": {},
     "title": ""
    }
   },
   "outputs": [],
   "source": [
    "print(f'Média de gastos no conjunto de teste: R$ {round(y_test.valor.mean(), 2)}')\n",
    "\n",
    "display(df_robustos_resultados.sort_values(by=[\"dataset\", \"quantile_loss\", 'mae']))"
   ]
  },
  {
   "cell_type": "code",
   "execution_count": 0,
   "metadata": {
    "application/vnd.databricks.v1+cell": {
     "cellMetadata": {
      "byteLimit": 2048000,
      "rowLimit": 10000
     },
     "inputWidgets": {},
     "nuid": "bd822b0d-189e-4edc-8ef5-2d9526f9054f",
     "showTitle": false,
     "tableResultSettingsMap": {},
     "title": ""
    }
   },
   "outputs": [],
   "source": [
    "path = 'data/x_train_engineered_prepared_selected_low_corr.parquet'\n",
    "dataset_nome = 'ENGINEERED_LOW_CORR'\n",
    "res_sensiveis = []\n",
    "for nome, modelo in tqdm(modelos_nao_robustos.items(), desc=f\"MODELOS SENSÍVEIS A MULTICOLINEARIDADE\"):\n",
    "    print(f'\\n================================= {nome} =================================')\n",
    "    resultado = avaliar_com_mlflow(modelo, nome, dataset_nome, path, x_train_low_corr, y_train, x_test_low_corr, y_test)\n",
    "    res_sensiveis.append(resultado)\n",
    "\n",
    "df_sensiveis_res = pd.concat(res_sensiveis, ignore_index=True)"
   ]
  },
  {
   "cell_type": "code",
   "execution_count": 0,
   "metadata": {
    "application/vnd.databricks.v1+cell": {
     "cellMetadata": {
      "byteLimit": 2048000,
      "rowLimit": 10000
     },
     "inputWidgets": {},
     "nuid": "fd4522f4-f0a7-4fad-9fd9-adcad0a23177",
     "showTitle": false,
     "tableResultSettingsMap": {},
     "title": ""
    }
   },
   "outputs": [],
   "source": [
    "print(f'Média de gastos no conjunto de teste: R$ {round(y_test.valor.mean(), 2)}')\n",
    "\n",
    "display(df_sensiveis_res.sort_values(by=[\"dataset\", \"quantile_loss\", 'mae']))"
   ]
  },
  {
   "cell_type": "markdown",
   "metadata": {
    "application/vnd.databricks.v1+cell": {
     "cellMetadata": {
      "byteLimit": 2048000,
      "rowLimit": 10000
     },
     "inputWidgets": {},
     "nuid": "f7838c37-c232-4cdf-b120-f0810cee1999",
     "showTitle": false,
     "tableResultSettingsMap": {},
     "title": ""
    }
   },
   "source": [
    "## Avaliação dos Modelos de Regressão\n",
    "\n",
    "Nesta etapa, comparamos diferentes algoritmos de regressão para prever o valor gasto por clientes em um plano de saúde. A avaliação foi realizada com base em métricas que penalizam subestimações, além de considerar viés e erro absoluto médio.\n",
    "\n",
    "### Métricas Utilizadas\n",
    "\n",
    "- **Quantile Loss**: penaliza mais fortemente subestimações, conforme desejado para o negócio.\n",
    "- **MAE (Mean Absolute Error)**: erro médio absoluto.\n",
    "- **Bias**: média da diferença entre predição e valor real. Valores positivos indicam tendência a superestimar.\n",
    "- **Percentual de Subestimações**: fração de predições abaixo do valor real.\n",
    "\n",
    "---\n",
    "\n",
    "### Top 3 Modelos com Melhor Desempenho\n",
    "\n",
    "#### 1. Random Forest Regressor\n",
    "\n",
    "- **Quantile Loss**: 429.88  \n",
    "- **MAE**: 912.28  \n",
    "- **Bias**: +87.54  \n",
    "- **% Subestimado**: 31.5%\n",
    "\n",
    "**Análise**: Este modelo apresenta o menor quantile loss, o que indica melhor performance em minimizar penalizações por subestimação. Além disso, possui viés positivo, o que é desejável no contexto, e um percentual de subestimações controlado.\n",
    "\n",
    "#### 2. CatBoost Regressor\n",
    "\n",
    "- **Quantile Loss**: 447.39  \n",
    "- **MAE**: 855.02  \n",
    "- **Bias**: –66.28  \n",
    "- **% Subestimado**: 30.7%\n",
    "\n",
    "**Análise**: Apresentou o menor MAE entre todos os modelos, com bom controle de subestimações. No entanto, o viés negativo pode representar um risco para decisões de negócios que não toleram subestimar valores.\n",
    "\n",
    "#### 3. XGBoost Regressor\n",
    "\n",
    "- **Quantile Loss**: 472.26  \n",
    "- **MAE**: 932.89  \n",
    "- **Bias**: –19.39  \n",
    "- **% Subestimado**: 40.2%\n",
    "\n",
    "**Análise**: Mostrou desempenho intermediário, com viés mais próximo de zero que o CatBoost. Porém, apresentou o maior percentual de subestimações entre os modelos do top 3.\n",
    "\n",
    "---\n",
    "\n",
    "### Modelo Campeão\n",
    "\n",
    "**Random Forest Regressor** é o modelo escolhido como campeão desta etapa. Ele combina o menor valor de quantile loss com viés positivo e um percentual de subestimações relativamente baixo, equilibrando precisão e segurança para a tomada de decisão.\n"
   ]
  },
  {
   "cell_type": "markdown",
   "metadata": {
    "application/vnd.databricks.v1+cell": {
     "cellMetadata": {},
     "inputWidgets": {},
     "nuid": "43d79d66-aa0d-416c-ab08-4e6746b8ac0e",
     "showTitle": false,
     "tableResultSettingsMap": {},
     "title": ""
    }
   },
   "source": [
    "#Hypertunning do RandomForest"
   ]
  },
  {
   "cell_type": "code",
   "execution_count": 0,
   "metadata": {
    "application/vnd.databricks.v1+cell": {
     "cellMetadata": {
      "byteLimit": 2048000,
      "rowLimit": 10000
     },
     "inputWidgets": {},
     "nuid": "303b8b84-f7d9-4584-932d-9ca4ffd1e2c7",
     "showTitle": false,
     "tableResultSettingsMap": {},
     "title": ""
    }
   },
   "outputs": [],
   "source": [
    "q_loss_scorer = make_scorer(quantile_loss_metric, greater_is_better=False)\n",
    "\n",
    "def objective_random_forest(trial):\n",
    "    params = {\n",
    "        \"n_estimators\": trial.suggest_int(\"n_estimators\", 100, 2000),\n",
    "        \"max_depth\": trial.suggest_int(\"max_depth\", 5, 40),\n",
    "        \"min_samples_split\": trial.suggest_int(\"min_samples_split\", 2, 20),\n",
    "        \"min_samples_leaf\": trial.suggest_int(\"min_samples_leaf\", 1, 20),\n",
    "        \"max_features\": trial.suggest_categorical(\"max_features\", [\"sqrt\", \"log2\", None]),\n",
    "        \"max_leaf_nodes\": trial.suggest_int(\"max_leaf_nodes\", 10, 100, step=10),\n",
    "        \"min_impurity_decrease\": trial.suggest_float(\"min_impurity_decrease\", 0.0, 1.0),\n",
    "        \"bootstrap\": trial.suggest_categorical(\"bootstrap\", [True, False]),\n",
    "        \"ccp_alpha\": trial.suggest_float(\"ccp_alpha\", 0.0, 0.1),\n",
    "        \"random_state\": 42,\n",
    "        \"n_jobs\": -1\n",
    "    }\n",
    "\n",
    "    model = RandomForestRegressor(**params)\n",
    "\n",
    "    # Validação cruzada 10-fold\n",
    "    kf = KFold(n_splits=10, shuffle=True, random_state=42)\n",
    "    scores = cross_val_score(model, x_train_sel, y_train.squeeze(),\n",
    "                             scoring=q_loss_scorer, cv=kf, n_jobs=-1)\n",
    "    \n",
    "    return scores.mean()"
   ]
  },
  {
   "cell_type": "code",
   "execution_count": 0,
   "metadata": {
    "application/vnd.databricks.v1+cell": {
     "cellMetadata": {
      "byteLimit": 2048000,
      "rowLimit": 10000
     },
     "inputWidgets": {},
     "nuid": "98be573e-b767-43ec-adf5-8a6aa302c1af",
     "showTitle": false,
     "tableResultSettingsMap": {},
     "title": ""
    }
   },
   "outputs": [],
   "source": [
    "early_stopping = EarlyStoppingCallback(patience=40)\n",
    "\n",
    "study = optuna.create_study(direction=\"maximize\", study_name=\"random_forest_q_loss_opt\")\n",
    "study.optimize(objective_random_forest, n_trials=300, callbacks=[early_stopping], show_progress_bar=True)\n",
    "\n",
    "\n",
    "with open(\"artifacts/best_random_forest_params_engineered_dataset.json\", \"w\") as f:\n",
    "    json.dump(study.best_trial.params, f)\n"
   ]
  },
  {
   "cell_type": "code",
   "execution_count": 0,
   "metadata": {
    "application/vnd.databricks.v1+cell": {
     "cellMetadata": {
      "byteLimit": 2048000,
      "rowLimit": 10000
     },
     "inputWidgets": {},
     "nuid": "ec1fc8a1-bb09-4bbd-a94a-e9c283c865ac",
     "showTitle": false,
     "tableResultSettingsMap": {},
     "title": ""
    }
   },
   "outputs": [],
   "source": [
    "with open(\"artifacts/best_random_forest_params_engineered_dataset.json\", \"r\") as f:\n",
    "    best_params = json.load(f)\n",
    "\n",
    "best_params.update({\n",
    "    \"n_jobs\": -1,\n",
    "    \"random_state\": 42\n",
    "})\n",
    "\n",
    "modelo_final = RandomForestRegressor(**best_params)\n",
    "modelo_final.fit(x_train_sel, y_train.squeeze())"
   ]
  },
  {
   "cell_type": "code",
   "execution_count": 0,
   "metadata": {
    "application/vnd.databricks.v1+cell": {
     "cellMetadata": {
      "byteLimit": 2048000,
      "rowLimit": 10000
     },
     "inputWidgets": {},
     "nuid": "c8de60c8-379d-4083-8af2-d9d5704223f8",
     "showTitle": false,
     "tableResultSettingsMap": {},
     "title": ""
    }
   },
   "outputs": [],
   "source": [
    "joblib.dump(modelo_final, \"artifacts/randmforest_engineered_features_q_loss.pkl\")"
   ]
  },
  {
   "cell_type": "code",
   "execution_count": 0,
   "metadata": {
    "application/vnd.databricks.v1+cell": {
     "cellMetadata": {
      "byteLimit": 2048000,
      "rowLimit": 10000
     },
     "inputWidgets": {},
     "nuid": "887cc2b1-eb4c-4d69-8869-a478a887d2e1",
     "showTitle": false,
     "tableResultSettingsMap": {},
     "title": ""
    }
   },
   "outputs": [],
   "source": [
    "feature_names = x_train_sel.columns if isinstance(x_train_sel, pd.DataFrame) else [f\"feat_{i}\" for i in range(x_train_sel.shape[1])]\n",
    "\n",
    "importances = modelo_final.feature_importances_\n",
    "plt.figure(figsize=(10, 6))\n",
    "plt.barh(feature_names, importances)\n",
    "plt.xlabel(\"Importance\")\n",
    "plt.title(\"RandomForest (Q-Loss) - Feature Importance\")\n",
    "plt.gca().invert_yaxis()\n",
    "plt.tight_layout()\n",
    "\n",
    "plt.savefig(\"plots/randomforest_engineered_features_q_loss_feature_importance.png\")\n",
    "\n",
    "plt.show()"
   ]
  },
  {
   "cell_type": "markdown",
   "metadata": {
    "application/vnd.databricks.v1+cell": {
     "cellMetadata": {},
     "inputWidgets": {},
     "nuid": "145dd2ec-18d6-4864-83c1-6ee0219e42aa",
     "showTitle": false,
     "tableResultSettingsMap": {},
     "title": ""
    }
   },
   "source": [
    "# Performance Assessment"
   ]
  },
  {
   "cell_type": "code",
   "execution_count": 0,
   "metadata": {
    "application/vnd.databricks.v1+cell": {
     "cellMetadata": {
      "byteLimit": 2048000,
      "rowLimit": 10000
     },
     "inputWidgets": {},
     "nuid": "35bf0b93-16d5-4475-9e0b-b4212209704b",
     "showTitle": false,
     "tableResultSettingsMap": {},
     "title": ""
    }
   },
   "outputs": [],
   "source": [
    "y_pred_test = modelo_final.predict(x_test_prep_sel)\n",
    "\n",
    "relatorio_final = {\n",
    "    \"quantile_loss\": quantile_loss_metric(y_test, y_pred_test),\n",
    "    \"mae\": mean_absolute_error(y_test, y_pred_test),\n",
    "    \"mape\": mean_absolute_percentage_error(y_test, y_pred_test),\n",
    "    \"bias\": bias_metric(y_test.squeeze(), y_pred_test),\n",
    "    \"pct_subestimado\": percentual_subestimativas(y_test.squeeze(), y_pred_test)\n",
    "}\n",
    "\n",
    "df_relatorio_final = pd.DataFrame([relatorio_final])\n",
    "display(df_relatorio_final)\n",
    "\n",
    "df_relatorio_final.to_csv(\"artifacts/randomforest_relatorio_q_loss_test.csv\", index=False)"
   ]
  },
  {
   "cell_type": "code",
   "execution_count": 0,
   "metadata": {
    "application/vnd.databricks.v1+cell": {
     "cellMetadata": {
      "byteLimit": 2048000,
      "rowLimit": 10000
     },
     "inputWidgets": {},
     "nuid": "7b831a12-8b45-43fa-9f0e-e61e15470fca",
     "showTitle": false,
     "tableResultSettingsMap": {},
     "title": ""
    }
   },
   "outputs": [],
   "source": [
    "erro_abs = np.abs(y_test.squeeze() - y_pred_test)\n",
    "\n",
    "plt.figure(figsize=(8, 4))\n",
    "plt.hist(erro_abs, bins=30, edgecolor=\"k\")\n",
    "plt.title(\"Distribuição do Erro Absoluto (|y - y_pred|)\")\n",
    "plt.xlabel(\"Erro Absoluto\")\n",
    "plt.ylabel(\"Frequência\")\n",
    "plt.grid(True)\n",
    "plt.tight_layout()\n",
    "\n",
    "plt.savefig(\"plots/randomforest_q_loss_erro_abs.png\")\n",
    "\n",
    "plt.show()"
   ]
  },
  {
   "cell_type": "code",
   "execution_count": 0,
   "metadata": {
    "application/vnd.databricks.v1+cell": {
     "cellMetadata": {
      "byteLimit": 2048000,
      "rowLimit": 10000
     },
     "inputWidgets": {},
     "nuid": "dc7f2447-294c-4e94-b9e8-6bf6ca29e736",
     "showTitle": false,
     "tableResultSettingsMap": {},
     "title": ""
    }
   },
   "outputs": [],
   "source": [
    "q_loss_individual = np.maximum(0.8 * (y_test.squeeze() - y_pred_test), (0.8 - 1) * (y_test.squeeze() - y_pred_test))\n",
    "mape_individual = np.abs((y_test.squeeze() - y_pred_test) / y_test.squeeze())\n",
    "mae_individual = np.abs(y_test.squeeze() - y_pred_test)\n",
    "\n",
    "df_erros = pd.DataFrame({\n",
    "    \"Q-Loss\": q_loss_individual,\n",
    "    \"MAE\": mae_individual,\n",
    "    \"MAPE\": mape_individual\n",
    "})\n",
    "\n",
    "plt.figure(figsize=(10, 5))\n",
    "df_erros.boxplot()\n",
    "plt.title(\"Distribuição das Métricas Individuais no Conjunto de Teste\")\n",
    "plt.ylabel(\"Erro\")\n",
    "plt.grid(True)\n",
    "plt.tight_layout()\n",
    "\n",
    "plt.savefig(\"plots/randomforest_q_loss_erros_individuais.png\")\n",
    "\n",
    "plt.show()"
   ]
  },
  {
   "cell_type": "code",
   "execution_count": 0,
   "metadata": {
    "application/vnd.databricks.v1+cell": {
     "cellMetadata": {
      "byteLimit": 2048000,
      "rowLimit": 10000
     },
     "inputWidgets": {},
     "nuid": "1a76a75d-476a-428a-a8b2-1ca96f7c1824",
     "showTitle": false,
     "tableResultSettingsMap": {},
     "title": ""
    }
   },
   "outputs": [],
   "source": [
    "plt.figure(figsize=(6, 6))\n",
    "plt.scatter(y_test.squeeze(), y_pred_test, alpha=0.5)\n",
    "plt.plot([y_test.min(), y_test.max()], [y_test.min(), y_test.max()], 'r--', label=\"Ideal\")\n",
    "plt.xlabel(\"Valor Real\")\n",
    "plt.ylabel(\"Valor Predito\")\n",
    "plt.title(\"Real vs Predito - Teste\")\n",
    "plt.legend()\n",
    "plt.grid(True)\n",
    "plt.tight_layout()\n",
    "\n",
    "plt.savefig(\"plots/randomforest_q_loss_real_vs_predito.png\")\n",
    "\n",
    "plt.show()"
   ]
  },
  {
   "cell_type": "code",
   "execution_count": 0,
   "metadata": {
    "application/vnd.databricks.v1+cell": {
     "cellMetadata": {
      "byteLimit": 2048000,
      "rowLimit": 10000
     },
     "inputWidgets": {},
     "nuid": "a3837ca3-da64-4001-8cd0-b7613eeebdb0",
     "showTitle": false,
     "tableResultSettingsMap": {},
     "title": ""
    }
   },
   "outputs": [],
   "source": [
    "y_true = y_test.squeeze()\n",
    "y_pred = y_pred_test.squeeze()\n",
    "\n",
    "df_avaliacao = pd.DataFrame({\n",
    "    \"y_true\": y_true,\n",
    "    \"y_pred\": y_pred\n",
    "})\n",
    "df_avaliacao[\"erro\"] = df_avaliacao[\"y_pred\"] - df_avaliacao[\"y_true\"]\n",
    "df_avaliacao[\"mae\"] = df_avaliacao[\"erro\"].abs()\n",
    "\n",
    "# Fateando target por quantis\n",
    "df_avaliacao[\"faixa_valor\"] = pd.qcut(df_avaliacao[\"y_true\"], q=6, duplicates=\"drop\")\n",
    "\n",
    "# Calculando métricas por faixa\n",
    "resumo_faixas = df_avaliacao.groupby(\"faixa_valor\").agg(\n",
    "    qtd=(\"y_true\", \"count\"),\n",
    "    media_real=(\"y_true\", \"mean\"),\n",
    "    mae_medio=(\"mae\", \"mean\"),\n",
    "    erro_medio=(\"erro\", \"mean\")\n",
    ").reset_index()\n",
    "\n",
    "resumo_faixas[\"mae_pct\"] = resumo_faixas[\"mae_medio\"] / resumo_faixas[\"media_real\"]"
   ]
  },
  {
   "cell_type": "code",
   "execution_count": 0,
   "metadata": {
    "application/vnd.databricks.v1+cell": {
     "cellMetadata": {
      "byteLimit": 2048000,
      "rowLimit": 10000
     },
     "inputWidgets": {},
     "nuid": "61d3732d-72ec-4eea-be23-61a92b011e8e",
     "showTitle": false,
     "tableResultSettingsMap": {},
     "title": ""
    }
   },
   "outputs": [],
   "source": [
    "plt.figure(figsize=(10, 6))\n",
    "plt.bar(resumo_faixas.index - 0.2, resumo_faixas[\"mae_medio\"], width=0.4, label=\"MAE médio\")\n",
    "plt.bar(resumo_faixas.index + 0.2, resumo_faixas[\"erro_medio\"], width=0.4, label=\"Erro médio (Viés)\")\n",
    "plt.xticks(resumo_faixas.index, resumo_faixas[\"faixa_valor\"].astype(str), rotation=45, ha='right')\n",
    "plt.xlabel(\"Faixa de valor real (quantis)\")\n",
    "plt.ylabel(\"Erro (R$)\")\n",
    "plt.title(\"MAE e Viés por Faixa de Valor Real\")\n",
    "plt.legend()\n",
    "plt.tight_layout()\n",
    "plt.grid(True)\n",
    "\n",
    "plt.savefig(\"plots/randomforest_q_loss_mae_vies.png\")\n",
    "\n",
    "plt.show()"
   ]
  },
  {
   "cell_type": "code",
   "execution_count": 0,
   "metadata": {
    "application/vnd.databricks.v1+cell": {
     "cellMetadata": {
      "byteLimit": 2048000,
      "rowLimit": 10000
     },
     "inputWidgets": {},
     "nuid": "864a7e8c-5447-4368-9f97-93c2a796c6e8",
     "showTitle": false,
     "tableResultSettingsMap": {},
     "title": ""
    }
   },
   "outputs": [],
   "source": [
    "plt.figure(figsize=(10, 5))\n",
    "plt.plot(resumo_faixas[\"mae_pct\"], marker=\"o\")\n",
    "plt.xticks(resumo_faixas.index, resumo_faixas[\"faixa_valor\"].astype(str), rotation=45, ha='right')\n",
    "plt.ylabel(\"MAE percentual (MAE / Média da faixa)\")\n",
    "plt.xlabel(\"Faixa de valor real (quantis)\")\n",
    "plt.title(\"Erro Relativo por Faixa de Valor\")\n",
    "plt.grid(True)\n",
    "plt.tight_layout()\n",
    "\n",
    "plt.savefig(\"plots/randomforest_q_loss_mae_pct.png\")\n",
    "\n",
    "plt.show()"
   ]
  },
  {
   "cell_type": "code",
   "execution_count": 0,
   "metadata": {
    "application/vnd.databricks.v1+cell": {
     "cellMetadata": {
      "byteLimit": 2048000,
      "rowLimit": 10000
     },
     "inputWidgets": {},
     "nuid": "42a45f8a-2d76-4902-ae87-4c4f33e823b6",
     "showTitle": false,
     "tableResultSettingsMap": {},
     "title": ""
    }
   },
   "outputs": [],
   "source": [
    "with mlflow.start_run(run_name=\"RandomForest - q-loss Optimized\"):\n",
    "    # Logar dataset de entrada\n",
    "    mlflow.log_input(from_pandas(x_train_sel, source=\"data/x_train_engineered_prepared_selected.parquet\"), context=\"training\")\n",
    "\n",
    "    # Logar o modelo\n",
    "    mlflow.sklearn.log_model(modelo_final, artifact_path=\"modelo\")\n",
    "\n",
    "    # Logar parâmetros\n",
    "    mlflow.log_params(best_params)\n",
    "\n",
    "    # Logar métricas\n",
    "    for k, v in relatorio_final.items():\n",
    "        mlflow.log_metric(k, v)\n",
    "\n",
    "    # Logar gráficos\n",
    "    mlflow.log_artifact(\"plots/randomforest_engineered_features_q_loss_feature_importance.png\")\n",
    "    mlflow.log_artifact(\"plots/randomforest_q_loss_erro_abs.png\")\n",
    "    mlflow.log_artifact(\"plots/randomforest_q_loss_erros_individuais.png\")\n",
    "    mlflow.log_artifact(\"plots/randomforest_q_loss_real_vs_predito.png\")\n",
    "    mlflow.log_artifact(\"plots/randomforest_q_loss_mae_vies.png\")\n",
    "    mlflow.log_artifact(\"plots/randomforest_q_loss_mae_pct.png\")\n"
   ]
  },
  {
   "cell_type": "markdown",
   "metadata": {
    "application/vnd.databricks.v1+cell": {
     "cellMetadata": {},
     "inputWidgets": {},
     "nuid": "c8197ab5-65eb-4341-bf43-ec81cd5b8240",
     "showTitle": false,
     "tableResultSettingsMap": {},
     "title": ""
    }
   },
   "source": [
    "## Comparativo de Modelos RandomForest (MAE vs Quantile Loss)\n",
    "\n",
    "### Resumo das Métricas no Conjunto de Teste\n",
    "\n",
    "| Métrica           | RF - MAE Opt. | RF - QLoss Opt. |\n",
    "|-------------------|---------------|------------------|\n",
    "| MAE               | **808.80**    | 828.68           |\n",
    "| Quantile Loss     | 433.70        | **430.42**       |\n",
    "| MAPE              | 32.68%        | **31.40%**       |\n",
    "| Bias              | -97.67        | **-53.58**       |\n",
    "| % Subestimativas  | 24.41%        | **22.83%**       |\n",
    "\n",
    "> O modelo otimizado para **Quantile Loss** apresentou melhor controle de viés e subestimativas, com desempenho semelhante ao modelo otimizado por MAE.\n",
    "\n",
    "---\n",
    "\n",
    "### Análise por Faixa de Valor\n",
    "\n",
    "- Ambos os modelos possuem **erros absolutos maiores nas faixas altas**, como esperado.\n",
    "- O **modelo QLoss** apresentou menor viés nas faixas superiores, o que é crítico para evitar subestimativas de valores relevantes.\n",
    "\n",
    "---\n",
    "\n",
    "### Interpretação de Negócio\n",
    "\n",
    "- Para evitar riscos de **subestimativas em clientes de alto valor**, o modelo otimizado com **quantile loss é mais confiável**.\n",
    "- Se o objetivo for apenas minimizar erro médio, o modelo MAE também é competitivo, mas com maior viés nas faixas superiores.\n",
    "\n",
    "---\n",
    "\n",
    "### Conclusão: Modelo Campeão\n",
    "\n",
    "> **Modelo vencedor: `RandomForestRegressor` otimizado para Quantile Loss**\n",
    "\n",
    "- Equilíbrio entre desempenho e segurança.\n",
    "- Melhor controle de subestimativas.\n",
    "- Viés reduzido e erros mais bem distribuídos entre faixas.\n",
    "\n",
    "---\n",
    "\n",
    "### Avaliação da Qualidade Absoluta\n",
    "\n",
    "| Indicador                | Avaliação          |\n",
    "|--------------------------|--------------------|\n",
    "| MAE ≈ R$ 828             | **Aceitável a bom** |\n",
    "| MAPE ≈ 31%               | **Moderado**       |\n",
    "| Viés ≈ -53               | **Baixo e seguro** |\n",
    "| % Subestimativas ≈ 23%   | **Seguro**         |\n",
    "\n",
    "> Em resumo, o modelo é **bom**, seguro e confiável para aplicações práticas. A recomendação é sua adoção com monitoramento contínuo.\n"
   ]
  },
  {
   "cell_type": "markdown",
   "metadata": {
    "application/vnd.databricks.v1+cell": {
     "cellMetadata": {},
     "inputWidgets": {},
     "nuid": "0f48741b-e0da-4821-8e31-251b807096af",
     "showTitle": false,
     "tableResultSettingsMap": {},
     "title": ""
    }
   },
   "source": [
    "\n"
   ]
  }
 ],
 "metadata": {
  "application/vnd.databricks.v1+notebook": {
   "computePreferences": null,
   "dashboards": [],
   "environmentMetadata": {
    "base_environment": "",
    "environment_version": "2"
   },
   "inputWidgetPreferences": null,
   "language": "python",
   "notebookMetadata": {
    "pythonIndentUnit": 4
   },
   "notebookName": "trainning_and_testing",
   "widgets": {}
  },
  "language_info": {
   "name": "python"
  }
 },
 "nbformat": 4,
 "nbformat_minor": 0
}
