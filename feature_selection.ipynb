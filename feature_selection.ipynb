{
 "cells": [
  {
   "cell_type": "markdown",
   "metadata": {
    "application/vnd.databricks.v1+cell": {
     "cellMetadata": {},
     "inputWidgets": {},
     "nuid": "d842fd1f-ac94-43e5-ae91-d9f6e52eb6c2",
     "showTitle": false,
     "tableResultSettingsMap": {},
     "title": ""
    }
   },
   "source": [
    "#Imports"
   ]
  },
  {
   "cell_type": "code",
   "execution_count": 0,
   "metadata": {
    "application/vnd.databricks.v1+cell": {
     "cellMetadata": {
      "byteLimit": 2048000,
      "rowLimit": 10000
     },
     "inputWidgets": {},
     "nuid": "dd1f8850-57b3-4fe8-a541-a97b6f261fe7",
     "showTitle": false,
     "tableResultSettingsMap": {},
     "title": ""
    }
   },
   "outputs": [],
   "source": [
    "import pandas as pd\n",
    "import numpy as np\n",
    "from unidecode import unidecode\n",
    "from boruta import BorutaPy\n",
    "from sklearn.ensemble import RandomForestRegressor\n",
    "import matplotlib.pyplot as plt\n",
    "import seaborn as sns\n",
    "\n",
    "import mlflow\n",
    "mlflow.autolog(disable=True)\n"
   ]
  },
  {
   "cell_type": "markdown",
   "metadata": {
    "application/vnd.databricks.v1+cell": {
     "cellMetadata": {},
     "inputWidgets": {},
     "nuid": "f46bb75c-def9-4076-8966-89deefeed5ef",
     "showTitle": false,
     "tableResultSettingsMap": {},
     "title": ""
    }
   },
   "source": [
    "# Funçoes"
   ]
  },
  {
   "cell_type": "code",
   "execution_count": 0,
   "metadata": {
    "application/vnd.databricks.v1+cell": {
     "cellMetadata": {
      "byteLimit": 2048000,
      "rowLimit": 10000
     },
     "inputWidgets": {},
     "nuid": "2de96543-3947-4f58-a2de-fa538b99e550",
     "showTitle": false,
     "tableResultSettingsMap": {},
     "title": ""
    }
   },
   "outputs": [],
   "source": [
    "# Função que deixa colunas minúsculas\n",
    "def normalize_columns(df):\n",
    "    df.columns = [unidecode(col).lower() for col in df.columns]\n",
    "    return df\n",
    "\n",
    "# Função para normalizar os valores das colunas de texto\n",
    "def normalize_text_values(df):\n",
    "    for col in df.select_dtypes(include=['object']).columns:\n",
    "        df[col] = df[col].apply(lambda x: unidecode(x).lower() if isinstance(x, str) else x)\n",
    "    return df"
   ]
  },
  {
   "cell_type": "markdown",
   "metadata": {
    "application/vnd.databricks.v1+cell": {
     "cellMetadata": {},
     "inputWidgets": {},
     "nuid": "b47d1716-0591-46f0-bb4b-d39f1e2c4e99",
     "showTitle": false,
     "tableResultSettingsMap": {},
     "title": ""
    }
   },
   "source": [
    "#Lendo os dados"
   ]
  },
  {
   "cell_type": "code",
   "execution_count": 0,
   "metadata": {
    "application/vnd.databricks.v1+cell": {
     "cellMetadata": {
      "byteLimit": 2048000,
      "rowLimit": 10000
     },
     "inputWidgets": {},
     "nuid": "059cd5fb-8c27-40e7-a2d6-8ab6d3501b42",
     "showTitle": false,
     "tableResultSettingsMap": {},
     "title": ""
    }
   },
   "outputs": [],
   "source": [
    "x_train = pd.read_parquet('data/x_prepared.parquet')\n",
    "\n",
    "y_train = pd.read_excel('data/Seguro Saúde - Modelagem.xlsx', sheet_name='MODELAGEM')\n",
    "y_train = normalize_columns(y_train) \n",
    "y_train = normalize_text_values(y_train)\n",
    "\n",
    "y_train = y_train[['matricula', 'valor']]\n",
    "\n",
    "display(x_train.head())\n",
    "display(y_train.head())"
   ]
  },
  {
   "cell_type": "markdown",
   "metadata": {
    "application/vnd.databricks.v1+cell": {
     "cellMetadata": {},
     "inputWidgets": {},
     "nuid": "74401876-d685-4f1f-b647-cf88d832c0bb",
     "showTitle": false,
     "tableResultSettingsMap": {},
     "title": ""
    }
   },
   "source": [
    "#Boruta"
   ]
  },
  {
   "cell_type": "code",
   "execution_count": 0,
   "metadata": {
    "application/vnd.databricks.v1+cell": {
     "cellMetadata": {
      "byteLimit": 2048000,
      "rowLimit": 10000
     },
     "inputWidgets": {},
     "nuid": "05a0c986-64c2-48a8-bb77-ef92ebc30ae9",
     "showTitle": false,
     "tableResultSettingsMap": {},
     "title": ""
    }
   },
   "outputs": [],
   "source": [
    "rf = RandomForestRegressor(n_jobs=-1, random_state=42)\n",
    "\n",
    "boruta = BorutaPy(\n",
    "    estimator=rf,\n",
    "    n_estimators='auto',\n",
    "    verbose=2,\n",
    "    random_state=42,\n",
    "    max_iter=200\n",
    ")\n",
    "\n",
    "boruta.fit(x_train.drop('matricula', axis=1).values, y_train.drop('matricula', axis=1).values.ravel())"
   ]
  },
  {
   "cell_type": "code",
   "execution_count": 0,
   "metadata": {
    "application/vnd.databricks.v1+cell": {
     "cellMetadata": {
      "byteLimit": 2048000,
      "rowLimit": 10000
     },
     "inputWidgets": {},
     "nuid": "ce6d77f1-0aae-404a-a475-ea29e273bc2d",
     "showTitle": false,
     "tableResultSettingsMap": {},
     "title": ""
    }
   },
   "outputs": [],
   "source": [
    "selected_features = x_train.drop('matricula', axis=1).columns[boruta.support_].tolist()\n",
    "print(\"Selecionadas:\", selected_features)\n"
   ]
  },
  {
   "cell_type": "code",
   "execution_count": 0,
   "metadata": {
    "application/vnd.databricks.v1+cell": {
     "cellMetadata": {
      "byteLimit": 2048000,
      "rowLimit": 10000
     },
     "inputWidgets": {},
     "nuid": "1a6cfae4-7f79-4f79-bfe3-94366199bdcd",
     "showTitle": false,
     "tableResultSettingsMap": {},
     "title": ""
    }
   },
   "outputs": [],
   "source": [
    "feature_ranking = pd.DataFrame({\n",
    "    'feature': x_train.drop('matricula', axis=1).columns,\n",
    "    'ranking': boruta.ranking_,\n",
    "    'selected': boruta.support_\n",
    "}).sort_values(by='ranking')\n",
    "\n",
    "display(feature_ranking)\n"
   ]
  },
  {
   "cell_type": "code",
   "execution_count": 0,
   "metadata": {
    "application/vnd.databricks.v1+cell": {
     "cellMetadata": {
      "byteLimit": 2048000,
      "rowLimit": 10000
     },
     "inputWidgets": {},
     "nuid": "0c98ea63-b045-4a97-babd-49425933e505",
     "showTitle": false,
     "tableResultSettingsMap": {},
     "title": ""
    }
   },
   "outputs": [],
   "source": [
    "feature_ranking.to_csv('artifacts/boruta_enginneered_features_ranking.csv', index=False)"
   ]
  },
  {
   "cell_type": "markdown",
   "metadata": {
    "application/vnd.databricks.v1+cell": {
     "cellMetadata": {},
     "inputWidgets": {},
     "nuid": "65e770f6-309d-41c1-9652-9ff055c50375",
     "showTitle": false,
     "tableResultSettingsMap": {},
     "title": ""
    }
   },
   "source": [
    "Concluímos que as variáveis que sao estatiscamente melhores que variáveis de barulho sao:\n",
    "- num__idade\n",
    "- cat__fumante_x_regiao_0.0\n",
    "- num__idade_x_imc\n",
    "- num__idade_x_filhos\n",
    "- num__fumante_x_imc \n",
    " \n",
    " "
   ]
  },
  {
   "cell_type": "markdown",
   "metadata": {
    "application/vnd.databricks.v1+cell": {
     "cellMetadata": {},
     "inputWidgets": {},
     "nuid": "50d3acaf-eb4a-4027-8321-07adc9b2db19",
     "showTitle": false,
     "tableResultSettingsMap": {},
     "title": ""
    }
   },
   "source": [
    "#Feature Importance com Random Forest\n",
    "\n",
    "Queremos confirmar o resultado do boruta vendo o grau de importancia dado pelo random forest"
   ]
  },
  {
   "cell_type": "code",
   "execution_count": 0,
   "metadata": {
    "application/vnd.databricks.v1+cell": {
     "cellMetadata": {
      "byteLimit": 2048000,
      "rowLimit": 10000
     },
     "inputWidgets": {},
     "nuid": "c031e9cb-5a82-4617-8c26-39ba86d76457",
     "showTitle": false,
     "tableResultSettingsMap": {},
     "title": ""
    }
   },
   "outputs": [],
   "source": [
    "X = x_train.drop('matricula', axis=1)\n",
    "\n",
    "rf = RandomForestRegressor(random_state=42)\n",
    "rf.fit(X, y_train.drop('matricula', axis=1))\n",
    "\n",
    "# Importância das features\n",
    "importances = rf.feature_importances_\n",
    "feature_importance = pd.Series(importances, index=x_train.drop('matricula', axis=1).columns).sort_values(ascending=True)\n",
    "\n",
    "top_features = feature_importance.tail(10)\n",
    "\n",
    "# Plot\n",
    "plt.figure(figsize=(10, len(top_features) * 0.35))\n",
    "top_features.plot(kind='barh')\n",
    "plt.title(\"Importância das Features (Random Forest) - TOP 10\")\n",
    "plt.xlabel(\"Importância\", fontsize=12)\n",
    "plt.xticks(fontsize=10)\n",
    "plt.yticks(fontsize=9)\n",
    "plt.tight_layout()\n",
    "\n",
    "plt.savefig('plots/rf_feature_importance_top15.png')\n",
    "\n",
    "plt.show()"
   ]
  },
  {
   "cell_type": "code",
   "execution_count": 0,
   "metadata": {
    "application/vnd.databricks.v1+cell": {
     "cellMetadata": {
      "byteLimit": 2048000,
      "rowLimit": 10000
     },
     "inputWidgets": {},
     "nuid": "c98ba8a6-9a07-49a0-9f83-f0eaf390f56b",
     "showTitle": false,
     "tableResultSettingsMap": {},
     "title": ""
    }
   },
   "outputs": [],
   "source": [
    "aux = pd.DataFrame(\n",
    "    {'features_selecionadas': [\n",
    "        'num__idade',\n",
    "        'cat__fumante_x_regiao_0.0',\n",
    "        'num__idade_x_imc',\n",
    "        'num__idade_x_filhos',\n",
    "        'num__fumante_x_imc',\n",
    "        'num__idade_div_imc',\n",
    "        'num__imc'\n",
    "    ]}\n",
    ")\n",
    "\n",
    "aux.to_csv('artifacts/selected_engineered_features.csv', index=False)"
   ]
  },
  {
   "cell_type": "markdown",
   "metadata": {
    "application/vnd.databricks.v1+cell": {
     "cellMetadata": {},
     "inputWidgets": {},
     "nuid": "20428d68-1b67-43a7-9cac-d988ba92cb70",
     "showTitle": false,
     "tableResultSettingsMap": {},
     "title": ""
    }
   },
   "source": [
    "Os resultados confirmam o que o Boruta indica, mas dá mais importancia a idade_div_imc e imc a idade_x_filhos.\n",
    "\n",
    "Essa discrepância ocorre devido as diferenças de estratégias, onde o boruta foca em variáveis estatisticamente relevantes e de maneira mais conservadora, pois compara com as shadows; enquanto que o modelo de regressao random forest tende a valorizar variáveis que particionam grupos grandes. Por isso podemos ter essa discrepância que é considerada normal e saudável na construçao da variáveis.\n",
    "\n",
    "Podemos incluir essas duas variáveis que o Boruta nao pegou.\n",
    "\n",
    "Analisemos a multicolinearidade que deve apontar correlaçoes altas entre essas variáveis extras ao Boruta"
   ]
  },
  {
   "cell_type": "markdown",
   "metadata": {
    "application/vnd.databricks.v1+cell": {
     "cellMetadata": {},
     "inputWidgets": {},
     "nuid": "36ee1208-cdfd-4cec-b4b3-de799eafb165",
     "showTitle": false,
     "tableResultSettingsMap": {},
     "title": ""
    }
   },
   "source": [
    "#Análise de Multicolinearidade"
   ]
  },
  {
   "cell_type": "code",
   "execution_count": 0,
   "metadata": {
    "application/vnd.databricks.v1+cell": {
     "cellMetadata": {
      "byteLimit": 2048000,
      "rowLimit": 10000
     },
     "inputWidgets": {},
     "nuid": "783329ad-d568-4d84-80bb-1155ad409fa5",
     "showTitle": false,
     "tableResultSettingsMap": {},
     "title": ""
    }
   },
   "outputs": [],
   "source": [
    "X_selected = x_train[['num__idade', 'num__idade_x_imc', \n",
    "                      'num__idade_x_filhos', 'num__fumante_x_imc', \n",
    "                      'cat__fumante_x_regiao_0.0', 'num__imc',\n",
    "                      'num__idade_div_imc']]\n",
    "\n",
    "corr_matrix = df_corr = X_selected.corr()\n",
    "mask = np.triu(np.ones_like(corr_matrix, dtype=bool), k=1)\n",
    "\n",
    "# Plot\n",
    "plt.figure(figsize=(8, 6))\n",
    "sns.heatmap(corr_matrix, mask=~mask, annot=True, fmt=\".2f\", cmap=\"coolwarm\", cbar=True)\n",
    "plt.title(\"Correlação - Diagonal Superior\")\n",
    "plt.tight_layout()\n",
    "\n",
    "plt.savefig('plots/corr_heatmap_selected_enginneered_features.png')\n",
    "\n",
    "plt.show()\n",
    "\n",
    "# Criação do DataFrame com os pares com correlação > 0.8\n",
    "upper_triangle = corr_matrix.where(mask)\n",
    "high_corr_pairs = (\n",
    "    upper_triangle.stack()\n",
    "    .reset_index()\n",
    "    .rename(columns={\"level_0\": \"variavel_1\", \"level_1\": \"variavel_2\", 0: \"correlacao\"})\n",
    "    .query(\"abs(correlacao) > 0.8\")\n",
    "    .sort_values(by=\"correlacao\", ascending=False)\n",
    ")\n",
    "\n",
    "# Pares altamente correlacionados\n",
    "display(high_corr_pairs)\n",
    "\n",
    "high_corr_pairs.to_csv('artifacts/high_corr_pairs.csv', index=False)"
   ]
  },
  {
   "cell_type": "markdown",
   "metadata": {
    "application/vnd.databricks.v1+cell": {
     "cellMetadata": {},
     "inputWidgets": {},
     "nuid": "2a03cc5f-4b73-42fb-a0e6-619dc5e7cc47",
     "showTitle": false,
     "tableResultSettingsMap": {},
     "title": ""
    }
   },
   "source": [
    "Vemos aqui que das 7 variáveis selecionadas (21 pares possíveis) 3 pares têm alta correlaçao:\n",
    "- idade e idade_x_imc - 0.88\n",
    "- idade e idade_div_imc - 0.84\n",
    "- fumante_x_imc e fumante_x_regiao0 - -0.97 (alta correlaçao negativa)\n",
    "\n",
    "Podemos trabalhar com as 7 variáveis e excluir as que compoem os 3 pares para modelos lineares como regressao linear e ridge regression"
   ]
  },
  {
   "cell_type": "code",
   "execution_count": 0,
   "metadata": {
    "application/vnd.databricks.v1+cell": {
     "cellMetadata": {},
     "inputWidgets": {},
     "nuid": "2340eb3b-d83e-4049-bf3d-0083568044d4",
     "showTitle": false,
     "tableResultSettingsMap": {},
     "title": ""
    }
   },
   "outputs": [],
   "source": []
  }
 ],
 "metadata": {
  "application/vnd.databricks.v1+notebook": {
   "computePreferences": null,
   "dashboards": [],
   "environmentMetadata": {
    "base_environment": "",
    "environment_version": "2"
   },
   "inputWidgetPreferences": null,
   "language": "python",
   "notebookMetadata": {
    "pythonIndentUnit": 4
   },
   "notebookName": "feature_selection",
   "widgets": {}
  },
  "language_info": {
   "name": "python"
  }
 },
 "nbformat": 4,
 "nbformat_minor": 0
}
