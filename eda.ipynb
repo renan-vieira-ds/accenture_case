{
 "cells": [
  {
   "cell_type": "markdown",
   "metadata": {
    "application/vnd.databricks.v1+cell": {
     "cellMetadata": {
      "byteLimit": 2048000,
      "rowLimit": 10000
     },
     "inputWidgets": {},
     "nuid": "e0d57e28-8ef5-427b-a28a-ae2d6b9fad3b",
     "showTitle": false,
     "tableResultSettingsMap": {},
     "title": ""
    }
   },
   "source": [
    "#Imports\n"
   ]
  },
  {
   "cell_type": "code",
   "execution_count": 0,
   "metadata": {
    "application/vnd.databricks.v1+cell": {
     "cellMetadata": {
      "byteLimit": 2048000,
      "rowLimit": 10000
     },
     "inputWidgets": {},
     "nuid": "e5e6eea1-52f7-4479-bf70-9b927ecd9773",
     "showTitle": false,
     "tableResultSettingsMap": {},
     "title": ""
    }
   },
   "outputs": [],
   "source": [
    "import pandas as pd\n",
    "from unidecode import unidecode\n",
    "import seaborn as sns\n",
    "import matplotlib.pyplot as plt\n",
    "import numpy as np\n",
    "from scipy.stats import pearsonr, mannwhitneyu, spearmanr\n",
    "from mlxtend.preprocessing import TransactionEncoder\n",
    "from mlxtend.frequent_patterns import apriori, association_rules"
   ]
  },
  {
   "cell_type": "markdown",
   "metadata": {
    "application/vnd.databricks.v1+cell": {
     "cellMetadata": {
      "byteLimit": 2048000,
      "rowLimit": 10000
     },
     "inputWidgets": {},
     "nuid": "2bd9fe91-45fb-427c-b7a4-b8f177c8a00d",
     "showTitle": false,
     "tableResultSettingsMap": {},
     "title": ""
    }
   },
   "source": [
    "# Carregando dados e criando Metadados"
   ]
  },
  {
   "cell_type": "code",
   "execution_count": 0,
   "metadata": {
    "application/vnd.databricks.v1+cell": {
     "cellMetadata": {
      "byteLimit": 2048000,
      "rowLimit": 10000
     },
     "inputWidgets": {},
     "nuid": "3d9802cb-d639-4810-9cc0-44e57b592530",
     "showTitle": false,
     "tableResultSettingsMap": {},
     "title": ""
    }
   },
   "outputs": [],
   "source": [
    "file_path = 'data/Seguro Saúde - Modelagem.xlsx'\n",
    "\n",
    "df = pd.read_excel(file_path, sheet_name='MODELAGEM')\n",
    "dicionario = pd.read_excel(file_path, sheet_name='DICIONÁRIO')\n",
    "\n",
    "# Função que deixa colunas minúsculas\n",
    "def normalize_columns(df):\n",
    "    df.columns = [unidecode(col).lower() for col in df.columns]\n",
    "    return df\n",
    "\n",
    "# Função para normalizar os valores das colunas de texto\n",
    "def normalize_text_values(df):\n",
    "    for col in df.select_dtypes(include=['object']).columns:\n",
    "        df[col] = df[col].apply(lambda x: unidecode(x).lower() if isinstance(x, str) else x)\n",
    "    return df\n",
    "\n",
    "df = normalize_columns(df)\n",
    "df = normalize_text_values(df)\n",
    "\n",
    "dicionario = normalize_columns(dicionario)\n",
    "dicionario = normalize_text_values(dicionario)\n",
    "\n",
    "dicionario.columns = ['variavel', 'descricao']\n",
    "\n",
    "display(df.head())\n",
    "display(dicionario.head(10))"
   ]
  },
  {
   "cell_type": "code",
   "execution_count": 0,
   "metadata": {
    "application/vnd.databricks.v1+cell": {
     "cellMetadata": {
      "byteLimit": 2048000,
      "rowLimit": 10000
     },
     "inputWidgets": {},
     "nuid": "eb79ffe0-c7f1-43e1-a517-00691075bbbe",
     "showTitle": false,
     "tableResultSettingsMap": {},
     "title": ""
    }
   },
   "outputs": [],
   "source": [
    "df.filhos = df.filhos.astype('Int64')\n",
    "df.fumante = df.fumante.astype('Int64')\n",
    "df.regiao = df.regiao.astype('Int64')\n",
    "df.facebook = df.facebook.astype('Int64')\n",
    "df.classe = df.classe.astype('Int64')\n",
    "display(df.head())"
   ]
  },
  {
   "cell_type": "code",
   "execution_count": 0,
   "metadata": {
    "application/vnd.databricks.v1+cell": {
     "cellMetadata": {
      "byteLimit": 2048000,
      "rowLimit": 10000
     },
     "inputWidgets": {},
     "nuid": "431bb428-b53d-497e-b5fc-3d1c914cd6f3",
     "showTitle": false,
     "tableResultSettingsMap": {},
     "title": ""
    }
   },
   "outputs": [],
   "source": [
    "def percent_nulls(df):\n",
    "    return round(df.isnull().mean() * 100, 2)\n",
    "\n",
    "def unique_values(df):\n",
    "    return df.nunique()\n",
    "\n",
    "def percent_zeros(df):\n",
    "    return round((df == 0).mean() * 100, 2)\n",
    "\n",
    "# Criando meta dados de df\n",
    "metadata = pd.DataFrame({\n",
    "    'variavel': df.columns,\n",
    "    'tipo': df.dtypes.astype(str),\n",
    "    'percentual_nulos': percent_nulls(df),\n",
    "    'valores_unicos': unique_values(df),\n",
    "    'percentual_zeros': percent_zeros(df)\n",
    "})\n",
    "\n",
    "metadata.reset_index(drop=True, inplace=True)\n",
    "\n",
    "display(metadata)\n",
    "metadata.to_csv('artifacts/metadata.csv', index=False)"
   ]
  },
  {
   "cell_type": "markdown",
   "metadata": {
    "application/vnd.databricks.v1+cell": {
     "cellMetadata": {
      "byteLimit": 2048000,
      "rowLimit": 10000
     },
     "inputWidgets": {},
     "nuid": "2ef85440-2112-4abe-80c4-7395411da9ed",
     "showTitle": false,
     "tableResultSettingsMap": {},
     "title": ""
    }
   },
   "source": [
    "# Funçoes"
   ]
  },
  {
   "cell_type": "code",
   "execution_count": 0,
   "metadata": {
    "application/vnd.databricks.v1+cell": {
     "cellMetadata": {
      "byteLimit": 2048000,
      "rowLimit": 10000
     },
     "inputWidgets": {},
     "nuid": "00bc0d9e-cb99-4693-b012-609b3e59cef7",
     "showTitle": false,
     "tableResultSettingsMap": {},
     "title": ""
    }
   },
   "outputs": [],
   "source": [
    "\n",
    "def plot_categorical(df, var, segmento=''):\n",
    "    # Criar uma cópia da coluna para evitar modificar o DataFrame original\n",
    "    data = df[var].copy()\n",
    "    \n",
    "    # Substituir 0 por 'não' e 1 por 'sim' para variáveis binárias\n",
    "    if set(data.dropna().unique()) == {0, 1}:\n",
    "        data = data.map({0: 'não', 1: 'sim'})\n",
    "    \n",
    "    # Calcular os percentuais\n",
    "    value_counts = data.value_counts(normalize=True) * 100\n",
    "    \n",
    "    plt.figure(figsize=(10, 6))\n",
    "    sns.barplot(x=value_counts.index, y=value_counts.values, palette='viridis', order=value_counts.index)\n",
    "    plt.title(f'{var}' + (f' - {segmento}' if segmento else ''))\n",
    "    plt.xlabel(var)\n",
    "    plt.ylabel('Percentual (%)')\n",
    "    plt.xticks(rotation=45)\n",
    "    \n",
    "    # Incluir o valor do percentual dentro da barra\n",
    "    for i, value in enumerate(value_counts.values):\n",
    "        plt.text(i, value / 2, f'{value:.2f}%', ha='center', va='center', color='white', fontweight='bold')\n",
    "    \n",
    "    plt.tight_layout()\n",
    "    \n",
    "    # Salvar o gráfico\n",
    "    plt.savefig(f'plots/percentual_{var}' + (f'_{segmento}' if segmento else '')  + '.png')\n",
    "    \n",
    "    # Exibir o gráfico\n",
    "    plt.show()"
   ]
  },
  {
   "cell_type": "code",
   "execution_count": 0,
   "metadata": {
    "application/vnd.databricks.v1+cell": {
     "cellMetadata": {
      "byteLimit": 2048000,
      "rowLimit": 10000
     },
     "inputWidgets": {},
     "nuid": "dbb00d30-e7f5-4f98-b99f-cc3fa364c306",
     "showTitle": false,
     "tableResultSettingsMap": {},
     "title": ""
    }
   },
   "outputs": [],
   "source": [
    "def plot_numeric(df, var, segmento=''):\n",
    "    # Remover valores NaN e infinitos\n",
    "    data = df[var].replace([np.inf, -np.inf], np.nan).dropna().to_numpy()\n",
    "    \n",
    "    fig, axes = plt.subplots(1, 2, figsize=(15, 6))\n",
    "    \n",
    "    # Histograma\n",
    "    sns.histplot(data, kde=True, ax=axes[0], color='skyblue')\n",
    "    axes[0].set_title(f'Histograma de {var}' + (f' - {segmento}' if segmento else ''))\n",
    "    axes[0].set_xlabel(var)\n",
    "    axes[0].set_ylabel('Frequência')\n",
    "    \n",
    "    # Boxplot\n",
    "    sns.boxplot(y=data, ax=axes[1], color='lightgreen')\n",
    "    axes[1].set_title(f'Boxplot de {var}' + (f' - {segmento}' if segmento else ''))\n",
    "    axes[1].set_xlabel(var) \n",
    "    axes[1].set_ylabel(var)\n",
    "    \n",
    "    plt.tight_layout()\n",
    "    \n",
    "    path_to_save =( \n",
    "                   f'plots/histograma_boxplot_{var}' + (f'_{segmento}' if segmento else '') + '.png')\n",
    "    plt.savefig(path_to_save)\n",
    "    \n",
    "    # Exibir o gráfico\n",
    "    plt.show()"
   ]
  },
  {
   "cell_type": "code",
   "execution_count": 0,
   "metadata": {
    "application/vnd.databricks.v1+cell": {
     "cellMetadata": {
      "byteLimit": 2048000,
      "rowLimit": 10000
     },
     "inputWidgets": {},
     "nuid": "9aa272df-c4cf-42a4-8d4e-58227edfac3b",
     "showTitle": false,
     "tableResultSettingsMap": {},
     "title": ""
    }
   },
   "outputs": [],
   "source": [
    "def plot_scatter(df, var, faixa=''):\n",
    "    df = df.dropna()\n",
    "    plt.figure(figsize=(10, 6))\n",
    "    sns.scatterplot(x=var, y='valor', data=df)\n",
    "\n",
    "    # Calcular a linha de tendência (regressão linear)\n",
    "    coeffs = np.polyfit(df[var], df['valor'], 1)\n",
    "    line = np.poly1d(coeffs)\n",
    "\n",
    "    # Plotar a linha de tendência\n",
    "    plt.plot(df[var], line(df[var]), color='red', linestyle='--', \n",
    "            label=f'Linha de Tendência: y = {coeffs[0]:.2f}x + {coeffs[1]:.2f}')\n",
    "\n",
    "    plt.title(f'{var} vs Valor' + (f' - Faixa de valor: {faixa}' if faixa else ''))\n",
    "    plt.xlabel(var)\n",
    "    plt.ylabel('Valor')\n",
    "    plt.grid(True, linestyle='--', alpha=0.7)\n",
    "    plt.tight_layout()\n",
    "    plt.savefig(f'plots/scatter_{var}_valor' + (f'_{faixa}' if faixa else '') + '.png')\n",
    "    plt.show()"
   ]
  },
  {
   "cell_type": "markdown",
   "metadata": {
    "application/vnd.databricks.v1+cell": {
     "cellMetadata": {
      "byteLimit": 2048000,
      "rowLimit": 10000
     },
     "inputWidgets": {},
     "nuid": "0f9971a0-8e20-4091-93bb-5b0bb25f9ee0",
     "showTitle": false,
     "tableResultSettingsMap": {},
     "title": ""
    }
   },
   "source": [
    "# Análise Univariada"
   ]
  },
  {
   "cell_type": "markdown",
   "metadata": {
    "application/vnd.databricks.v1+cell": {
     "cellMetadata": {
      "byteLimit": 2048000,
      "rowLimit": 10000
     },
     "inputWidgets": {},
     "nuid": "c5239d8f-3f9a-4ef7-b340-5f098bc0916e",
     "showTitle": false,
     "tableResultSettingsMap": {},
     "title": ""
    }
   },
   "source": [
    "Os custos anuais por cliente:\n",
    "- Custos chegam até R$19.500,00, mas sao casos esporádicos\n",
    "  - skewness a direita; cauda longa\n",
    "- Média de R$ 4.000,00 de gasto anual por cliente\n",
    "- maior concentraçao em valores até R$ 4.500,00\n",
    "- Apenas 25% dos clientes supepram R$ 4.800,00 de custo anual"
   ]
  },
  {
   "cell_type": "code",
   "execution_count": 0,
   "metadata": {
    "application/vnd.databricks.v1+cell": {
     "cellMetadata": {
      "byteLimit": 2048000,
      "rowLimit": 10000
     },
     "inputWidgets": {},
     "nuid": "a88fe27f-2f1c-4cba-aac6-efef41bbfe37",
     "showTitle": false,
     "tableResultSettingsMap": {},
     "title": ""
    }
   },
   "outputs": [],
   "source": [
    "display(df.valor.describe())\n",
    "\n",
    "# Criar o histograma\n",
    "plt.figure(figsize=(10, 6))\n",
    "sns.histplot(df.valor, kde=True)\n",
    "plt.title('Distribuição dos Gastos Anuais')\n",
    "plt.xlabel('Valor (R$)')\n",
    "plt.ylabel('Frequência')\n",
    "\n",
    "# Salvar o gráfico\n",
    "plt.savefig('plots/histograma_valor.png')\n",
    "\n",
    "# Exibir o gráfico\n",
    "plt.show()"
   ]
  },
  {
   "cell_type": "code",
   "execution_count": 0,
   "metadata": {
    "application/vnd.databricks.v1+cell": {
     "cellMetadata": {
      "byteLimit": 2048000,
      "rowLimit": 10000
     },
     "inputWidgets": {},
     "nuid": "09d4dff8-865f-4448-a14e-55d366a2b5df",
     "showTitle": false,
     "tableResultSettingsMap": {},
     "title": ""
    }
   },
   "outputs": [],
   "source": [
    "data = df['valor'].replace([np.inf, -np.inf], np.nan).dropna()\n",
    "\n",
    "# Quartis\n",
    "Q1 = data.quantile(0.25)\n",
    "Q2 = data.quantile(0.50)\n",
    "Q3 = data.quantile(0.75)\n",
    "IQR = Q3 - Q1\n",
    "\n",
    "print(f'Q1 da variável valor: {Q1}')\n",
    "print(f'Q2 da variável valor: {Q2}')\n",
    "print(f'Q3 da variável valor: {Q3}')\n",
    "print(f'IQR da variável valor: {IQR}')\n",
    "\n",
    "# Boxplot\n",
    "plt.figure(figsize=(10, 6))\n",
    "sns.boxplot(y=data, color='lightgreen')\n",
    "plt.title('Boxplot de valor')\n",
    "plt.ylabel('Valor (R$)')\n",
    "\n",
    "plt.axhline(Q1, color='r', linestyle='--', label='Q1')\n",
    "plt.axhline(Q2, color='g', linestyle='-', label='Q2 (Mediana)')\n",
    "plt.axhline(Q3, color='b', linestyle='--', label='Q3')\n",
    "plt.legend()\n",
    "\n",
    "plt.tight_layout()\n",
    "\n",
    "plt.savefig('plots/boxplot_valor.png')\n",
    "\n",
    "plt.show()"
   ]
  },
  {
   "cell_type": "markdown",
   "metadata": {
    "application/vnd.databricks.v1+cell": {
     "cellMetadata": {
      "byteLimit": 2048000,
      "rowLimit": 10000
     },
     "inputWidgets": {},
     "nuid": "e134da1c-c205-46ed-aa93-a7666721129a",
     "showTitle": false,
     "tableResultSettingsMap": {},
     "title": ""
    }
   },
   "source": [
    "\n",
    "Pelo boxplot, vemos:\n",
    "- um IQR de aproximadamente R$ 34.400,00\n",
    "- Podemos classificar os clcientes eme 4 categogrias\n",
    "  - muito baratos: custos até R$ 1.435,00\n",
    "  - baratos: R$ 1.435,00 < custos > R$ 2.800,00\n",
    "  - Caros: R$ 2.800,00 < custos > RS 4.805,00\n",
    "  - Muito caros: custos > R$ 4.805,00\n",
    "\n",
    "**OBS:** Esta classifiçao nao tem o objetivo de tratar o problema como classificaçao"
   ]
  },
  {
   "cell_type": "markdown",
   "metadata": {
    "application/vnd.databricks.v1+cell": {
     "cellMetadata": {},
     "inputWidgets": {},
     "nuid": "00275a49-da4f-46fd-b1be-fc79d13319bc",
     "showTitle": false,
     "tableResultSettingsMap": {},
     "title": ""
    }
   },
   "source": [
    "Agora uma análise de correlaçao das numéricas com a variável resposta"
   ]
  },
  {
   "cell_type": "code",
   "execution_count": 0,
   "metadata": {
    "application/vnd.databricks.v1+cell": {
     "cellMetadata": {
      "byteLimit": 2048000,
      "rowLimit": 10000
     },
     "inputWidgets": {},
     "nuid": "4c96fd04-9afd-4d5e-b5e8-8a4861e0d908",
     "showTitle": false,
     "tableResultSettingsMap": {},
     "title": ""
    }
   },
   "outputs": [],
   "source": [
    "plt.figure(figsize=(12, 8))\n",
    "sns.heatmap(df.drop('matricula', axis=1).corr(numeric_only=True), annot=True, cmap='coolwarm')\n",
    "plt.title('Matriz de Correlação')\n",
    "plt.tight_layout()\n",
    "plt.show()\n",
    "\n",
    "plt.savefig('plots/matriz_correlacao.png')"
   ]
  },
  {
   "cell_type": "markdown",
   "metadata": {
    "application/vnd.databricks.v1+cell": {
     "cellMetadata": {},
     "inputWidgets": {},
     "nuid": "4f4ffb7a-4068-47fc-ba1f-31856b0d08c3",
     "showTitle": false,
     "tableResultSettingsMap": {},
     "title": ""
    }
   },
   "source": [
    "Vamo que apenas a variável fumante tem alta correlaçao com o valor anual e que há baixíssimo correlaçao entre as variáveis"
   ]
  },
  {
   "cell_type": "markdown",
   "metadata": {
    "application/vnd.databricks.v1+cell": {
     "cellMetadata": {
      "byteLimit": 2048000,
      "rowLimit": 10000
     },
     "inputWidgets": {},
     "nuid": "04d4e7d1-b085-45a5-9595-5a5e571fe548",
     "showTitle": false,
     "tableResultSettingsMap": {},
     "title": ""
    }
   },
   "source": [
    "## Categóricas\n",
    "Queremos agora observar as distribuiçoes das  variáveis categóricas que sao visualmente simples de se interpretar"
   ]
  },
  {
   "cell_type": "code",
   "execution_count": 0,
   "metadata": {
    "application/vnd.databricks.v1+cell": {
     "cellMetadata": {
      "byteLimit": 2048000,
      "rowLimit": 10000
     },
     "inputWidgets": {},
     "nuid": "34ec3e15-a316-4c2c-a75f-0da11c219f7b",
     "showTitle": false,
     "tableResultSettingsMap": {},
     "title": ""
    }
   },
   "outputs": [],
   "source": [
    "df_no_matricula = df.drop(columns=['matricula'])\n",
    "\n",
    "# somente categóricas\n",
    "categorical_vars = df_no_matricula.select_dtypes(include=['object', 'int64']).columns\n",
    "\n",
    "for var in categorical_vars:\n",
    "    plot_categorical(df_no_matricula, var)"
   ]
  },
  {
   "cell_type": "markdown",
   "metadata": {
    "application/vnd.databricks.v1+cell": {
     "cellMetadata": {},
     "inputWidgets": {},
     "nuid": "a9bc44f4-2ba9-459a-8fc6-8644b65725b8",
     "showTitle": false,
     "tableResultSettingsMap": {},
     "title": ""
    }
   },
   "source": [
    "Agora faremos uma análise do valor médio anual por categoria das categóricas"
   ]
  },
  {
   "cell_type": "code",
   "execution_count": 0,
   "metadata": {
    "application/vnd.databricks.v1+cell": {
     "cellMetadata": {
      "byteLimit": 2048000,
      "rowLimit": 10000
     },
     "inputWidgets": {},
     "nuid": "85ff6b78-a672-4c76-86c7-0fc3b8b9d697",
     "showTitle": false,
     "tableResultSettingsMap": {},
     "title": ""
    }
   },
   "outputs": [],
   "source": [
    "df.groupby('regiao')['valor'].mean().sort_values().plot(kind='barh')\n",
    "plt.title('Média de Valor por Região')\n",
    "plt.xlabel('Valor Médio')\n",
    "plt.show()\n",
    "\n",
    "plt.savefig('plots/media_valor_regiao.png')"
   ]
  },
  {
   "cell_type": "code",
   "execution_count": 0,
   "metadata": {
    "application/vnd.databricks.v1+cell": {
     "cellMetadata": {
      "byteLimit": 2048000,
      "rowLimit": 10000
     },
     "inputWidgets": {},
     "nuid": "f9ec096c-1d21-462e-8c34-86565e17e1f2",
     "showTitle": false,
     "tableResultSettingsMap": {},
     "title": ""
    }
   },
   "outputs": [],
   "source": [
    "df.groupby('classe')['valor'].mean().sort_values().plot(kind='barh')\n",
    "plt.title('Média de Valor por Classe')\n",
    "plt.xlabel('Valor Médio')\n",
    "plt.show()\n",
    "\n",
    "plt.savefig('plots/media_valor_classe.png')"
   ]
  },
  {
   "cell_type": "code",
   "execution_count": 0,
   "metadata": {
    "application/vnd.databricks.v1+cell": {
     "cellMetadata": {
      "byteLimit": 2048000,
      "rowLimit": 10000
     },
     "inputWidgets": {},
     "nuid": "44161e96-9b51-4edf-99e5-bb440b351cdc",
     "showTitle": false,
     "tableResultSettingsMap": {},
     "title": ""
    }
   },
   "outputs": [],
   "source": [
    "df.groupby('sexo')['valor'].mean().sort_values().plot(kind='barh')\n",
    "plt.title('Média de Valor por Sexo')\n",
    "plt.xlabel('Valor Médio')\n",
    "plt.show()\n",
    "\n",
    "plt.savefig('plots/media_valor_sexo.png')"
   ]
  },
  {
   "cell_type": "code",
   "execution_count": 0,
   "metadata": {
    "application/vnd.databricks.v1+cell": {
     "cellMetadata": {
      "byteLimit": 2048000,
      "rowLimit": 10000
     },
     "inputWidgets": {},
     "nuid": "2d20570c-487d-4e99-8180-1d4ce0b80d2f",
     "showTitle": false,
     "tableResultSettingsMap": {},
     "title": ""
    }
   },
   "outputs": [],
   "source": [
    "df.groupby('fumante')['valor'].mean().sort_values().plot(kind='barh')\n",
    "plt.title('Média de Valor por Status de Fumante')\n",
    "plt.xlabel('Valor Médio')\n",
    "plt.show()\n",
    "\n",
    "plt.savefig('plots/media_valor_fumante.png')"
   ]
  },
  {
   "cell_type": "code",
   "execution_count": 0,
   "metadata": {
    "application/vnd.databricks.v1+cell": {
     "cellMetadata": {
      "byteLimit": 2048000,
      "rowLimit": 10000
     },
     "inputWidgets": {},
     "nuid": "457a3018-b4f6-49e6-a717-9b6af3ad058b",
     "showTitle": false,
     "tableResultSettingsMap": {},
     "title": ""
    }
   },
   "outputs": [],
   "source": [
    "df.groupby('facebook')['valor'].mean().sort_values().plot(kind='barh')\n",
    "plt.title('Média de Valor por Status de usuário de Facebook')\n",
    "plt.xlabel('Valor Médio')\n",
    "plt.show()\n",
    "\n",
    "plt.savefig('plots/media_valor_facebook.png')"
   ]
  },
  {
   "cell_type": "code",
   "execution_count": 0,
   "metadata": {
    "application/vnd.databricks.v1+cell": {
     "cellMetadata": {
      "byteLimit": 2048000,
      "rowLimit": 10000
     },
     "inputWidgets": {},
     "nuid": "736d5c85-0d6a-46e4-bc98-4097d163be97",
     "showTitle": false,
     "tableResultSettingsMap": {},
     "title": ""
    }
   },
   "outputs": [],
   "source": [
    "df.groupby('signo')['valor'].mean().sort_values().plot(kind='barh')\n",
    "plt.title('Média de Valor por Signo')\n",
    "plt.xlabel('Valor Médio')\n",
    "plt.show()\n",
    "\n",
    "plt.savefig('plots/media_valor_signo.png')"
   ]
  },
  {
   "cell_type": "markdown",
   "metadata": {
    "application/vnd.databricks.v1+cell": {
     "cellMetadata": {
      "byteLimit": 2048000,
      "rowLimit": 10000
     },
     "inputWidgets": {},
     "nuid": "2a14399f-f138-47d0-8f1b-ae4c304db31e",
     "showTitle": false,
     "tableResultSettingsMap": {},
     "title": ""
    }
   },
   "source": [
    "## Numéricas\n",
    "Queremos avaliar agora as variáveis numéricas, o que inclui:\n",
    "- histogramas e boxplots\n",
    "- análises segmentadas por variáveis categóricas como sexo, fumante, classe"
   ]
  },
  {
   "cell_type": "code",
   "execution_count": 0,
   "metadata": {
    "application/vnd.databricks.v1+cell": {
     "cellMetadata": {
      "byteLimit": 2048000,
      "rowLimit": 10000
     },
     "inputWidgets": {},
     "nuid": "b93a9f48-a8c6-4300-8c87-6519cb7d8682",
     "showTitle": false,
     "tableResultSettingsMap": {},
     "title": ""
    }
   },
   "outputs": [],
   "source": [
    "plot_numeric(df, 'idade')\n",
    "plot_numeric(df, 'imc')"
   ]
  },
  {
   "cell_type": "markdown",
   "metadata": {
    "application/vnd.databricks.v1+cell": {
     "cellMetadata": {
      "byteLimit": 2048000,
      "rowLimit": 10000
     },
     "inputWidgets": {},
     "nuid": "e6b279f7-0d93-4af9-8db0-7766d5f07fd5",
     "showTitle": false,
     "tableResultSettingsMap": {},
     "title": ""
    }
   },
   "source": [
    "\n",
    "Analisando os gráficos acima e os abaixo segmentados por sexo, vemos que a distribuiçao de idade e IMC nao diferem muito entre homens e mulheres"
   ]
  },
  {
   "cell_type": "code",
   "execution_count": 0,
   "metadata": {
    "application/vnd.databricks.v1+cell": {
     "cellMetadata": {
      "byteLimit": 2048000,
      "rowLimit": 10000
     },
     "inputWidgets": {},
     "nuid": "c9293f6b-9612-4b21-8d8d-2a4aa9a4c633",
     "showTitle": false,
     "tableResultSettingsMap": {},
     "title": ""
    }
   },
   "outputs": [],
   "source": [
    "plot_numeric(df[df.sexo== 'm'], 'idade', 'masculino')\n",
    "plot_numeric(df[df.sexo== 'f'], 'idade', 'feminino')\n",
    "plot_numeric(df[df.sexo== 'm'], 'imc', 'masculino')\n",
    "plot_numeric(df[df.sexo== 'f'], 'imc', 'feminino')"
   ]
  },
  {
   "cell_type": "markdown",
   "metadata": {
    "application/vnd.databricks.v1+cell": {
     "cellMetadata": {
      "byteLimit": 2048000,
      "rowLimit": 10000
     },
     "inputWidgets": {},
     "nuid": "23262896-9602-4428-9668-b72d62117821",
     "showTitle": false,
     "tableResultSettingsMap": {},
     "title": ""
    }
   },
   "source": [
    "\n",
    "Vejamos agora o IMC geral segundo a classificaçao do ministérioo da saúde"
   ]
  },
  {
   "cell_type": "code",
   "execution_count": 0,
   "metadata": {
    "application/vnd.databricks.v1+cell": {
     "cellMetadata": {
      "byteLimit": 2048000,
      "rowLimit": 10000
     },
     "inputWidgets": {},
     "nuid": "d6ad00ad-5456-460d-9e82-20aec52638da",
     "showTitle": false,
     "tableResultSettingsMap": {},
     "title": ""
    }
   },
   "outputs": [],
   "source": [
    "df['imc_categoria'] = pd.cut(\n",
    "    df['imc'],\n",
    "    bins=[-float('inf'), 16, 16.9, 18.4, 24.9, 29.9, 34.9, 39.9, float('inf')],\n",
    "    labels=['magreza grave', 'magreza moderada', 'magreza leve', 'normal', 'sobrepeso', 'obesidade grau 1', 'obesidade severa', 'obesidade mórbida']\n",
    ")\n",
    "\n",
    "plot_categorical(df[df.fumante == 1], 'imc_categoria', 'fumante')\n",
    "plot_categorical(df[df.fumante == 0], 'imc_categoria', 'não fumante')"
   ]
  },
  {
   "cell_type": "markdown",
   "metadata": {
    "application/vnd.databricks.v1+cell": {
     "cellMetadata": {
      "byteLimit": 2048000,
      "rowLimit": 10000
     },
     "inputWidgets": {},
     "nuid": "c5524e5d-0512-4ce3-a4bc-85b3b1fcef76",
     "showTitle": false,
     "tableResultSettingsMap": {},
     "title": ""
    }
   },
   "source": [
    "\n",
    "Observamos que nao há diferença significativa na distribuiçao do grau de IMC e ser fumante ou nao"
   ]
  },
  {
   "cell_type": "markdown",
   "metadata": {
    "application/vnd.databricks.v1+cell": {
     "cellMetadata": {
      "byteLimit": 2048000,
      "rowLimit": 10000
     },
     "inputWidgets": {},
     "nuid": "5f8bf202-38c3-4445-82f3-80b73abfad4e",
     "showTitle": false,
     "tableResultSettingsMap": {},
     "title": ""
    }
   },
   "source": [
    "\n",
    "#Análise Multiivariada"
   ]
  },
  {
   "cell_type": "markdown",
   "metadata": {
    "application/vnd.databricks.v1+cell": {
     "cellMetadata": {
      "byteLimit": 2048000,
      "rowLimit": 10000
     },
     "inputWidgets": {},
     "nuid": "0700e57d-4c66-4c8c-a590-802af4bf06f7",
     "showTitle": false,
     "tableResultSettingsMap": {},
     "title": ""
    }
   },
   "source": [
    "\n",
    "Queremos observar se há relaçao entre a idade e os custos anuais"
   ]
  },
  {
   "cell_type": "code",
   "execution_count": 0,
   "metadata": {
    "application/vnd.databricks.v1+cell": {
     "cellMetadata": {
      "byteLimit": 2048000,
      "rowLimit": 10000
     },
     "inputWidgets": {},
     "nuid": "c0d58780-57b6-444f-abcb-24b85d8c9b30",
     "showTitle": false,
     "tableResultSettingsMap": {},
     "title": ""
    }
   },
   "outputs": [],
   "source": [
    "plot_scatter(df, 'idade')"
   ]
  },
  {
   "cell_type": "markdown",
   "metadata": {
    "application/vnd.databricks.v1+cell": {
     "cellMetadata": {
      "byteLimit": 2048000,
      "rowLimit": 10000
     },
     "inputWidgets": {},
     "nuid": "c3f259fb-a69f-418f-934a-dbd2100372d4",
     "showTitle": false,
     "tableResultSettingsMap": {},
     "title": ""
    }
   },
   "source": [
    "\n",
    "Observamos 3 grupos de relaçao por faixa de valores:\n",
    "- até R$ 5.000,00\n",
    "- entre  R$ 5.000,00 e R$ 10.000,00\n",
    "- gastos maiores que R$ 10.000,00\n",
    "\n",
    "Vamos explorar graficamente os 3 grupos e analisar a tendência de correlaçao"
   ]
  },
  {
   "cell_type": "code",
   "execution_count": 0,
   "metadata": {
    "application/vnd.databricks.v1+cell": {
     "cellMetadata": {
      "byteLimit": 2048000,
      "rowLimit": 10000
     },
     "inputWidgets": {},
     "nuid": "cb597748-325a-4d65-999d-3d2848b574fd",
     "showTitle": false,
     "tableResultSettingsMap": {},
     "title": ""
    }
   },
   "outputs": [],
   "source": [
    "aux = df.dropna()\n",
    "aux1 = aux[aux.valor <= 5000]\n",
    "aux2 = aux[(aux.valor > 5000) & (aux.valor <= 10000)]\n",
    "aux3 = aux[aux.valor > 10000]\n",
    "\n",
    "plot_scatter(aux1, 'idade', '<=5000')\n",
    "r, p_value = pearsonr(aux1['idade'], aux1['valor'])\n",
    "print(f\"Cluster {'<= R$ 5.000,00'}: Correlação (r) = {r:.3f}, p-value = {p_value:.3f}\")\n",
    "\n",
    "plot_scatter(aux2, 'idade', '5000-10000')\n",
    "r, p_value = pearsonr(aux2['idade'], aux2['valor'])\n",
    "print(f\"Cluster {'> R$ 5.000,00 <= R$ 10.000,00'}: Correlação (r) = {r:.3f}, p-value = {p_value:.3f}\")\n",
    "\n",
    "plot_scatter(aux3, 'idade', '>10000')\n",
    "r, p_value = pearsonr(aux3['idade'], aux3['valor'])\n",
    "print(f\"Cluster {'> R$ 10.000,00'}: Correlação (r) = {r:.3f}, p-value = {p_value:.3f}\")"
   ]
  },
  {
   "cell_type": "markdown",
   "metadata": {
    "application/vnd.databricks.v1+cell": {
     "cellMetadata": {
      "byteLimit": 2048000,
      "rowLimit": 10000
     },
     "inputWidgets": {},
     "nuid": "a7200252-b11b-4009-935f-bd8d910440ff",
     "showTitle": false,
     "tableResultSettingsMap": {},
     "title": ""
    }
   },
   "source": [
    "\n",
    "Concluimos que para as 3 faixas de valores temos altas correlaçoes e estatisticamente sigificativas como indicam os p-values, destacando a alta correlaçao entre a idade e os gastos para clientes com gastos de barato a moderado - até R$5.000,00\n",
    "\n",
    "Segue os coeficientes de correlaçao:\n",
    "- Até R$ 5.000,00: 0.85 (altíssima correlaçao)\n",
    "- Entre R$ 5.000,00 e R$ 10.000,00: 0.65 (correlaçao consideravel)\n",
    "- Acima  de R$ 10.000,00: 0.61 (também considerável)"
   ]
  },
  {
   "cell_type": "markdown",
   "metadata": {
    "application/vnd.databricks.v1+cell": {
     "cellMetadata": {
      "byteLimit": 2048000,
      "rowLimit": 10000
     },
     "inputWidgets": {},
     "nuid": "8ebb10ae-f861-4dc3-86d9-51c4bdd6f2fc",
     "showTitle": false,
     "tableResultSettingsMap": {},
     "title": ""
    }
   },
   "source": [
    "\n",
    "Vejamos agora a relaçao entre imc e os gastos"
   ]
  },
  {
   "cell_type": "code",
   "execution_count": 0,
   "metadata": {
    "application/vnd.databricks.v1+cell": {
     "cellMetadata": {
      "byteLimit": 2048000,
      "rowLimit": 10000
     },
     "inputWidgets": {},
     "nuid": "6ce73479-6cc7-49c6-91cc-870165c1c17c",
     "showTitle": false,
     "tableResultSettingsMap": {},
     "title": ""
    }
   },
   "outputs": [],
   "source": [
    "aux = df.replace([np.inf, -np.inf], np.nan).dropna()\n",
    "plot_scatter(aux, 'imc')\n",
    "r, p_value = pearsonr(aux['imc'], aux['valor'])\n",
    "print(f\"IMC vs Valor: Correlação (r) = {r:.2f}, p-value = {p_value:.2f}\")"
   ]
  },
  {
   "cell_type": "markdown",
   "metadata": {
    "application/vnd.databricks.v1+cell": {
     "cellMetadata": {
      "byteLimit": 2048000,
      "rowLimit": 10000
     },
     "inputWidgets": {},
     "nuid": "abc3e045-09e0-4371-8622-056fb95710d7",
     "showTitle": false,
     "tableResultSettingsMap": {},
     "title": ""
    }
   },
   "source": [
    "\n",
    "Mais uma vez parece que a relaçao se estabelece por faixa de valor. Verifiquemos, portanto."
   ]
  },
  {
   "cell_type": "code",
   "execution_count": 0,
   "metadata": {
    "application/vnd.databricks.v1+cell": {
     "cellMetadata": {
      "byteLimit": 2048000,
      "rowLimit": 10000
     },
     "inputWidgets": {},
     "nuid": "afba2c45-6db4-4c46-8a27-fb5575eafa50",
     "showTitle": false,
     "tableResultSettingsMap": {},
     "title": ""
    }
   },
   "outputs": [],
   "source": [
    "aux = df.dropna()\n",
    "aux1 = aux[aux.valor <= 5000]\n",
    "aux2 = aux[aux.valor > 5000]\n",
    "\n",
    "plot_scatter(aux1, 'imc', '<=5000')\n",
    "r, p_value = pearsonr(aux1['imc'], aux1['valor'])\n",
    "print(f\"Cluster {'<= R$ 5.000,00'}: Correlação (r) = {r:.3f}, p-value = {p_value:.3f}\")\n",
    "\n",
    "plot_scatter(aux2, 'imc', '>5000')\n",
    "r, p_value = pearsonr(aux2['imc'], aux2['valor'])\n",
    "print(f\"Cluster {'> R$ 5.000,00'}: Correlação (r) = {r:.3f}, p-value = {p_value:.3f}\")"
   ]
  },
  {
   "cell_type": "markdown",
   "metadata": {
    "application/vnd.databricks.v1+cell": {
     "cellMetadata": {
      "byteLimit": 2048000,
      "rowLimit": 10000
     },
     "inputWidgets": {},
     "nuid": "429f1a0f-ae68-4974-bcd1-7325de66fa25",
     "showTitle": false,
     "tableResultSettingsMap": {},
     "title": ""
    }
   },
   "source": [
    "\n",
    "Vemos que para valores maiores que R$ 5.000,00, o IMC tem uma correlaçao considerável com os custos anuais. Já para gastos de baixo a moderado, nao há correlaçao entre IMC e gasto anual."
   ]
  },
  {
   "cell_type": "markdown",
   "metadata": {
    "application/vnd.databricks.v1+cell": {
     "cellMetadata": {
      "byteLimit": 2048000,
      "rowLimit": 10000
     },
     "inputWidgets": {},
     "nuid": "287331b4-32e8-4f48-812c-385680dd20a4",
     "showTitle": false,
     "tableResultSettingsMap": {},
     "title": ""
    }
   },
   "source": [
    "\n",
    "Queremos agora analisar a relaçao dos gastos com o fato de ser fumante. Para isso comparemos os boxplot de gastos para cada status de fumante"
   ]
  },
  {
   "cell_type": "code",
   "execution_count": 0,
   "metadata": {
    "application/vnd.databricks.v1+cell": {
     "cellMetadata": {
      "byteLimit": 2048000,
      "rowLimit": 10000
     },
     "inputWidgets": {},
     "nuid": "d21a68d1-d8ee-44d6-add8-2141a6a6c91c",
     "showTitle": false,
     "tableResultSettingsMap": {},
     "title": ""
    }
   },
   "outputs": [],
   "source": [
    "plt.figure(figsize=(8, 6))\n",
    "sns.boxplot(data=df.dropna(), x='fumante', y='valor', palette='viridis')\n",
    "plt.title('Distribuição do Custo por Status de Fumante', fontsize=14)\n",
    "plt.xlabel('Fumante (0 = Não, 1 = Sim)', fontsize=12)\n",
    "plt.ylabel('Custo (R$)', fontsize=12)\n",
    "plt.grid(axis='y', linestyle='--', alpha=0.3)\n",
    "plt.show()"
   ]
  },
  {
   "cell_type": "markdown",
   "metadata": {
    "application/vnd.databricks.v1+cell": {
     "cellMetadata": {
      "byteLimit": 2048000,
      "rowLimit": 10000
     },
     "inputWidgets": {},
     "nuid": "ea3a3e26-b156-48da-82fa-bda62b32adf2",
     "showTitle": false,
     "tableResultSettingsMap": {},
     "title": ""
    }
   },
   "source": [
    "\n",
    "Vemos uma diferrença muito grande entre as distribuiçoes de gastos com os fumantes acaretando uma mediana de gastos acima dos R$ 10.000,00 enquanto que para nao fumantes gastos próximos a R$ 10,000 sao outliers. Portanto, esta valor preditivo forte."
   ]
  },
  {
   "cell_type": "code",
   "execution_count": 0,
   "metadata": {
    "application/vnd.databricks.v1+cell": {
     "cellMetadata": {
      "byteLimit": 2048000,
      "rowLimit": 10000
     },
     "inputWidgets": {},
     "nuid": "db874929-6d76-475f-a216-6230b0b0a62a",
     "showTitle": false,
     "tableResultSettingsMap": {},
     "title": ""
    }
   },
   "outputs": [],
   "source": [
    "plt.figure(figsize=(10, 6))\n",
    "\n",
    "sns.boxplot(data=df.dropna(), x='regiao', y='valor', palette='coolwarm')\n",
    "\n",
    "plt.title('Distribuição do Custo por Região', fontsize=14)\n",
    "plt.xlabel('Região', fontsize=12)\n",
    "plt.ylabel('Custo (R$)', fontsize=12)\n",
    "plt.grid(axis='y', linestyle='--', alpha=0.3)\n",
    "plt.show()"
   ]
  },
  {
   "cell_type": "markdown",
   "metadata": {
    "application/vnd.databricks.v1+cell": {
     "cellMetadata": {
      "byteLimit": 2048000,
      "rowLimit": 10000
     },
     "inputWidgets": {},
     "nuid": "66942a39-783d-4fba-94d6-8e0dcf3216a1",
     "showTitle": false,
     "tableResultSettingsMap": {},
     "title": ""
    }
   },
   "source": [
    "\n",
    "Vemos que nao há diferenças entre os gastos e as regioes, destacando-se apenas a regiao 1 com um IQR pouco mais largo e valor máximo maior. Mas nao chega a apresentar uma distribuiçao que se diferencice bastante das outras regioes. "
   ]
  },
  {
   "cell_type": "markdown",
   "metadata": {
    "application/vnd.databricks.v1+cell": {
     "cellMetadata": {
      "byteLimit": 2048000,
      "rowLimit": 10000
     },
     "inputWidgets": {},
     "nuid": "5c185ab7-4470-4e8f-aa6b-45f07bceb2fc",
     "showTitle": false,
     "tableResultSettingsMap": {},
     "title": ""
    }
   },
   "source": [
    "\n",
    "Agora vejamos a distribuiçao da variável classe vs valor. Usaremos violinplot destacando os quartis de classe, já que classe tem alta cardinalidade e, portanto, requer uma visuaalizaçao menos \"poluída\" e mais condensada"
   ]
  },
  {
   "cell_type": "code",
   "execution_count": 0,
   "metadata": {
    "application/vnd.databricks.v1+cell": {
     "cellMetadata": {
      "byteLimit": 2048000,
      "rowLimit": 10000
     },
     "inputWidgets": {},
     "nuid": "d462a51a-e890-4dc0-9a5b-f71b7e06445e",
     "showTitle": false,
     "tableResultSettingsMap": {},
     "title": ""
    }
   },
   "outputs": [],
   "source": [
    "plt.figure(figsize=(10, 6))\n",
    "\n",
    "sns.violinplot(data=df.dropna(), x='classe', y='valor', inner='quartile')  # Mostra quartis dentro do violino\n",
    "\n",
    "plt.title('Distribuição do Custo por Classe de Clientes', fontsize=14)\n",
    "plt.xlabel('Classe', fontsize=12)\n",
    "plt.ylabel('Custo (R$)', fontsize=12)\n",
    "plt.grid(axis='y', linestyle='--', alpha=0.3)\n",
    "plt.show()\n"
   ]
  },
  {
   "cell_type": "markdown",
   "metadata": {
    "application/vnd.databricks.v1+cell": {
     "cellMetadata": {
      "byteLimit": 2048000,
      "rowLimit": 10000
     },
     "inputWidgets": {},
     "nuid": "6451355b-bba0-4150-877e-69c59120cd07",
     "showTitle": false,
     "tableResultSettingsMap": {},
     "title": ""
    }
   },
   "source": [
    "\n",
    "Vemos que nao há diferenças cocnsideráveis na relaçao valor-classe"
   ]
  },
  {
   "cell_type": "code",
   "execution_count": 0,
   "metadata": {
    "application/vnd.databricks.v1+cell": {
     "cellMetadata": {
      "byteLimit": 2048000,
      "rowLimit": 10000
     },
     "inputWidgets": {},
     "nuid": "998f6b41-271b-4536-8091-64b17250739b",
     "showTitle": false,
     "tableResultSettingsMap": {},
     "title": ""
    }
   },
   "outputs": [],
   "source": [
    "plt.figure(figsize=(10, 6))\n",
    "aux = df.dropna()\n",
    "aux['facebook'] = aux.facebook.map({0: 'não', 1: 'sim'})\n",
    "sns.boxplot(data=aux, x='facebook', y='valor', palette='coolwarm')\n",
    "\n",
    "plt.title('Distribuição do Custo por Status de Usuário do Facebook', fontsize=14)\n",
    "plt.xlabel('Usuário Facebook', fontsize=12)\n",
    "plt.ylabel('Custo (R$)', fontsize=12)\n",
    "plt.grid(axis='y', linestyle='--', alpha=0.3)\n",
    "plt.show()"
   ]
  },
  {
   "cell_type": "markdown",
   "metadata": {
    "application/vnd.databricks.v1+cell": {
     "cellMetadata": {
      "byteLimit": 2048000,
      "rowLimit": 10000
     },
     "inputWidgets": {},
     "nuid": "6bc40478-14cf-4cdd-a2be-6fd48afc3307",
     "showTitle": false,
     "tableResultSettingsMap": {},
     "title": ""
    }
   },
   "source": [
    "\n",
    "Parece haver uma diferença entre  usuários e nao usuários  do facebook pelas medianas  pouco diferentes,  iqrs com larguras ligieramente distintas e distribuiçaoes com quartis diferentes. Façamos um teste de hipótese  pra checar se  a diferença é estatisticamemnte significativa ou nao entre os dois  casos"
   ]
  },
  {
   "cell_type": "code",
   "execution_count": 0,
   "metadata": {
    "application/vnd.databricks.v1+cell": {
     "cellMetadata": {
      "byteLimit": 2048000,
      "rowLimit": 10000
     },
     "inputWidgets": {},
     "nuid": "3883e734-2a6a-4725-abc9-10aeec142130",
     "showTitle": false,
     "tableResultSettingsMap": {},
     "title": ""
    }
   },
   "outputs": [],
   "source": [
    "grupo_sim = df.dropna()[df.facebook == 1]['valor']\n",
    "grupo_nao = df.dropna()[df.facebook == 0]['valor']\n",
    "\n",
    "stat, p_value = mannwhitneyu(grupo_nao, grupo_sim, alternative='two-sided')\n",
    "print(f\"Mann-Whitney: p-value = {p_value:.4f}\")"
   ]
  },
  {
   "cell_type": "markdown",
   "metadata": {
    "application/vnd.databricks.v1+cell": {
     "cellMetadata": {
      "byteLimit": 2048000,
      "rowLimit": 10000
     },
     "inputWidgets": {},
     "nuid": "b516fc37-8841-4a49-b943-36d5f9813d7e",
     "showTitle": false,
     "tableResultSettingsMap": {},
     "title": ""
    }
   },
   "source": [
    "\n",
    "Há uma diferença significativa entre as distribuiçoes de gastos entre usuáŕios e nao usuárioss do facebook, indicando que usáŕios têm umam distribuicao de gastos menor.\n",
    "\n",
    "Isso pode terr a ver com  a idade  dos clientes, uma vez que usuários mais jovens tendem a usar redes sociais mais que os mais idosos. E vimos antes que para 3  faixas de valores anuais diferentes quanto mais velho o cliente maior seus gastos."
   ]
  },
  {
   "cell_type": "markdown",
   "metadata": {
    "application/vnd.databricks.v1+cell": {
     "cellMetadata": {
      "byteLimit": 2048000,
      "rowLimit": 10000
     },
     "inputWidgets": {},
     "nuid": "b1666821-9c6a-47ca-9cd7-720a508e3311",
     "showTitle": false,
     "tableResultSettingsMap": {},
     "title": ""
    }
   },
   "source": [
    "\n",
    "Vejamos agora a variável filhos e distribuiçao de valor anual por quanntidade de filhos do cliente. \n",
    "Analisemos:\n",
    "- Violin plots, por ter 6 valores\n",
    "- Spearman correlation pra checar a correlaçao ordinal entre as duas variáveis"
   ]
  },
  {
   "cell_type": "code",
   "execution_count": 0,
   "metadata": {
    "application/vnd.databricks.v1+cell": {
     "cellMetadata": {
      "byteLimit": 2048000,
      "rowLimit": 10000
     },
     "inputWidgets": {},
     "nuid": "7dbb3e4f-d259-43a2-87df-9f1949c5e81f",
     "showTitle": false,
     "tableResultSettingsMap": {},
     "title": ""
    }
   },
   "outputs": [],
   "source": [
    "corr, p_value = spearmanr(df.dropna()['filhos'], df.dropna()['valor'])\n",
    "print(f\"Correlação de Spearman: r = {corr:.3f}, p-value = {p_value:.4f}\")\n",
    "\n",
    "plt.figure(figsize=(10, 6))\n",
    "\n",
    "sns.violinplot(data=df.dropna(), x='filhos', y='valor', inner='quartile')  # Mostra quartis dentro do violino\n",
    "\n",
    "plt.title('Distribuição do Custo por Quantidade de filhos', fontsize=14)\n",
    "plt.xlabel('Quantidade de filhos', fontsize=12)\n",
    "plt.ylabel('Custo (R$)', fontsize=12)\n",
    "plt.grid(axis='y', linestyle='--', alpha=0.3)\n",
    "plt.show()\n"
   ]
  },
  {
   "cell_type": "markdown",
   "metadata": {
    "application/vnd.databricks.v1+cell": {
     "cellMetadata": {
      "byteLimit": 2048000,
      "rowLimit": 10000
     },
     "inputWidgets": {},
     "nuid": "8b57550f-cb2c-4b7f-a335-d422d12226d2",
     "showTitle": false,
     "tableResultSettingsMap": {},
     "title": ""
    }
   },
   "source": [
    "\n",
    "Sem relaçao direta entre a idade do cliente o seu custo anual"
   ]
  },
  {
   "cell_type": "markdown",
   "metadata": {
    "application/vnd.databricks.v1+cell": {
     "cellMetadata": {
      "byteLimit": 2048000,
      "rowLimit": 10000
     },
     "inputWidgets": {},
     "nuid": "65322530-e97d-4cb3-a6bc-926a7965498e",
     "showTitle": false,
     "tableResultSettingsMap": {},
     "title": ""
    }
   },
   "source": [
    "\n",
    "Vejamos agora a relaçao entre os custos anuais por cliente e o signo. Apesar de, a princípio parecer uma variável aleatória com relaçao ao custo, ela indica, se é verdade que os signos apontam comportamento, que alguns clientes podem ter mais ou menos preocupaçoes com a saúde e trazerem mais ou menos gastos.\n",
    "\n",
    "Vejamos os boxplots pra cada signo"
   ]
  },
  {
   "cell_type": "code",
   "execution_count": 0,
   "metadata": {
    "application/vnd.databricks.v1+cell": {
     "cellMetadata": {
      "byteLimit": 2048000,
      "rowLimit": 10000
     },
     "inputWidgets": {},
     "nuid": "573f7fae-79cd-49f2-9765-9541069cb7ab",
     "showTitle": false,
     "tableResultSettingsMap": {},
     "title": ""
    }
   },
   "outputs": [],
   "source": [
    "plt.figure(figsize=(10, 6))\n",
    "\n",
    "sns.violinplot(data=df.dropna(), x='signo', y='valor', inner='quartile')  # Mostra quartis dentro do violino\n",
    "\n",
    "plt.title('Distribuição do Custo por Signo', fontsize=14)\n",
    "plt.xlabel('Signos', fontsize=12)\n",
    "plt.ylabel('Custo (R$)', fontsize=12)\n",
    "plt.grid(axis='y', linestyle='--', alpha=0.3)\n",
    "plt.show()\n"
   ]
  },
  {
   "cell_type": "markdown",
   "metadata": {
    "application/vnd.databricks.v1+cell": {
     "cellMetadata": {
      "byteLimit": 2048000,
      "rowLimit": 10000
     },
     "inputWidgets": {},
     "nuid": "c0ba9843-e2d4-45ad-93b6-c7dce82854e9",
     "showTitle": false,
     "tableResultSettingsMap": {},
     "title": ""
    }
   },
   "source": [
    "\n",
    "Observamos que as distribuiçoes de custo por signo nao indicam padroes diferentes."
   ]
  },
  {
   "cell_type": "markdown",
   "metadata": {
    "application/vnd.databricks.v1+cell": {
     "cellMetadata": {
      "byteLimit": 2048000,
      "rowLimit": 10000
     },
     "inputWidgets": {},
     "nuid": "2040e410-bbf9-4ebf-9343-8b2875fde99e",
     "showTitle": false,
     "tableResultSettingsMap": {},
     "title": ""
    }
   },
   "source": [
    "# Análise com algoritmo A Priori"
   ]
  },
  {
   "cell_type": "markdown",
   "metadata": {
    "application/vnd.databricks.v1+cell": {
     "cellMetadata": {
      "byteLimit": 2048000,
      "rowLimit": 10000
     },
     "inputWidgets": {},
     "nuid": "dc0850be-90ba-4426-8a24-e0150e54bb2b",
     "showTitle": false,
     "tableResultSettingsMap": {},
     "title": ""
    }
   },
   "source": [
    "## Categorizando os dados"
   ]
  },
  {
   "cell_type": "code",
   "execution_count": 0,
   "metadata": {
    "application/vnd.databricks.v1+cell": {
     "cellMetadata": {
      "byteLimit": 2048000,
      "rowLimit": 10000
     },
     "inputWidgets": {},
     "nuid": "69261e4b-6029-4458-ae74-4b667708120d",
     "showTitle": false,
     "tableResultSettingsMap": {},
     "title": ""
    }
   },
   "outputs": [],
   "source": [
    "df['faixa_etaria'] = pd.cut(df['idade'],\n",
    "                           bins=[0, 30, 50, 100],\n",
    "                           labels=['jovem', 'adulto', 'senior'])\n",
    "df['categoria_qtd_filhos'] = pd.cut(df['filhos'],\n",
    "                                   bins=[0,1,2,4,6],\n",
    "                                   labels=['nenhum', 'poucos', 'medio', 'muitos'])\n",
    "df['categoria_valor'] = pd.cut(df['valor'],\n",
    "                              bins=[0, 2500, 5000, 10000, float('inf')],\n",
    "                              labels=['barato', 'moderado', 'caro', 'muito_caro'])\n",
    "\n",
    "cols_categoricas_inteiro = ['fumante', 'facebook', 'regiao', 'classe'] \n",
    "\n",
    "# Convertendo para tipo categórico\n",
    "for col in cols_categoricas_inteiro:\n",
    "    df[col] = df[col].astype('category')"
   ]
  },
  {
   "cell_type": "code",
   "execution_count": 0,
   "metadata": {
    "application/vnd.databricks.v1+cell": {
     "cellMetadata": {
      "byteLimit": 2048000,
      "rowLimit": 10000
     },
     "inputWidgets": {},
     "nuid": "d7cf5283-518b-4374-bf83-5627aaef8431",
     "showTitle": false,
     "tableResultSettingsMap": {},
     "title": ""
    }
   },
   "outputs": [],
   "source": [
    "display(df.head())"
   ]
  },
  {
   "cell_type": "markdown",
   "metadata": {
    "application/vnd.databricks.v1+cell": {
     "cellMetadata": {
      "byteLimit": 2048000,
      "rowLimit": 10000
     },
     "inputWidgets": {},
     "nuid": "85f0cb5f-142d-4686-b8b2-2257b39b676d",
     "showTitle": false,
     "tableResultSettingsMap": {},
     "title": ""
    }
   },
   "source": [
    "## Preparando os dados pro algoritmo"
   ]
  },
  {
   "cell_type": "code",
   "execution_count": 0,
   "metadata": {
    "application/vnd.databricks.v1+cell": {
     "cellMetadata": {
      "byteLimit": 2048000,
      "rowLimit": 10000
     },
     "inputWidgets": {},
     "nuid": "a2dab29e-117d-4b46-9ec1-7ea03406e10e",
     "showTitle": false,
     "tableResultSettingsMap": {},
     "title": ""
    }
   },
   "outputs": [],
   "source": [
    "cols_analise = ['sexo', 'faixa_etaria', 'fumante', 'regiao',\n",
    "                'facebook', 'classe', 'imc_categoria', \n",
    "                'categoria_qtd_filhos','categoria_valor']\n",
    "\n",
    "df_analise = df[cols_analise].dropna()\n",
    "df_analise = df_analise.astype(str)\n",
    "\n",
    "# Transformando em transações\n",
    "transacoes = df_analise.apply(lambda x: [f\"{col}={val}\" for col, val in zip(x.index, x.values)], axis=1).tolist()\n",
    "\n",
    "# One-hot encoding\n",
    "te = TransactionEncoder()\n",
    "te_ary = te.fit(transacoes).transform(transacoes)\n",
    "df_encoded = pd.DataFrame(te_ary, columns=te.columns_)"
   ]
  },
  {
   "cell_type": "markdown",
   "metadata": {
    "application/vnd.databricks.v1+cell": {
     "cellMetadata": {
      "byteLimit": 2048000,
      "rowLimit": 10000
     },
     "inputWidgets": {},
     "nuid": "a8dc0232-8a42-48bb-a37d-8890898a808c",
     "showTitle": false,
     "tableResultSettingsMap": {},
     "title": ""
    }
   },
   "source": [
    "## Grid search do Algoritmo"
   ]
  },
  {
   "cell_type": "code",
   "execution_count": 0,
   "metadata": {
    "application/vnd.databricks.v1+cell": {
     "cellMetadata": {
      "byteLimit": 2048000,
      "rowLimit": 10000
     },
     "inputWidgets": {},
     "nuid": "98d88667-cf8f-4db9-bb21-54cc9685dd4a",
     "showTitle": false,
     "tableResultSettingsMap": {},
     "title": ""
    }
   },
   "outputs": [],
   "source": [
    "# Experimentando com diferentes parâmetros\n",
    "param_grid = {\n",
    "    'min_support': [0.05, 0.1, 0.15],\n",
    "    'min_threshold': [0.6, 0.7, 0.8]\n",
    "}\n",
    "\n",
    "valor_categories = ['categoria_valor=barato', 'categoria_valor=moderado', \n",
    "                   'categoria_valor=caro', 'categoria_valor=muito_caro']\n",
    "\n",
    "results = []\n",
    "\n",
    "for support in param_grid['min_support']:\n",
    "    # Gerar itemsets frequentes\n",
    "    fi = apriori(df_encoded, min_support=support, use_colnames=True)\n",
    "    \n",
    "    for threshold in param_grid['min_threshold']:\n",
    "        # Gerar regras\n",
    "        r = association_rules(fi, metric=\"confidence\", min_threshold=threshold)\n",
    "        \n",
    "        # Filtrar regras relevantes\n",
    "        r = r[r['consequents'].apply(lambda x: any(item in valor_categories for item in x))]\n",
    "        \n",
    "        if not r.empty:\n",
    "            results.append({\n",
    "                'min_support': support,\n",
    "                'min_threshold': threshold,\n",
    "                'num_rules': len(r),\n",
    "                'avg_lift': r['lift'].mean(),\n",
    "                'max_lift': r['lift'].max()\n",
    "            })\n",
    "\n",
    "# Analisar resultados dos parâmetros\n",
    "param_results = pd.DataFrame(results)\n",
    "print(\"\\nResultados dos diferentes parâmetros:\")\n",
    "display(param_results.sort_values('avg_lift', ascending=False))"
   ]
  },
  {
   "cell_type": "markdown",
   "metadata": {
    "application/vnd.databricks.v1+cell": {
     "cellMetadata": {
      "byteLimit": 2048000,
      "rowLimit": 10000
     },
     "inputWidgets": {},
     "nuid": "1228f95e-36d9-49f7-89a1-db516f759abc",
     "showTitle": false,
     "tableResultSettingsMap": {},
     "title": ""
    }
   },
   "source": [
    "## Procurando regras de Associaçao"
   ]
  },
  {
   "cell_type": "code",
   "execution_count": 0,
   "metadata": {
    "application/vnd.databricks.v1+cell": {
     "cellMetadata": {
      "byteLimit": 2048000,
      "rowLimit": 10000
     },
     "inputWidgets": {},
     "nuid": "666219b7-7edb-4afc-89a3-d06b7a3236c3",
     "showTitle": false,
     "tableResultSettingsMap": {},
     "title": ""
    }
   },
   "outputs": [],
   "source": [
    "frequent_itemsets = apriori(df_encoded, min_support=0.05, use_colnames=True)\n",
    "frequent_itemsets['length'] = frequent_itemsets['itemsets'].apply(lambda x: len(x))"
   ]
  },
  {
   "cell_type": "code",
   "execution_count": 0,
   "metadata": {
    "application/vnd.databricks.v1+cell": {
     "cellMetadata": {
      "byteLimit": 2048000,
      "rowLimit": 10000
     },
     "inputWidgets": {},
     "nuid": "52603707-e5cb-4c7d-a4ea-346e0d8a3ad3",
     "showTitle": false,
     "tableResultSettingsMap": {},
     "title": ""
    }
   },
   "outputs": [],
   "source": [
    "# itemsets mais frequentes\n",
    "print(\"Itemsets mais frequentes:\")\n",
    "print(frequent_itemsets.sort_values('support', ascending=False).head(10))\n",
    "\n",
    "print(\"\\nDistribuição por tamanho de itemset:\")\n",
    "print(frequent_itemsets['length'].value_counts())\n",
    "\n",
    "# itemsets com 2+ itens para encontrar associações\n",
    "itemsets_interessantes = frequent_itemsets[frequent_itemsets['length'] >= 2]"
   ]
  },
  {
   "cell_type": "code",
   "execution_count": 0,
   "metadata": {
    "application/vnd.databricks.v1+cell": {
     "cellMetadata": {
      "byteLimit": 2048000,
      "rowLimit": 10000
     },
     "inputWidgets": {},
     "nuid": "cf97f6a4-48bf-43e7-818a-3a72f580ebe9",
     "showTitle": false,
     "tableResultSettingsMap": {},
     "title": ""
    }
   },
   "outputs": [],
   "source": [
    "rules = association_rules(frequent_itemsets, metric=\"confidence\", min_threshold=0.7)\n",
    "\n",
    "rules_valor = rules[rules['consequents'].apply(lambda x: any(item in valor_categories for item in x))]"
   ]
  },
  {
   "cell_type": "code",
   "execution_count": 0,
   "metadata": {
    "application/vnd.databricks.v1+cell": {
     "cellMetadata": {
      "byteLimit": 2048000,
      "rowLimit": 10000
     },
     "inputWidgets": {},
     "nuid": "5198d2af-7f65-4e30-87b0-b06d8e5d53c2",
     "showTitle": false,
     "tableResultSettingsMap": {},
     "title": ""
    }
   },
   "outputs": [],
   "source": [
    "def analisar_categoria(rules, categoria):\n",
    "    cat_rules = rules[rules['consequents'].apply(lambda x: f'categoria_valor={categoria}' in x)]\n",
    "    \n",
    "    cat_rules = cat_rules.sort_values(['lift', 'confidence'], ascending=[False, False])\n",
    "    \n",
    "    print(f\"\\n{'='*60}\")\n",
    "    print(f\"REGRAS MAIS FORTES PARA: {categoria.upper()}\")\n",
    "    print(f\"{'='*60}\")\n",
    "    \n",
    "    for idx, (_, rule) in enumerate(cat_rules.head(10).iterrows(), 1):\n",
    "        # Processar antecedentes\n",
    "        antecedentes = []\n",
    "        for item in rule['antecedents']:\n",
    "            if '=' in item:\n",
    "                var, val = item.split('=', 1)\n",
    "                antecedentes.append(f\"{var}={val}\")\n",
    "            else:\n",
    "                antecedentes.append(item)\n",
    "        \n",
    "        # Processar consequente\n",
    "        consequente = list(rule['consequents'])[0].split('=')[1]\n",
    "        \n",
    "        print(f\"\\nRegra #{idx}:\")\n",
    "        print(\"SE\", \" E \".join(antecedentes))\n",
    "        print(\"ENTÃO\", consequente)\n",
    "        print(f\"Suporte: {rule['support']:.3f} | Confiança: {rule['confidence']:.3f} | Lift: {rule['lift']:.3f}\")\n",
    "        print(\"-\"*50)\n",
    "\n",
    "    return cat_rules"
   ]
  },
  {
   "cell_type": "code",
   "execution_count": 0,
   "metadata": {
    "application/vnd.databricks.v1+cell": {
     "cellMetadata": {
      "byteLimit": 2048000,
      "rowLimit": 10000
     },
     "inputWidgets": {},
     "nuid": "fe18d69c-42fd-4d34-946d-3e6fb7912ef4",
     "showTitle": false,
     "tableResultSettingsMap": {},
     "title": ""
    }
   },
   "outputs": [],
   "source": [
    "rules_barato = analisar_categoria(rules_valor, 'barato')\n",
    "rules_moderado = analisar_categoria(rules_valor, 'moderado')\n",
    "rules_caro = analisar_categoria(rules_valor, 'caro')\n",
    "rules_muito_caro = analisar_categoria(rules_valor, 'muito_caro')"
   ]
  },
  {
   "cell_type": "code",
   "execution_count": 0,
   "metadata": {
    "application/vnd.databricks.v1+cell": {
     "cellMetadata": {
      "byteLimit": 2048000,
      "rowLimit": 10000
     },
     "inputWidgets": {},
     "nuid": "c2cdac5a-0db9-47fc-bbb4-4c23c9dde7ad",
     "showTitle": false,
     "tableResultSettingsMap": {},
     "title": ""
    }
   },
   "outputs": [],
   "source": [
    "plt.style.use('seaborn')\n",
    "sns.set_palette(\"husl\")\n",
    "\n",
    "# Gráfico de dispersão para as regras\n",
    "plt.figure(figsize=(12, 8))\n",
    "scatter = sns.scatterplot(\n",
    "    data=rules_valor,\n",
    "    x='support',\n",
    "    y='confidence',\n",
    "    hue='consequents',\n",
    "    size='lift',\n",
    "    sizes=(20, 200),\n",
    "    alpha=0.7\n",
    ")\n",
    "plt.title('Relação entre Suporte e Confiança das Regras por Categoria de Valor\\n(Tamanho pelo Lift)', fontsize=14)\n",
    "plt.xlabel('Suporte', fontsize=12)\n",
    "plt.ylabel('Confiança', fontsize=12)\n",
    "plt.legend(bbox_to_anchor=(1.05, 1), loc='upper left')\n",
    "plt.tight_layout()\n",
    "plt.show()"
   ]
  },
  {
   "cell_type": "code",
   "execution_count": 0,
   "metadata": {
    "application/vnd.databricks.v1+cell": {
     "cellMetadata": {
      "byteLimit": 2048000,
      "rowLimit": 10000
     },
     "inputWidgets": {},
     "nuid": "fee040fc-74c0-4240-bc77-ba76b6b9d6d2",
     "showTitle": false,
     "tableResultSettingsMap": {},
     "title": ""
    }
   },
   "outputs": [],
   "source": [
    "top_rules = rules_valor.sort_values('lift', ascending=False).head(10)\n",
    "top_rules = top_rules.drop_duplicates(subset=['antecedents', 'consequents'])\n",
    "\n",
    "top_rules['regra_completa'] = top_rules.apply(\n",
    "    lambda row: \" → \".join([\n",
    "        ', '.join(sorted(row['antecedents'])), \n",
    "        list(row['consequents'])[0]\n",
    "    ]), \n",
    "    axis=1\n",
    ")\n",
    "\n",
    "top_rules = top_rules.drop_duplicates(subset=['regra_completa'])\n",
    "\n",
    "top_rules = top_rules.sort_values('lift', ascending=False).head(8)\n",
    "\n",
    "plt.figure(figsize=(14, 8))\n",
    "ax = plt.subplot()\n",
    "\n",
    "bars = ax.barh(\n",
    "    y=top_rules['regra_completa'],\n",
    "    width=top_rules['lift'],\n",
    "    color='#3498db',\n",
    "    height=0.7,\n",
    "    edgecolor='none'\n",
    ")\n",
    "\n",
    "plt.suptitle('Principais Regras de Associaçao Cliente vs Valor',\n",
    "             x=0.3, \n",
    "             y=0.98,\n",
    "             fontsize=20,\n",
    "             fontweight='bold',\n",
    "             ha='center')\n",
    "\n",
    "ax.set_xlabel('Multiplicador de Eficácia (Lift)', fontsize=14)\n",
    "ax.set_yticks(range(len(top_rules)))\n",
    "ax.set_yticklabels(top_rules['regra_completa'], fontsize=12)\n",
    "ax.invert_yaxis()\n",
    "\n",
    "for bar in bars:\n",
    "    width = bar.get_width()\n",
    "    ax.text(\n",
    "        width + 0.2, \n",
    "        bar.get_y() + bar.get_height()/2, \n",
    "        f'{width:.2f}x', \n",
    "        va='center', \n",
    "        ha='left',\n",
    "        fontsize=12,\n",
    "        color='#2c3e50'\n",
    "    )\n",
    "\n",
    "plt.subplots_adjust(left=0.45, right=0.85)\n",
    "plt.box(False)\n",
    "plt.show()"
   ]
  },
  {
   "cell_type": "markdown",
   "metadata": {
    "application/vnd.databricks.v1+cell": {
     "cellMetadata": {
      "byteLimit": 2048000,
      "rowLimit": 10000
     },
     "inputWidgets": {},
     "nuid": "d986bd61-6965-49d9-ba42-7813047ad0ec",
     "showTitle": false,
     "tableResultSettingsMap": {},
     "title": ""
    }
   },
   "source": [
    "# Feechando o dataframe"
   ]
  },
  {
   "cell_type": "code",
   "execution_count": 0,
   "metadata": {
    "application/vnd.databricks.v1+cell": {
     "cellMetadata": {
      "byteLimit": 2048000,
      "rowLimit": 10000
     },
     "inputWidgets": {},
     "nuid": "7d93b61a-39ba-450d-a7dd-3e07840f9b54",
     "showTitle": false,
     "tableResultSettingsMap": {},
     "title": ""
    }
   },
   "outputs": [],
   "source": [
    "df.head()"
   ]
  },
  {
   "cell_type": "code",
   "execution_count": 0,
   "metadata": {
    "application/vnd.databricks.v1+cell": {
     "cellMetadata": {
      "byteLimit": 2048000,
      "rowLimit": 10000
     },
     "inputWidgets": {},
     "nuid": "1f0c4728-80f0-41a0-82e2-e76454071386",
     "showTitle": false,
     "tableResultSettingsMap": {},
     "title": ""
    }
   },
   "outputs": [],
   "source": [
    "metadata = pd.DataFrame({\n",
    "    'variavel': df.columns,\n",
    "    'tipo': df.dtypes.astype(str),\n",
    "    'percentual_nulos': percent_nulls(df),\n",
    "    'valores_unicos': unique_values(df),\n",
    "    'percentual_zeros': percent_zeros(df)\n",
    "})\n",
    "\n",
    "metadata.reset_index(drop=True, inplace=True)\n",
    "\n",
    "display(metadata)\n",
    "# metadata.to_csv('artifacts/metadata.csv', index=False)"
   ]
  },
  {
   "cell_type": "code",
   "execution_count": 0,
   "metadata": {
    "application/vnd.databricks.v1+cell": {
     "cellMetadata": {},
     "inputWidgets": {},
     "nuid": "c1574ae1-669c-4884-bae9-a3c31b2c41d2",
     "showTitle": false,
     "tableResultSettingsMap": {},
     "title": ""
    }
   },
   "outputs": [],
   "source": []
  }
 ],
 "metadata": {
  "application/vnd.databricks.v1+notebook": {
   "computePreferences": null,
   "dashboards": [],
   "environmentMetadata": {
    "base_environment": "",
    "environment_version": "2"
   },
   "inputWidgetPreferences": null,
   "language": "python",
   "notebookMetadata": {
    "pythonIndentUnit": 4
   },
   "notebookName": "eda",
   "widgets": {}
  },
  "language_info": {
   "name": "python"
  }
 },
 "nbformat": 4,
 "nbformat_minor": 0
}
