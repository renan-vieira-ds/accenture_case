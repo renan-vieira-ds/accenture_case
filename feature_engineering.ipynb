{
 "cells": [
  {
   "cell_type": "code",
   "execution_count": 0,
   "metadata": {
    "application/vnd.databricks.v1+cell": {
     "cellMetadata": {
      "byteLimit": 2048000,
      "rowLimit": 10000
     },
     "inputWidgets": {},
     "nuid": "620cde3b-87d3-440b-b5c9-6ec711b6d5ca",
     "showTitle": false,
     "tableResultSettingsMap": {},
     "title": ""
    }
   },
   "outputs": [],
   "source": [
    "import pandas as pd\n",
    "import numpy as np\n",
    "from unidecode import unidecode\n",
    "from sklearn.tree import DecisionTreeRegressor\n",
    "from functools import reduce\n",
    "from databricks.feature_engineering import FeatureEngineeringClient\n",
    "from pyspark.sql import SparkSession\n",
    "from pyspark.sql.utils import AnalysisException"
   ]
  },
  {
   "cell_type": "code",
   "execution_count": 0,
   "metadata": {
    "application/vnd.databricks.v1+cell": {
     "cellMetadata": {
      "byteLimit": 2048000,
      "rowLimit": 10000
     },
     "inputWidgets": {},
     "nuid": "c6e60a7f-330c-427e-b2b8-61fadab9e127",
     "showTitle": false,
     "tableResultSettingsMap": {},
     "title": ""
    }
   },
   "outputs": [],
   "source": [
    "def normalize_columns(df):\n",
    "    df.columns = [unidecode(col).strip().lower() for col in df.columns]\n",
    "    return df\n",
    "\n",
    "def normalize_text_values(df):\n",
    "    for col in df.select_dtypes(include='object').columns:\n",
    "        df[col] = df[col].apply(lambda x: unidecode(x).strip().lower() if isinstance(x, str) else x)\n",
    "    return df"
   ]
  },
  {
   "cell_type": "code",
   "execution_count": 0,
   "metadata": {
    "application/vnd.databricks.v1+cell": {
     "cellMetadata": {
      "byteLimit": 2048000,
      "rowLimit": 10000
     },
     "inputWidgets": {},
     "nuid": "6979a23f-b27b-4636-9307-e675efbe1086",
     "showTitle": false,
     "tableResultSettingsMap": {},
     "title": ""
    }
   },
   "outputs": [],
   "source": [
    "def features_numericas_combinadas(df, numericas):\n",
    "    aux = pd.DataFrame()\n",
    "    for i in range(len(numericas)):\n",
    "        for j in range(i + 1, len(numericas)):\n",
    "            col1, col2 = numericas[i], numericas[j]\n",
    "            aux[f'{col1}_x_{col2}'] = df[col1] * df[col2]\n",
    "            aux[f'{col1}_div_{col2}'] = df[col1] / df[col2].replace(0, np.nan)\n",
    "            aux[f'{col2}_div_{col1}'] = df[col2] / df[col1].replace(0, np.nan)\n",
    "    return pd.concat([df.matricula, aux], axis=1)\n",
    "\n",
    "def features_binarias_numericas_combinadas(df, binarias, numericas):\n",
    "    aux = pd.DataFrame()\n",
    "    for binaria in binarias:\n",
    "        for num in numericas:\n",
    "            aux[f'{binaria}_x_{num}'] = df[binaria] * df[num]\n",
    "    return pd.concat([df.matricula, aux], axis=1)\n",
    "\n",
    "def safe_str_convert(val):\n",
    "    return str(val) if pd.notnull(val) else np.nan\n",
    "\n",
    "def features_binarias_categoricas_combinadas(df, binarias, categoricas):\n",
    "    aux = pd.DataFrame()\n",
    "    for binaria in binarias:\n",
    "        for cat in categoricas:\n",
    "            aux[f'{binaria}_x_{cat}'] = df[binaria] * df[cat]\n",
    "    aux = aux.applymap(safe_str_convert)\n",
    "    return pd.concat([df.matricula, aux], axis=1)\n",
    "\n",
    "def features_binarias_combinadas(df, binarias):\n",
    "    aux = pd.DataFrame()\n",
    "    for i in range(len(binarias)):\n",
    "        for j in range(i + 1, len(binarias)):\n",
    "            aux[f'{binarias[i]}_x_{binarias[j]}'] = df[binarias[i]] * df[binarias[j]]\n",
    "    aux = aux.applymap(safe_str_convert)\n",
    "    return pd.concat([df.matricula, aux], axis=1)\n",
    "\n",
    "def features_binning(df, idade_bins):\n",
    "    aux = pd.DataFrame()\n",
    "\n",
    "    aux['cat_fumante'] = pd.cut(\n",
    "        df.fumante,\n",
    "        bins=[-np.inf, 0, 1],\n",
    "        labels=['nao', 'sim']\n",
    "    )\n",
    "    aux['cat_facebook'] = pd.cut(\n",
    "        df.facebook,\n",
    "        bins=[-np.inf, 0, 1],\n",
    "        labels=['nao', 'sim']\n",
    "    )\n",
    "    aux['cat_idade'] = pd.cut(\n",
    "        df.idade,\n",
    "        bins=[-np.inf]+idade_bins.Upper_Bound.to_list(),\n",
    "        labels=['jovem', 'jovem-adulto', 'adulto', 'senior']\n",
    "    )\n",
    "    aux['cat_imc'] = pd.cut(\n",
    "        df['imc'],\n",
    "        bins=[-float('inf'), 16, 16.9, 18.4, 24.9, 29.9, 34.9, 39.9, float('inf')],\n",
    "        labels=['magreza grave', 'magreza moderada', 'magreza leve', \n",
    "                'normal', 'sobrepeso', 'obesidade grau 1', 'obesidade severa', \n",
    "                'obesidade mórbida']\n",
    "    )\n",
    "    aux['cat_filhos'] = pd.cut(\n",
    "        df.filhos,\n",
    "        bins=[-np.inf, 0, 2, 3, 4],\n",
    "        labels=['nenhum', 'poucos', 'alguns', 'muitos']\n",
    "    )\n",
    "    aux['cat_regiao'] = df['regiao'].apply(safe_str_convert)\n",
    "    aux['cat_classe'] = df['classe'].apply(safe_str_convert)\n",
    "\n",
    "    return pd.concat([df.matricula, aux], axis=1)"
   ]
  },
  {
   "cell_type": "code",
   "execution_count": 0,
   "metadata": {
    "application/vnd.databricks.v1+cell": {
     "cellMetadata": {
      "byteLimit": 2048000,
      "rowLimit": 10000
     },
     "inputWidgets": {},
     "nuid": "54ee3796-f669-449e-ac7d-73ad0070c972",
     "showTitle": false,
     "tableResultSettingsMap": {},
     "title": ""
    }
   },
   "outputs": [],
   "source": [
    "def categorize_regression_bins(df, n_bins, target, numeric_var):\n",
    "    df = df.dropna(subset=[numeric_var, target])\n",
    "    \n",
    "    X = df[[numeric_var]]\n",
    "    y = df[target]\n",
    "\n",
    "    # Árvore rasa\n",
    "    tree = DecisionTreeRegressor(max_leaf_nodes=n_bins, random_state=42)\n",
    "    tree.fit(X, y)\n",
    "\n",
    "    leaf_ids = tree.apply(X)\n",
    "    temp_df = pd.DataFrame({\n",
    "        numeric_var: df[numeric_var],\n",
    "        \"Leaf\": leaf_ids,\n",
    "        target: y\n",
    "    })\n",
    "\n",
    "    result = temp_df.groupby(\"Leaf\").agg({\n",
    "        target: \"mean\",\n",
    "        numeric_var: [\"count\", \"min\", \"max\"]\n",
    "    }).reset_index()\n",
    "\n",
    "    result.columns = [\"Leaf\", \"Gasto_Medio\", \"Volume\", \"Lower_Bound\", \"Upper_Bound\"]\n",
    "\n",
    "    result = result.sort_values(by=\"Lower_Bound\").reset_index(drop=True)\n",
    "\n",
    "    # Corrigir sobreposição entre os limites\n",
    "    for i in range(1, len(result)):\n",
    "        result.at[i, \"Lower_Bound\"] = max(result.at[i, \"Lower_Bound\"], result.at[i - 1, \"Upper_Bound\"])\n",
    "\n",
    "    # Ajustar extremos\n",
    "    result.at[0, \"Lower_Bound\"] = -np.inf\n",
    "    result.at[len(result) - 1, \"Upper_Bound\"] = np.inf\n",
    "\n",
    "    return result"
   ]
  },
  {
   "cell_type": "code",
   "execution_count": 0,
   "metadata": {
    "application/vnd.databricks.v1+cell": {
     "cellMetadata": {
      "byteLimit": 2048000,
      "rowLimit": 10000
     },
     "inputWidgets": {},
     "nuid": "6547d1ca-b073-46b3-929d-0b115868f640",
     "showTitle": false,
     "tableResultSettingsMap": {},
     "title": ""
    }
   },
   "outputs": [],
   "source": [
    "df = pd.read_excel('data/Seguro Saúde - Modelagem.xlsx', sheet_name='MODELAGEM')\n",
    "\n",
    "df = normalize_columns(df)\n",
    "df = normalize_text_values(df)\n",
    "\n",
    "y = df[['matricula', 'valor']]\n",
    "\n",
    "df = df.drop(columns=['nascimento', 'valor'])\n",
    "\n",
    "display(df.head())\n",
    "display(y.head())"
   ]
  },
  {
   "cell_type": "code",
   "execution_count": 0,
   "metadata": {
    "application/vnd.databricks.v1+cell": {
     "cellMetadata": {
      "byteLimit": 2048000,
      "rowLimit": 10000
     },
     "inputWidgets": {},
     "nuid": "94f7efc1-f3f0-4d75-ba00-6ce82d154417",
     "showTitle": false,
     "tableResultSettingsMap": {},
     "title": ""
    }
   },
   "outputs": [],
   "source": [
    "# Detalhando as variáveis\n",
    "numericas = ['idade', 'imc', 'filhos']\n",
    "binarias = ['fumante', 'facebook'] # Na verdade, numérica \n",
    "categoricas = ['regiao', 'classe'] # Na verdade, numérica\n",
    "target = 'valor'\n",
    "\n",
    "df_base = df[['matricula'] + numericas + binarias + categoricas + ['sexo', 'signo']].copy()"
   ]
  },
  {
   "cell_type": "code",
   "execution_count": 0,
   "metadata": {
    "application/vnd.databricks.v1+cell": {
     "cellMetadata": {
      "byteLimit": 2048000,
      "rowLimit": 10000
     },
     "inputWidgets": {},
     "nuid": "85f95301-ace1-4fa5-8823-1a50b405619d",
     "showTitle": false,
     "tableResultSettingsMap": {},
     "title": ""
    }
   },
   "outputs": [],
   "source": [
    "df_feat1 = features_numericas_combinadas(df_base.copy(), numericas)\n",
    "display(df_feat1.head())"
   ]
  },
  {
   "cell_type": "code",
   "execution_count": 0,
   "metadata": {
    "application/vnd.databricks.v1+cell": {
     "cellMetadata": {
      "byteLimit": 2048000,
      "rowLimit": 10000
     },
     "inputWidgets": {},
     "nuid": "cc051efd-b8b0-4715-afd1-7f4b197a733d",
     "showTitle": false,
     "tableResultSettingsMap": {},
     "title": ""
    }
   },
   "outputs": [],
   "source": [
    "df_feat2 = features_binarias_numericas_combinadas(df_base.copy(), binarias, numericas)\n",
    "display(df_feat2.head())"
   ]
  },
  {
   "cell_type": "code",
   "execution_count": 0,
   "metadata": {
    "application/vnd.databricks.v1+cell": {
     "cellMetadata": {
      "byteLimit": 2048000,
      "rowLimit": 10000
     },
     "inputWidgets": {},
     "nuid": "ce6e7ae1-8f2b-4529-806f-2dbc28cf292a",
     "showTitle": false,
     "tableResultSettingsMap": {},
     "title": ""
    }
   },
   "outputs": [],
   "source": [
    "df_feat3 = features_binarias_categoricas_combinadas(df_base.copy(), binarias, categoricas)\n",
    "display(df_feat3.head())"
   ]
  },
  {
   "cell_type": "code",
   "execution_count": 0,
   "metadata": {
    "application/vnd.databricks.v1+cell": {
     "cellMetadata": {
      "byteLimit": 2048000,
      "rowLimit": 10000
     },
     "inputWidgets": {},
     "nuid": "ed16ec7d-0013-4e09-be1d-88b6c0fac87f",
     "showTitle": false,
     "tableResultSettingsMap": {},
     "title": ""
    }
   },
   "outputs": [],
   "source": [
    "df_feat4 = features_binarias_combinadas(df_base.copy(), binarias)\n",
    "display(df_feat4.head())"
   ]
  },
  {
   "cell_type": "code",
   "execution_count": 0,
   "metadata": {
    "application/vnd.databricks.v1+cell": {
     "cellMetadata": {
      "byteLimit": 2048000,
      "rowLimit": 10000
     },
     "inputWidgets": {},
     "nuid": "abc08c98-e2f9-42c5-95ba-79ac1f3fdc4e",
     "showTitle": false,
     "tableResultSettingsMap": {},
     "title": ""
    }
   },
   "outputs": [],
   "source": [
    "aux = pd.concat([df_base.copy(), y.valor], axis=1)\n",
    "idade_bins = categorize_regression_bins(aux, n_bins=4, target='valor', numeric_var='idade')\n",
    "display(idade_bins)"
   ]
  },
  {
   "cell_type": "code",
   "execution_count": 0,
   "metadata": {
    "application/vnd.databricks.v1+cell": {
     "cellMetadata": {
      "byteLimit": 2048000,
      "rowLimit": 10000
     },
     "inputWidgets": {},
     "nuid": "59b6778d-a13e-4e14-820d-d1746cf40cdc",
     "showTitle": false,
     "tableResultSettingsMap": {},
     "title": ""
    }
   },
   "outputs": [],
   "source": [
    "df_feat5 = features_binning(df_base.copy(), idade_bins)\n",
    "display(df_feat5.head())"
   ]
  },
  {
   "cell_type": "code",
   "execution_count": 0,
   "metadata": {
    "application/vnd.databricks.v1+cell": {
     "cellMetadata": {
      "byteLimit": 2048000,
      "rowLimit": 10000
     },
     "inputWidgets": {},
     "nuid": "f61ddfae-57b3-4ad1-b2a8-3aa796d2bb6d",
     "showTitle": false,
     "tableResultSettingsMap": {},
     "title": ""
    }
   },
   "outputs": [],
   "source": [
    "display(df_base.head())"
   ]
  },
  {
   "cell_type": "code",
   "execution_count": 0,
   "metadata": {
    "application/vnd.databricks.v1+cell": {
     "cellMetadata": {
      "byteLimit": 2048000,
      "rowLimit": 10000
     },
     "inputWidgets": {},
     "nuid": "7a89c6c1-37fd-40a9-9809-9c9d0786fe44",
     "showTitle": false,
     "tableResultSettingsMap": {},
     "title": ""
    }
   },
   "outputs": [],
   "source": [
    "df_base = df_base.drop(columns=['fumante', 'facebook', 'regiao', 'classe'])\n",
    "\n",
    "dfs = [df_base, df_feat1, df_feat2, df_feat3, df_feat4, df_feat5]\n",
    "\n",
    "x_engineered = reduce(lambda left,right: pd.merge(left,right,on='matricula',how='inner'), dfs)\n",
    "\n",
    "display(x_engineered.head())"
   ]
  },
  {
   "cell_type": "code",
   "execution_count": 0,
   "metadata": {
    "application/vnd.databricks.v1+cell": {
     "cellMetadata": {
      "byteLimit": 2048000,
      "rowLimit": 10000
     },
     "inputWidgets": {},
     "nuid": "48ab2bf4-1578-4d6c-b9f4-727ee143451b",
     "showTitle": false,
     "tableResultSettingsMap": {},
     "title": ""
    }
   },
   "outputs": [],
   "source": [
    "x_engineered.to_csv(\"data/x_enginneered.csv\", index=False)"
   ]
  },
  {
   "cell_type": "markdown",
   "metadata": {
    "application/vnd.databricks.v1+cell": {
     "cellMetadata": {},
     "inputWidgets": {},
     "nuid": "9b4d731f-fb73-4863-9212-9f7391e4eb68",
     "showTitle": false,
     "tableResultSettingsMap": {},
     "title": ""
    }
   },
   "source": [
    "\n",
    "# Tentando criar Feature Store"
   ]
  },
  {
   "cell_type": "code",
   "execution_count": 0,
   "metadata": {
    "application/vnd.databricks.v1+cell": {
     "cellMetadata": {
      "byteLimit": 2048000,
      "rowLimit": 10000
     },
     "inputWidgets": {},
     "nuid": "ecc0e220-ce27-4ab1-8ce2-cd6e36d434ef",
     "showTitle": false,
     "tableResultSettingsMap": {},
     "title": ""
    }
   },
   "outputs": [],
   "source": [
    "dfs = {\n",
    "    'df_base': {\n",
    "        'df': df_base,\n",
    "        'table_name': 'fs_base',\n",
    "        'description': 'Features originais'\n",
    "    }, \n",
    "    'df_feat1': {\n",
    "        'df': df_feat1,\n",
    "        'table_name': 'fs_numericas_combinadas',\n",
    "        'description': 'Features numéricas combinadas'\n",
    "    }, \n",
    "    'df_feat2': {\n",
    "        'df': df_feat2,\n",
    "        'table_name': 'fs_binarias_numericas_combinadas',\n",
    "        'description': 'Features binárias e numéricas combinadas'\n",
    "    }, \n",
    "    'df_feat3': {\n",
    "        'df': df_feat3,\n",
    "        'table_name': 'fs_binarias_categoricas_combinadas',\n",
    "        'description': 'Features binárias e categoricas combinadas'\n",
    "    },\n",
    "    'df_feat4': {\n",
    "        'df': df_feat4,\n",
    "        'table_name': 'fs_binarias_combinadas',\n",
    "        'description': 'Features binárias combinadas'\n",
    "    }, \n",
    "    'df_feat5': {\n",
    "        'df': df_feat5,\n",
    "        'table_name': 'fs_binning',\n",
    "        'description': 'Features categorizadas e quantizadas'\n",
    "    }\n",
    "}\n"
   ]
  },
  {
   "cell_type": "code",
   "execution_count": 0,
   "metadata": {
    "application/vnd.databricks.v1+cell": {
     "cellMetadata": {
      "byteLimit": 2048000,
      "rowLimit": 10000
     },
     "inputWidgets": {},
     "nuid": "cdaff490-0ffb-42c9-9340-8d0d97a55316",
     "showTitle": false,
     "tableResultSettingsMap": {},
     "title": ""
    }
   },
   "outputs": [],
   "source": [
    "fe = FeatureEngineeringClient()\n",
    "spark = SparkSession.getActiveSession()\n",
    "# bucket_path = \"s3a://databricks-accenture-case-workspace-stack-5e610-bucket/unity-catalog/feature_store/healthcare\"\n",
    "spark.sparkContext.setLogLevel(\"ERROR\")\n",
    "import traceback\n",
    "import re\n",
    "\n",
    "for df_name,df in dfs.items():\n",
    "    print(f'Criando tabela do {df_name}')\n",
    "    try:\n",
    "        df_spark = spark.createDataFrame(df['df'])\n",
    "\n",
    "        fe.create_table(\n",
    "            name=f'feature_store.healthcare.{df[\"table_name\"]}',\n",
    "            df=df_spark,\n",
    "            description=df['description'],\n",
    "            primary_keys=['matricula'],\n",
    "            schema=df_spark.schema\n",
    "        )\n",
    "\n",
    "        fe.write_table(\n",
    "            name=f'feature_store.healthcare.{df[\"table_name\"]}',\n",
    "            df=df_spark,\n",
    "            mode='merge'\n",
    "        )\n",
    "\n",
    "        print(f'Tabe;a {df[\"table_name\"]} criada e escrita com sucesso')\n",
    "    except AnalysisException as e:\n",
    "        print(f'[Erro Spark] Falha ao criar a tabela {df[\"table_name\"]}: {e}')\n",
    "    except Exception as e:\n",
    "        tb = traceback.format_exc().strip().split('\\n')\n",
    "        clean_msg = next((line for line in tb if not re.search(r'\\.py|\\.(scala|java):\\d+', line)), str(e))\n",
    "        print(f\"Erro ao criar a tabela `{df['table_name']}`: {clean_msg}\")"
   ]
  },
  {
   "cell_type": "markdown",
   "metadata": {
    "application/vnd.databricks.v1+cell": {
     "cellMetadata": {},
     "inputWidgets": {},
     "nuid": "5225ed0b-ff25-43bb-bfa1-3bb02f3405cd",
     "showTitle": false,
     "tableResultSettingsMap": {},
     "title": ""
    }
   },
   "source": [
    "\n",
    "#Conjunto de Teste"
   ]
  },
  {
   "cell_type": "code",
   "execution_count": 0,
   "metadata": {
    "application/vnd.databricks.v1+cell": {
     "cellMetadata": {
      "byteLimit": 2048000,
      "rowLimit": 10000
     },
     "inputWidgets": {},
     "nuid": "9e02472a-486d-49f4-95d2-d43ded5b7a18",
     "showTitle": false,
     "tableResultSettingsMap": {},
     "title": ""
    }
   },
   "outputs": [],
   "source": [
    "df_test = pd.read_excel('data/Seguro Saúde - Teste Final.xlsx')\n",
    "\n",
    "df_test = normalize_columns(df_test)\n",
    "df_test = normalize_text_values(df_test)\n",
    "\n",
    "y_test = df_test[['matricula', 'valor']]\n",
    "\n",
    "df_test = df_test.drop(columns=['nascimento', 'valor'])\n",
    "\n",
    "display(df_test.head())\n",
    "display(y_test.head())"
   ]
  },
  {
   "cell_type": "code",
   "execution_count": 0,
   "metadata": {
    "application/vnd.databricks.v1+cell": {
     "cellMetadata": {
      "byteLimit": 2048000,
      "rowLimit": 10000
     },
     "inputWidgets": {},
     "nuid": "52d5041e-f5e3-4aa2-a028-2c65271f5e76",
     "showTitle": false,
     "tableResultSettingsMap": {},
     "title": ""
    }
   },
   "outputs": [],
   "source": [
    "# Detalhando as variáveis\n",
    "numericas = ['idade', 'imc', 'filhos']\n",
    "binarias = ['fumante', 'facebook'] # Na verdade, numérica \n",
    "categoricas = ['regiao', 'classe'] # Na verdade, numérica\n",
    "target = 'valor'\n",
    "\n",
    "df_test_base = df_test[['matricula'] + numericas + binarias + categoricas + ['sexo', 'signo']].copy()"
   ]
  },
  {
   "cell_type": "code",
   "execution_count": 0,
   "metadata": {
    "application/vnd.databricks.v1+cell": {
     "cellMetadata": {
      "byteLimit": 2048000,
      "implicitDf": true,
      "rowLimit": 10000
     },
     "inputWidgets": {},
     "nuid": "3465d1ba-fa16-4c71-a28b-9e4ab6de4fa6",
     "showTitle": false,
     "tableResultSettingsMap": {},
     "title": ""
    }
   },
   "outputs": [],
   "source": [
    "df_test_feat1 = features_numericas_combinadas(df_test_base.copy(), numericas)\n",
    "display(df_test_feat1.head())\n"
   ]
  },
  {
   "cell_type": "code",
   "execution_count": 0,
   "metadata": {
    "application/vnd.databricks.v1+cell": {
     "cellMetadata": {
      "byteLimit": 2048000,
      "rowLimit": 10000
     },
     "inputWidgets": {},
     "nuid": "e8fffc56-a889-4097-b63f-45f99e6aa6a4",
     "showTitle": false,
     "tableResultSettingsMap": {},
     "title": ""
    }
   },
   "outputs": [],
   "source": [
    "df_test_feat2 = features_binarias_numericas_combinadas(df_test_base.copy(), binarias, numericas)\n",
    "display(df_test_feat2.head())"
   ]
  },
  {
   "cell_type": "code",
   "execution_count": 0,
   "metadata": {
    "application/vnd.databricks.v1+cell": {
     "cellMetadata": {
      "byteLimit": 2048000,
      "rowLimit": 10000
     },
     "inputWidgets": {},
     "nuid": "e42b6011-644c-4558-b2ee-23281282d2c4",
     "showTitle": false,
     "tableResultSettingsMap": {},
     "title": ""
    }
   },
   "outputs": [],
   "source": [
    "df_test_feat3 = features_binarias_categoricas_combinadas(df_test_base.copy(), binarias, categoricas)\n",
    "display(df_test_feat3.head())"
   ]
  },
  {
   "cell_type": "code",
   "execution_count": 0,
   "metadata": {
    "application/vnd.databricks.v1+cell": {
     "cellMetadata": {
      "byteLimit": 2048000,
      "rowLimit": 10000
     },
     "inputWidgets": {},
     "nuid": "36f8a996-6214-4e65-963b-e9dae9f3ac01",
     "showTitle": false,
     "tableResultSettingsMap": {},
     "title": ""
    }
   },
   "outputs": [],
   "source": [
    "df_test_feat4 = features_binarias_combinadas(df_test_base.copy(), binarias)\n",
    "display(df_test_feat4.head())"
   ]
  },
  {
   "cell_type": "code",
   "execution_count": 0,
   "metadata": {
    "application/vnd.databricks.v1+cell": {
     "cellMetadata": {
      "byteLimit": 2048000,
      "rowLimit": 10000
     },
     "inputWidgets": {},
     "nuid": "a328b893-8fa6-4215-9ef3-28cc057db70b",
     "showTitle": false,
     "tableResultSettingsMap": {},
     "title": ""
    }
   },
   "outputs": [],
   "source": [
    "aux = pd.concat([df_test_base.copy(), y_test.valor], axis=1)\n",
    "idade_bins = categorize_regression_bins(aux, n_bins=4, target='valor', numeric_var='idade')\n",
    "display(idade_bins)"
   ]
  },
  {
   "cell_type": "code",
   "execution_count": 0,
   "metadata": {
    "application/vnd.databricks.v1+cell": {
     "cellMetadata": {
      "byteLimit": 2048000,
      "rowLimit": 10000
     },
     "inputWidgets": {},
     "nuid": "1406b181-2e05-4741-84fe-95962a4e9072",
     "showTitle": false,
     "tableResultSettingsMap": {},
     "title": ""
    }
   },
   "outputs": [],
   "source": [
    "df_test_feat5 = features_binning(df_test_base.copy(), idade_bins)\n",
    "display(df_test_feat5.head())"
   ]
  },
  {
   "cell_type": "code",
   "execution_count": 0,
   "metadata": {
    "application/vnd.databricks.v1+cell": {
     "cellMetadata": {
      "byteLimit": 2048000,
      "rowLimit": 10000
     },
     "inputWidgets": {},
     "nuid": "4287c61b-09db-4d13-9fea-832261896735",
     "showTitle": false,
     "tableResultSettingsMap": {},
     "title": ""
    }
   },
   "outputs": [],
   "source": [
    "df_test_base = df_test_base.drop(columns=['fumante', 'facebook', 'regiao', 'classe'])\n",
    "\n",
    "dfs_test = [df_test_base, df_test_feat1, df_test_feat2, df_test_feat3, df_test_feat4, df_test_feat5]\n",
    "\n",
    "x_test_engineered = reduce(lambda left,right: pd.merge(left,right,on='matricula',how='inner'), dfs_test)\n",
    "\n",
    "display(x_test_engineered.head())"
   ]
  },
  {
   "cell_type": "code",
   "execution_count": 0,
   "metadata": {
    "application/vnd.databricks.v1+cell": {
     "cellMetadata": {
      "byteLimit": 2048000,
      "rowLimit": 10000
     },
     "inputWidgets": {},
     "nuid": "5df159cd-5d96-4df0-b40d-780777058c9d",
     "showTitle": false,
     "tableResultSettingsMap": {},
     "title": ""
    }
   },
   "outputs": [],
   "source": [
    "x_test_engineered.to_csv(\"data/x_test_enginneered.csv\", index=False)"
   ]
  }
 ],
 "metadata": {
  "application/vnd.databricks.v1+notebook": {
   "computePreferences": null,
   "dashboards": [],
   "environmentMetadata": {
    "base_environment": "",
    "environment_version": "2"
   },
   "inputWidgetPreferences": null,
   "language": "python",
   "notebookMetadata": {
    "mostRecentlyExecutedCommandWithImplicitDF": {
     "commandId": -1,
     "dataframes": [
      "_sqldf"
     ]
    },
    "pythonIndentUnit": 4
   },
   "notebookName": "feature_engineering",
   "widgets": {}
  },
  "language_info": {
   "name": "python"
  }
 },
 "nbformat": 4,
 "nbformat_minor": 0
}
