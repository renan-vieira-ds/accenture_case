{
 "cells": [
  {
   "cell_type": "markdown",
   "metadata": {
    "application/vnd.databricks.v1+cell": {
     "cellMetadata": {},
     "inputWidgets": {},
     "nuid": "406b8a40-606c-46cf-9e35-362dccc5000e",
     "showTitle": false,
     "tableResultSettingsMap": {},
     "title": ""
    }
   },
   "source": [
    "# Data Preparation\n",
    "\n",
    "O objetivo aqui é preparar os dados para o treinamento criando um pipeline fitado para o conjunto de treinamento que seja usado no conjunto de teste evitando vazamento de informaçoes de teste para o treinamento"
   ]
  },
  {
   "cell_type": "markdown",
   "metadata": {
    "application/vnd.databricks.v1+cell": {
     "cellMetadata": {},
     "inputWidgets": {},
     "nuid": "963b00a7-a71b-4b85-a1f7-046a0c0239f7",
     "showTitle": false,
     "tableResultSettingsMap": {},
     "title": ""
    }
   },
   "source": [
    "#Imports"
   ]
  },
  {
   "cell_type": "code",
   "execution_count": 0,
   "metadata": {
    "application/vnd.databricks.v1+cell": {
     "cellMetadata": {
      "byteLimit": 2048000,
      "rowLimit": 10000
     },
     "inputWidgets": {},
     "nuid": "e24f85ba-360f-4cb9-8941-501560609161",
     "showTitle": false,
     "tableResultSettingsMap": {},
     "title": ""
    }
   },
   "outputs": [],
   "source": [
    "import pandas as pd\n",
    "import numpy as np\n",
    "from unidecode import unidecode\n",
    "from sklearn.compose import ColumnTransformer\n",
    "from sklearn.pipeline import Pipeline\n",
    "from sklearn.preprocessing import StandardScaler, OneHotEncoder, FunctionTransformer\n",
    "from sklearn.impute import SimpleImputer\n",
    "from sklearn.base import BaseEstimator, TransformerMixin\n",
    "from sklearn.pipeline import FeatureUnion\n",
    "\n",
    "import joblib"
   ]
  },
  {
   "cell_type": "markdown",
   "metadata": {
    "application/vnd.databricks.v1+cell": {
     "cellMetadata": {},
     "inputWidgets": {},
     "nuid": "2673eda6-120e-4b68-9ffb-9c05a47713f6",
     "showTitle": false,
     "tableResultSettingsMap": {},
     "title": ""
    }
   },
   "source": [
    "#Funçoes"
   ]
  },
  {
   "cell_type": "code",
   "execution_count": 0,
   "metadata": {
    "application/vnd.databricks.v1+cell": {
     "cellMetadata": {
      "byteLimit": 2048000,
      "rowLimit": 10000
     },
     "inputWidgets": {},
     "nuid": "636fe811-0497-47ba-9b2a-c51e38eb5817",
     "showTitle": false,
     "tableResultSettingsMap": {},
     "title": ""
    }
   },
   "outputs": [],
   "source": [
    "def create_imputer(col):\n",
    "    strategy = IMPUTATION[col]\n",
    "    if isinstance(strategy, tuple):\n",
    "        return SimpleImputer(strategy=strategy[0], fill_value=strategy[1])\n",
    "    else:\n",
    "        return SimpleImputer(strategy=strategy)\n",
    "    \n",
    "def prepare_data(X):\n",
    "    X = X.copy()\n",
    "    for col in ['fumante', 'regiao', 'facebook', 'classe']:\n",
    "        if col in X.columns:\n",
    "            # Converter para float antes de categoria\n",
    "            X[col] = pd.to_numeric(X[col], errors='coerce').astype('category')\n",
    "    return X\n",
    "\n",
    "\n",
    "def is_binary(series):\n",
    "    return series.nunique() == 2"
   ]
  },
  {
   "cell_type": "code",
   "execution_count": 0,
   "metadata": {
    "application/vnd.databricks.v1+cell": {
     "cellMetadata": {
      "byteLimit": 2048000,
      "rowLimit": 10000
     },
     "inputWidgets": {},
     "nuid": "34716ccb-f359-43c9-97db-5c5178c8f719",
     "showTitle": false,
     "tableResultSettingsMap": {},
     "title": ""
    }
   },
   "outputs": [],
   "source": [
    "class SafeColumnTransformer(BaseEstimator, TransformerMixin):\n",
    "    def __init__(self, transformer, columns):\n",
    "        self.transformer = transformer\n",
    "        self.columns = columns\n",
    "        self.columns_present_fit_ = []\n",
    "\n",
    "    def fit(self, X, y=None):\n",
    "        self.columns_present_fit_ = [col for col in self.columns if col in X.columns]\n",
    "        if self.columns_present_fit_:\n",
    "            self.transformer.fit(X[self.columns_present_fit_], y)\n",
    "        return self\n",
    "\n",
    "    def transform(self, X):\n",
    "        # Garante que as colunas que existiam no fit estejam presentes\n",
    "        cols = self.columns_present_fit_\n",
    "        missing_cols = [col for col in cols if col not in X.columns]\n",
    "        \n",
    "        # Cria DataFrame com as colunas faltantes preenchidas com NaN\n",
    "        if missing_cols:\n",
    "            for col in missing_cols:\n",
    "                X[col] = np.nan\n",
    "        \n",
    "        # Ordena colunas conforme o fit\n",
    "        X_ordered = X[cols]\n",
    "\n",
    "        return self.transformer.transform(X_ordered)\n",
    "\n",
    "    def get_feature_names_out(self, input_features=None):\n",
    "        try:\n",
    "            return self.transformer.get_feature_names_out()\n",
    "        except AttributeError:\n",
    "            return np.array(self.columns_present_fit_)\n"
   ]
  },
  {
   "cell_type": "markdown",
   "metadata": {
    "application/vnd.databricks.v1+cell": {
     "cellMetadata": {},
     "inputWidgets": {},
     "nuid": "3a2a2530-917a-4662-8fea-740efbb4181a",
     "showTitle": false,
     "tableResultSettingsMap": {},
     "title": ""
    }
   },
   "source": [
    "#Lendo dados de treino"
   ]
  },
  {
   "cell_type": "code",
   "execution_count": 0,
   "metadata": {
    "application/vnd.databricks.v1+cell": {
     "cellMetadata": {
      "byteLimit": 2048000,
      "rowLimit": 10000
     },
     "inputWidgets": {},
     "nuid": "683118b9-c3b7-480f-874c-2258fb958acc",
     "showTitle": false,
     "tableResultSettingsMap": {},
     "title": ""
    }
   },
   "outputs": [],
   "source": [
    "df = pd.read_excel('data/Seguro Saúde - Modelagem.xlsx', sheet_name='MODELAGEM')\n",
    "\n",
    "# Função que deixa colunas minúsculas\n",
    "def normalize_columns(df):\n",
    "    df.columns = [unidecode(col).lower() for col in df.columns]\n",
    "    return df\n",
    "\n",
    "# Função para normalizar os valores das colunas de texto\n",
    "def normalize_text_values(df):\n",
    "    for col in df.select_dtypes(include=['object']).columns:\n",
    "        df[col] = df[col].apply(lambda x: unidecode(x).lower() if isinstance(x, str) else x)\n",
    "    return df\n",
    "\n",
    "df = normalize_columns(df)\n",
    "df = normalize_text_values(df)\n",
    "\n",
    "x_train = df.drop(columns=['nascimento', 'valor'])\n",
    "y_train = df[['matricula','valor']]\n",
    "\n",
    "display(x_train.head())\n",
    "display(y_train.head())"
   ]
  },
  {
   "cell_type": "markdown",
   "metadata": {
    "application/vnd.databricks.v1+cell": {
     "cellMetadata": {},
     "inputWidgets": {},
     "nuid": "7c818e7c-0ba9-4744-9dac-dfa264f6958b",
     "showTitle": false,
     "tableResultSettingsMap": {},
     "title": ""
    }
   },
   "source": [
    "#Criando Pipeline de data prep"
   ]
  },
  {
   "cell_type": "code",
   "execution_count": 0,
   "metadata": {
    "application/vnd.databricks.v1+cell": {
     "cellMetadata": {
      "byteLimit": 2048000,
      "rowLimit": 10000
     },
     "inputWidgets": {},
     "nuid": "dbdece2a-b630-4262-9f64-c4728d4cce48",
     "showTitle": false,
     "tableResultSettingsMap": {},
     "title": ""
    }
   },
   "outputs": [],
   "source": [
    "NUMERIC_COLS = ['idade', 'imc', 'filhos']\n",
    "CATEGORICAL_COLS = ['sexo', 'signo', 'fumante', 'regiao', 'facebook', 'classe']\n",
    "\n",
    "binary_cols = [col for col in CATEGORICAL_COLS if is_binary(x_train[col])]\n",
    "non_binary_cats = list(set(CATEGORICAL_COLS) - set(binary_cols))"
   ]
  },
  {
   "cell_type": "code",
   "execution_count": 0,
   "metadata": {
    "application/vnd.databricks.v1+cell": {
     "cellMetadata": {
      "byteLimit": 2048000,
      "rowLimit": 10000
     },
     "inputWidgets": {},
     "nuid": "9790e333-9624-4d0f-80c8-7defc0c1de76",
     "showTitle": false,
     "tableResultSettingsMap": {},
     "title": ""
    }
   },
   "outputs": [],
   "source": [
    "preprocessor = FeatureUnion(transformer_list=[\n",
    "    ('numeric', SafeColumnTransformer(\n",
    "        Pipeline([\n",
    "            ('imputer', SimpleImputer(strategy='median')),\n",
    "            ('scaler', StandardScaler())\n",
    "        ]), NUMERIC_COLS)),\n",
    "    \n",
    "    ('binary_cat', SafeColumnTransformer(\n",
    "        Pipeline([\n",
    "            ('imputer', SimpleImputer(strategy='most_frequent')),\n",
    "            ('onehot', OneHotEncoder(drop='first', sparse_output=False))\n",
    "        ]), binary_cols)),\n",
    "\n",
    "    ('nonbinary_cat', SafeColumnTransformer(\n",
    "        Pipeline([\n",
    "            ('imputer', SimpleImputer(strategy='most_frequent')),\n",
    "            ('onehot', OneHotEncoder(sparse_output=False))\n",
    "        ]), non_binary_cats)),\n",
    "])"
   ]
  },
  {
   "cell_type": "code",
   "execution_count": 0,
   "metadata": {
    "application/vnd.databricks.v1+cell": {
     "cellMetadata": {
      "byteLimit": 2048000,
      "rowLimit": 10000
     },
     "inputWidgets": {},
     "nuid": "42aa11b9-d549-4957-80a6-26a9653c02d4",
     "showTitle": false,
     "tableResultSettingsMap": {},
     "title": ""
    }
   },
   "outputs": [],
   "source": [
    "x_train_prepared = prepare_data(x_train)\n",
    "x_train_transformed = preprocessor.fit_transform(x_train_prepared)\n",
    "\n",
    "feature_names = preprocessor.get_feature_names_out()\n",
    "x_train_df = pd.DataFrame(x_train_transformed, columns=feature_names)\n",
    "display(x_train_df.head())"
   ]
  },
  {
   "cell_type": "markdown",
   "metadata": {
    "application/vnd.databricks.v1+cell": {
     "cellMetadata": {},
     "inputWidgets": {},
     "nuid": "4f3eeebf-e058-4fec-b5e3-75993caa939f",
     "showTitle": false,
     "tableResultSettingsMap": {},
     "title": ""
    }
   },
   "source": [
    "Os dados agora esta preparados para serem processados por qualquer tipo de algoritmo de machine learning.\n",
    "\n",
    "Agora queremos salvar este pipeline para que seja utilizado posteriormente nos dados de teste"
   ]
  },
  {
   "cell_type": "markdown",
   "metadata": {
    "application/vnd.databricks.v1+cell": {
     "cellMetadata": {},
     "inputWidgets": {},
     "nuid": "1a77f12b-e349-4c58-8a89-1aa29ccb72eb",
     "showTitle": false,
     "tableResultSettingsMap": {},
     "title": ""
    }
   },
   "source": [
    "#Salvando o pipeline e dados preparados"
   ]
  },
  {
   "cell_type": "code",
   "execution_count": 0,
   "metadata": {
    "application/vnd.databricks.v1+cell": {
     "cellMetadata": {
      "byteLimit": 2048000,
      "rowLimit": 10000
     },
     "inputWidgets": {},
     "nuid": "aca94fdc-0cd7-4ff4-ba83-4a04b962345e",
     "showTitle": false,
     "tableResultSettingsMap": {},
     "title": ""
    }
   },
   "outputs": [],
   "source": [
    "prepare_transformer = FunctionTransformer(prepare_data)\n",
    "\n",
    "full_pipeline = Pipeline(steps=[\n",
    "    ('prepare', prepare_transformer),\n",
    "    ('preprocess', preprocessor)\n",
    "])"
   ]
  },
  {
   "cell_type": "code",
   "execution_count": 0,
   "metadata": {
    "application/vnd.databricks.v1+cell": {
     "cellMetadata": {
      "byteLimit": 2048000,
      "rowLimit": 10000
     },
     "inputWidgets": {},
     "nuid": "f73edd8f-11e0-4f93-8895-dca37830c9b6",
     "showTitle": false,
     "tableResultSettingsMap": {},
     "title": ""
    }
   },
   "outputs": [],
   "source": [
    "full_pipeline.fit_transform(x_train)\n",
    "\n",
    "feature_names = full_pipeline.named_steps['preprocess'].get_feature_names_out()\n",
    "x_train_df = pd.DataFrame(x_train_transformed, columns=feature_names, index=x_train.index)\n",
    "display(x_train_df.head())"
   ]
  },
  {
   "cell_type": "code",
   "execution_count": 0,
   "metadata": {
    "application/vnd.databricks.v1+cell": {
     "cellMetadata": {
      "byteLimit": 2048000,
      "rowLimit": 10000
     },
     "inputWidgets": {},
     "nuid": "0c8d05b8-49a9-4527-8efe-71fc0ecaf855",
     "showTitle": false,
     "tableResultSettingsMap": {},
     "title": ""
    }
   },
   "outputs": [],
   "source": [
    "x_train_df.shape"
   ]
  },
  {
   "cell_type": "code",
   "execution_count": 0,
   "metadata": {
    "application/vnd.databricks.v1+cell": {
     "cellMetadata": {
      "byteLimit": 2048000,
      "rowLimit": 10000
     },
     "inputWidgets": {},
     "nuid": "8b0d5257-9dd5-4823-b3f6-3711481ac39d",
     "showTitle": false,
     "tableResultSettingsMap": {},
     "title": ""
    }
   },
   "outputs": [],
   "source": [
    "x_train_df = x_train_df.assign(matricula=x_train['matricula']).set_index('matricula').reset_index()\n",
    "display(x_train_df.head())\n",
    "x_train_df.to_parquet('data/x_train_prepared.parquet')"
   ]
  },
  {
   "cell_type": "code",
   "execution_count": 0,
   "metadata": {
    "application/vnd.databricks.v1+cell": {
     "cellMetadata": {
      "byteLimit": 2048000,
      "rowLimit": 10000
     },
     "inputWidgets": {},
     "nuid": "9410af07-ea86-4f36-bc4e-6f1f7699e0f8",
     "showTitle": false,
     "tableResultSettingsMap": {},
     "title": ""
    }
   },
   "outputs": [],
   "source": [
    "full_pipeline.fit(x_train)"
   ]
  },
  {
   "cell_type": "code",
   "execution_count": 0,
   "metadata": {
    "application/vnd.databricks.v1+cell": {
     "cellMetadata": {
      "byteLimit": 2048000,
      "rowLimit": 10000
     },
     "inputWidgets": {},
     "nuid": "0cac3331-231c-4f1f-aba3-5aa283569f50",
     "showTitle": false,
     "tableResultSettingsMap": {},
     "title": ""
    }
   },
   "outputs": [],
   "source": [
    "joblib.dump(full_pipeline, 'artifacts/pipeline_completo.pkl')"
   ]
  }
 ],
 "metadata": {
  "application/vnd.databricks.v1+notebook": {
   "computePreferences": null,
   "dashboards": [],
   "environmentMetadata": {
    "base_environment": "",
    "environment_version": "2"
   },
   "inputWidgetPreferences": null,
   "language": "python",
   "notebookMetadata": {
    "pythonIndentUnit": 4
   },
   "notebookName": "data_prep",
   "widgets": {}
  },
  "language_info": {
   "name": "python"
  }
 },
 "nbformat": 4,
 "nbformat_minor": 0
}
