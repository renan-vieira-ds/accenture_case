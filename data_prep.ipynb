{
 "cells": [
  {
   "cell_type": "markdown",
   "metadata": {
    "application/vnd.databricks.v1+cell": {
     "cellMetadata": {},
     "inputWidgets": {},
     "nuid": "406b8a40-606c-46cf-9e35-362dccc5000e",
     "showTitle": false,
     "tableResultSettingsMap": {},
     "title": ""
    }
   },
   "source": [
    "# Data Preparation\n",
    "\n",
    "O objetivo aqui é preparar os dados para o treinamento criando um pipeline fitado para o conjunto de treinamento que seja usado no conjunto de teste evitando vazamento de informaçoes de teste para o treinamento"
   ]
  },
  {
   "cell_type": "markdown",
   "metadata": {
    "application/vnd.databricks.v1+cell": {
     "cellMetadata": {},
     "inputWidgets": {},
     "nuid": "963b00a7-a71b-4b85-a1f7-046a0c0239f7",
     "showTitle": false,
     "tableResultSettingsMap": {},
     "title": ""
    }
   },
   "source": [
    "#Imports"
   ]
  },
  {
   "cell_type": "code",
   "execution_count": 0,
   "metadata": {
    "application/vnd.databricks.v1+cell": {
     "cellMetadata": {
      "byteLimit": 2048000,
      "rowLimit": 10000
     },
     "inputWidgets": {},
     "nuid": "e24f85ba-360f-4cb9-8941-501560609161",
     "showTitle": false,
     "tableResultSettingsMap": {},
     "title": ""
    }
   },
   "outputs": [],
   "source": [
    "import pandas as pd\n",
    "import numpy as np\n",
    "from unidecode import unidecode\n",
    "from sklearn.compose import ColumnTransformer\n",
    "from sklearn.pipeline import Pipeline\n",
    "from sklearn.preprocessing import StandardScaler, OneHotEncoder\n",
    "from sklearn.impute import SimpleImputer\n",
    "import joblib"
   ]
  },
  {
   "cell_type": "markdown",
   "metadata": {
    "application/vnd.databricks.v1+cell": {
     "cellMetadata": {},
     "inputWidgets": {},
     "nuid": "2673eda6-120e-4b68-9ffb-9c05a47713f6",
     "showTitle": false,
     "tableResultSettingsMap": {},
     "title": ""
    }
   },
   "source": [
    "#Funçoes"
   ]
  },
  {
   "cell_type": "code",
   "execution_count": 0,
   "metadata": {
    "application/vnd.databricks.v1+cell": {
     "cellMetadata": {
      "byteLimit": 2048000,
      "rowLimit": 10000
     },
     "inputWidgets": {},
     "nuid": "2f35d323-76d1-44a8-b2ab-b2cb723c33ed",
     "showTitle": false,
     "tableResultSettingsMap": {},
     "title": ""
    }
   },
   "outputs": [],
   "source": [
    "# Função que deixa colunas minúsculas\n",
    "def normalize_columns(df):\n",
    "    df.columns = [unidecode(col).lower() for col in df.columns]\n",
    "    return df\n",
    "\n",
    "# Função para normalizar os valores das colunas de texto\n",
    "def normalize_text_values(df):\n",
    "    for col in df.select_dtypes(include=['object']).columns:\n",
    "        df[col] = df[col].apply(lambda x: unidecode(x).lower() if isinstance(x, str) else x)\n",
    "    return df"
   ]
  },
  {
   "cell_type": "code",
   "execution_count": 0,
   "metadata": {
    "application/vnd.databricks.v1+cell": {
     "cellMetadata": {
      "byteLimit": 2048000,
      "rowLimit": 10000
     },
     "inputWidgets": {},
     "nuid": "93413ee9-a673-48b6-9a32-04fe9a253e34",
     "showTitle": false,
     "tableResultSettingsMap": {},
     "title": ""
    }
   },
   "outputs": [],
   "source": [
    "def percent_nulls(df):\n",
    "    return round(df.isnull().mean() * 100, 2)\n",
    "\n",
    "def unique_values(df):\n",
    "    return df.nunique()\n",
    "\n",
    "def percent_zeros(df):\n",
    "    return round((df == 0).mean() * 100, 2)\n",
    "\n",
    "def create_metadata(x_train):\n",
    "    '''\n",
    "    Criando metadados do conjunto de treino engenhado\n",
    "    '''\n",
    "    metadata = pd.DataFrame({\n",
    "        'variavel': x_train.columns,\n",
    "        'tipo': x_train.dtypes.astype(str),\n",
    "        'percentual_nulos': percent_nulls(x_train),\n",
    "        'valores_unicos': unique_values(x_train),\n",
    "        'percentual_zeros': percent_zeros(x_train)\n",
    "    })\n",
    "\n",
    "    return metadata.reset_index(drop=True, inplace=True)"
   ]
  },
  {
   "cell_type": "markdown",
   "metadata": {
    "application/vnd.databricks.v1+cell": {
     "cellMetadata": {},
     "inputWidgets": {},
     "nuid": "3a2a2530-917a-4662-8fea-740efbb4181a",
     "showTitle": false,
     "tableResultSettingsMap": {},
     "title": ""
    }
   },
   "source": [
    "#Lendo dados de treino"
   ]
  },
  {
   "cell_type": "markdown",
   "metadata": {
    "application/vnd.databricks.v1+cell": {
     "cellMetadata": {},
     "inputWidgets": {},
     "nuid": "f10aec1b-ab2b-449c-921a-644411abfde4",
     "showTitle": false,
     "tableResultSettingsMap": {},
     "title": ""
    }
   },
   "source": [
    "# Data Prep do x_enginneered"
   ]
  },
  {
   "cell_type": "code",
   "execution_count": 0,
   "metadata": {
    "application/vnd.databricks.v1+cell": {
     "cellMetadata": {
      "byteLimit": 2048000,
      "rowLimit": 10000
     },
     "inputWidgets": {},
     "nuid": "43f7ad86-ea88-4abf-8825-dd1757264301",
     "showTitle": false,
     "tableResultSettingsMap": {},
     "title": ""
    }
   },
   "outputs": [],
   "source": [
    "categ_cols = [\n",
    "    'sexo',\n",
    "    'signo',\n",
    "    'fumante_x_regiao',\n",
    "    'fumante_x_classe',\n",
    "    'facebook_x_regiao',\n",
    "    'facebook_x_classe',\n",
    "    'fumante_x_facebook',\n",
    "    'cat_fumante',\n",
    "    'cat_facebook',\n",
    "    'cat_idade',\n",
    "    'cat_imc',\n",
    "    'cat_filhos',\n",
    "    'cat_regiao',\n",
    "    'cat_classe'\n",
    "]"
   ]
  },
  {
   "cell_type": "code",
   "execution_count": 0,
   "metadata": {
    "application/vnd.databricks.v1+cell": {
     "cellMetadata": {
      "byteLimit": 2048000,
      "rowLimit": 10000
     },
     "inputWidgets": {},
     "nuid": "fe191c92-c305-49b2-8597-f2a5922ff123",
     "showTitle": false,
     "tableResultSettingsMap": {},
     "title": ""
    }
   },
   "outputs": [],
   "source": [
    "df = pd.read_excel('data/Seguro Saúde - Modelagem.xlsx', sheet_name='MODELAGEM')\n",
    "\n",
    "x_train = pd.read_csv('data/x_enginneered.csv', na_values=[\"nan\", \"NaN\", \"None\", \"\"])\n",
    "\n",
    "for col in categ_cols:\n",
    "    x_train[col] = x_train[col].astype('object')\n",
    "\n",
    "df = normalize_columns(df)\n",
    "df = normalize_text_values(df)\n",
    "\n",
    "y_train = df[['matricula','valor']]\n",
    "\n",
    "display(x_train.head())\n",
    "display(y_train.head())"
   ]
  },
  {
   "cell_type": "code",
   "execution_count": 0,
   "metadata": {
    "application/vnd.databricks.v1+cell": {
     "cellMetadata": {
      "byteLimit": 2048000,
      "rowLimit": 10000
     },
     "inputWidgets": {},
     "nuid": "1301a026-4496-45fe-a26e-7ec2c771565f",
     "showTitle": false,
     "tableResultSettingsMap": {},
     "title": ""
    }
   },
   "outputs": [],
   "source": [
    "metadata = create_metadata(x_train)\n",
    "\n",
    "display(metadata)"
   ]
  },
  {
   "cell_type": "code",
   "execution_count": 0,
   "metadata": {
    "application/vnd.databricks.v1+cell": {
     "cellMetadata": {
      "byteLimit": 2048000,
      "rowLimit": 10000
     },
     "inputWidgets": {},
     "nuid": "0bb926e1-5721-4536-a652-6b23bd15657d",
     "showTitle": false,
     "tableResultSettingsMap": {},
     "title": ""
    }
   },
   "outputs": [],
   "source": [
    "# Variáveis com base no metadata\n",
    "numericas = metadata.query(\"tipo == 'float64'\")[\"variavel\"].tolist()\n",
    "\n",
    "# Categóricas binárias: tipo object/category e apenas 2 valores únicos\n",
    "binarias = metadata.query(\"(tipo == 'object') and valores_unicos == 2\")[\"variavel\"].tolist()\n",
    "\n",
    "# Categóricas (mais de duas categorias)\n",
    "categoricas = metadata.query(\"(tipo == 'object') and valores_unicos > 2\")[\"variavel\"].tolist()\n",
    "\n",
    "print(f'Numéricas:\\n{numericas}')\n",
    "print(f'Binárias:\\n{binarias}')\n",
    "print(f'Categóricas:\\n{categoricas}')"
   ]
  },
  {
   "cell_type": "code",
   "execution_count": 0,
   "metadata": {
    "application/vnd.databricks.v1+cell": {
     "cellMetadata": {
      "byteLimit": 2048000,
      "rowLimit": 10000
     },
     "inputWidgets": {},
     "nuid": "b22ef629-e96b-4200-b38b-75f85d39e44a",
     "showTitle": false,
     "tableResultSettingsMap": {},
     "title": ""
    }
   },
   "outputs": [],
   "source": [
    "# Numéricas: mediana + scaler\n",
    "num_pipeline = Pipeline(steps=[\n",
    "    (\"imputer\", SimpleImputer(strategy=\"median\")),\n",
    "    (\"scaler\", StandardScaler())\n",
    "])\n",
    "\n",
    "# Categóricas binárias: most frequent + one-hot (drop first)\n",
    "bin_pipeline = Pipeline(steps=[\n",
    "    (\"imputer\", SimpleImputer(strategy=\"most_frequent\")),\n",
    "    (\"onehot\", OneHotEncoder(drop='first', sparse_output=False, handle_unknown='ignore'))\n",
    "])\n",
    "\n",
    "# Categóricas com múltiplos valores: most frequent + one-hot\n",
    "cat_pipeline = Pipeline(steps=[\n",
    "    (\"imputer\", SimpleImputer(strategy=\"most_frequent\")),\n",
    "    (\"onehot\", OneHotEncoder(sparse_output=False, handle_unknown='ignore'))\n",
    "])\n",
    "\n",
    "# Monta o pipeline completo com o ColumnTransformer\n",
    "full_pipeline = ColumnTransformer(transformers=[\n",
    "    (\"num\", num_pipeline, numericas),\n",
    "    (\"bin\", bin_pipeline, binarias),\n",
    "    (\"cat\", cat_pipeline, categoricas)\n",
    "])"
   ]
  },
  {
   "cell_type": "code",
   "execution_count": 0,
   "metadata": {
    "application/vnd.databricks.v1+cell": {
     "cellMetadata": {
      "byteLimit": 2048000,
      "rowLimit": 10000
     },
     "inputWidgets": {},
     "nuid": "617b5369-1fc7-48f7-ae24-52ba7b0b4df5",
     "showTitle": false,
     "tableResultSettingsMap": {},
     "title": ""
    }
   },
   "outputs": [],
   "source": [
    "x_enginneered_prepared = full_pipeline.fit_transform(x_train.drop(columns=[\"matricula\"]))"
   ]
  },
  {
   "cell_type": "code",
   "execution_count": 0,
   "metadata": {
    "application/vnd.databricks.v1+cell": {
     "cellMetadata": {
      "byteLimit": 2048000,
      "rowLimit": 10000
     },
     "inputWidgets": {},
     "nuid": "9d7aaf3e-9171-43bf-81bc-d2ec757bdf94",
     "showTitle": false,
     "tableResultSettingsMap": {},
     "title": ""
    }
   },
   "outputs": [],
   "source": [
    "feat_names = full_pipeline.get_feature_names_out()\n",
    "\n",
    "x_prepared_df = pd.DataFrame(x_enginneered_prepared, columns=feat_names, index=x_train.index)\n",
    "x_prepared_df = pd.concat([x_train['matricula'], x_prepared_df], axis=1)\n",
    "\n",
    "display(x_prepared_df.head())"
   ]
  },
  {
   "cell_type": "code",
   "execution_count": 0,
   "metadata": {
    "application/vnd.databricks.v1+cell": {
     "cellMetadata": {
      "byteLimit": 2048000,
      "rowLimit": 10000
     },
     "inputWidgets": {},
     "nuid": "60818e18-19b6-4c12-b3e4-b1addff7fd45",
     "showTitle": false,
     "tableResultSettingsMap": {},
     "title": ""
    }
   },
   "outputs": [],
   "source": [
    "print(x_prepared_df.shape)"
   ]
  },
  {
   "cell_type": "code",
   "execution_count": 0,
   "metadata": {
    "application/vnd.databricks.v1+cell": {
     "cellMetadata": {
      "byteLimit": 2048000,
      "rowLimit": 10000
     },
     "inputWidgets": {},
     "nuid": "7f74857f-507f-4ca6-b3db-3bc4e45a2a06",
     "showTitle": false,
     "tableResultSettingsMap": {},
     "title": ""
    }
   },
   "outputs": [],
   "source": [
    "joblib.dump(full_pipeline, 'artifacts/pipeline_engineered_features.pkl')"
   ]
  },
  {
   "cell_type": "code",
   "execution_count": 0,
   "metadata": {
    "application/vnd.databricks.v1+cell": {
     "cellMetadata": {
      "byteLimit": 2048000,
      "rowLimit": 10000
     },
     "inputWidgets": {},
     "nuid": "ddcc1819-9f1d-4b57-accc-2b74a40848d3",
     "showTitle": false,
     "tableResultSettingsMap": {},
     "title": ""
    }
   },
   "outputs": [],
   "source": [
    "x_prepared_df.to_parquet('data/x_prepared.parquet')"
   ]
  }
 ],
 "metadata": {
  "application/vnd.databricks.v1+notebook": {
   "computePreferences": null,
   "dashboards": [],
   "environmentMetadata": {
    "base_environment": "",
    "environment_version": "2"
   },
   "inputWidgetPreferences": null,
   "language": "python",
   "notebookMetadata": {
    "pythonIndentUnit": 4
   },
   "notebookName": "data_prep",
   "widgets": {}
  },
  "language_info": {
   "name": "python"
  }
 },
 "nbformat": 4,
 "nbformat_minor": 0
}
